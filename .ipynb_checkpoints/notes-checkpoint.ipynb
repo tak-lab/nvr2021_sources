{
 "cells": [
  {
   "cell_type": "markdown",
   "id": "5336079e-e60a-4527-8f72-93a7fa613b56",
   "metadata": {},
   "source": [
    "<center>\n",
    "\n",
    "# Julia言語を用いた精度保証付き数値計算の実践\n",
    "\n",
    "### 高安亮紀（筑波大学）\n",
    "\n",
    "#### 第5回 精度保証付き数値計算の実問題への応用研究集会 (NVR 2021)\n",
    "#### 2021年11月28日(日)\n",
    "</center>"
   ]
  },
  {
   "cell_type": "markdown",
   "id": "50e4fb5d-229b-4fd3-ba59-a48bbcf34a04",
   "metadata": {},
   "source": [
    "## Why Julia?\n",
    "\n",
    "- [Julia](https://julialang.org/)：新しいプログラミング言語でコンパイル型言語の高性能性と動的言語の俊敏性を組み合わせることに成功している\n",
    "- （JITで比較的）**速い**、**安い**（オープンソース）、**美味い**（割と何でも簡単にできる）\n",
    "- オープンソースのコミュニティが毎日色々なパッケージを開発していて、日々進化している\n",
    "- 個人的に気に入っていることは、手軽にパッケージを組み合わせてやりたい事ができる点（賛否両論あり）\n",
    "\n",
    "\n",
    "**注**　残念ながら、講演者はJuliaを語れるほど詳しくないので、言語の詳細は例えば以下の書籍等を参照いただきたい。\n",
    "\n",
    "1. [Bogumił Kamiński、Przemysław Szufel著、中田秀基訳「Juliaプログラミングクックブック ―言語仕様からデータ分析、機械学習、数値計算まで」、オライリージャパン、2019](https://www.oreilly.co.jp/books/9784873118895/)\n",
    "1. [進藤裕之、佐藤建太著「1から始める Juliaプログラミング」、コロナ社、2020](https://www.coronasha.co.jp/np/isbn/9784339029055/)\n",
    "1. [石井一夫著「基礎から学ぶJulia ~基本文法からデータサイエンスまで」、SCC Books、2021](https://www.scc-kk.co.jp/scc-books/b-418.html)"
   ]
  },
  {
   "cell_type": "markdown",
   "id": "b7b6b000-0a01-4e06-9378-3c1fe507e589",
   "metadata": {},
   "source": [
    "## 精度保証付き数値計算にJulia?\n",
    "\n",
    "精度保証付き数値計算のソフトウェアといったら…\n",
    "\n",
    "- MATLAB with [INTLAB](https://www.tuhh.de/ti3/rump/intlab/)\n",
    "- C++ with [kv](http://verifiedby.me/kv/)\n",
    "- C++ with [CAPD](http://capd.ii.uj.edu.pl/)\n",
    "- 他、[Languages for Interval Analysis](https://www.cs.utep.edu/interval-comp/intlang.html)や[Interval and Related Software](https://www.cs.utep.edu/interval-comp/intsoft.html)に一覧がある（随時更新されてるが、頻繁にサーバーが落ちる）\n",
    "\n",
    "今回はJuliaにある[IntervalArithmetic.jl](https://juliaintervals.github.io/IntervalArithmetic.jl/latest/intro/)というパッケージを使って、精度保証付き数値計算を実現する方法を紹介する。これは講演者が学生さんたちと進めている、「[Juliaで精度保証付き数値計算](https://taklab-blog.blogspot.com/2021/01/rigorous-numerics-julia.html)」プロジェクトの報告プラスαである。（少々プロ向けにしたつもり）\n"
   ]
  },
  {
   "cell_type": "markdown",
   "id": "ff0b928a-05bb-47c2-8ad9-891a9c406cae",
   "metadata": {},
   "source": [
    "### 「Juliaで精度保証付き数値計算」の目次\n",
    "\n",
    "まず、「[Juliaで精度保証付き数値計算](https://taklab-blog.blogspot.com/2021/01/rigorous-numerics-julia.html)」プロジェクトでは、以下のような目次で精度保証付き数値計算の実装例を紹介している。\n",
    "\n",
    "1. はじめに -間違える数値計算-（[nonrigorous_numerics.ipynb](https://www.risk.tsukuba.ac.jp/~takitoshi/tutorial/nonrigorous_numerics.html)）\n",
    "1. 整数・浮動小数点数（[floating-point.ipynb](https://www.risk.tsukuba.ac.jp/~takitoshi/tutorial/floating-point.html)）\n",
    "1. 丸め誤差・その他の誤差（[rounding-error.ipynb](https://www.risk.tsukuba.ac.jp/~takitoshi/tutorial/rounding-error.html)）\n",
    "1. 区間演算 -精度保証付き数値計算の入り口-（[interval-arithmetic.ipynb](https://www.risk.tsukuba.ac.jp/~takitoshi/tutorial/interval-arithmetic.html)）\n",
    "1. ベクトルの内積・行列ベクトル積・行列積の区間演算（[interval_dot-mul.ipynb](https://www.risk.tsukuba.ac.jp/~takitoshi/tutorial/interval_dot-mul.html)）\n",
    "1. 線型方程式の解の精度保証付き数値計算（[verifylss.ipynb](https://www.risk.tsukuba.ac.jp/~takitoshi/tutorial/verifylss.html)）\n",
    "1. 標準固有値問題の精度保証付き数値解法（[verifyalleig.ipynb](https://www.risk.tsukuba.ac.jp/~takitoshi/tutorial/verifyalleig.html)）\n",
    "1. 高速フーリエ変換の精度保証（[verifyfft.ipynb](https://www.risk.tsukuba.ac.jp/~takitoshi/tutorial/verifyfft.html)）\n",
    "1. 非線形方程式（[verifynlss.ipynb](https://www.risk.tsukuba.ac.jp/~takitoshi/tutorial/verifynlss.html)）\n",
    "1. Newton-Kantorovich型定理 (radii-polynomial approach)（[Newton-Kantorovich.ipynb](https://www.risk.tsukuba.ac.jp/~takitoshi/tutorial/Newton-Kantorovich.html)）\n",
    "\n",
    "これらは昨年度、学生さんとJuliaの使い方を勉強しながら実装したものである。今年度は\n",
    "\n",
    "- フーリエ級数（計算機で表現する方法）\n",
    "- 離散畳み込みの精度保証付き数値計算\n",
    "- 常微分方程式の周期解の数値検証\n",
    "- チェビシェフ級数、 etc.\n",
    "\n",
    "という項目を追加予定。今日はこれらの一部をピックアップして紹介する。"
   ]
  },
  {
   "cell_type": "markdown",
   "id": "30b39e6e-fcf5-40cf-a75f-09a28dadcf24",
   "metadata": {},
   "source": [
    "## 計算機環境\n",
    "\n",
    "今日の計算機環境は以下。"
   ]
  },
  {
   "cell_type": "code",
   "execution_count": 1,
   "id": "60527310-91ea-4f19-9248-663d861ba15b",
   "metadata": {},
   "outputs": [
    {
     "name": "stdout",
     "output_type": "stream",
     "text": [
      "Julia Version 1.6.3\n",
      "Commit ae8452a9e0 (2021-09-23 17:34 UTC)\n",
      "Platform Info:\n",
      "  OS: macOS (x86_64-apple-darwin19.5.0)\n",
      "  CPU: Apple M1\n",
      "  WORD_SIZE: 64\n",
      "  LIBM: libopenlibm\n",
      "  LLVM: libLLVM-11.0.1 (ORCJIT, westmere)\n"
     ]
    }
   ],
   "source": [
    "versioninfo()"
   ]
  },
  {
   "cell_type": "code",
   "execution_count": 2,
   "id": "849cc00c-581c-4428-aeaf-7197abcb5632",
   "metadata": {},
   "outputs": [
    {
     "name": "stdout",
     "output_type": "stream",
     "text": [
      "\u001b[32m\u001b[1m      Status\u001b[22m\u001b[39m `~/.julia/environments/v1.6/Project.toml`\n",
      " \u001b[90m [d1acc4aa] \u001b[39mIntervalArithmetic v0.19.2\n"
     ]
    }
   ],
   "source": [
    "using Pkg; Pkg.status(\"IntervalArithmetic\")"
   ]
  },
  {
   "cell_type": "markdown",
   "id": "f4ce145d-b888-47fc-9eb2-91b571e69202",
   "metadata": {},
   "source": [
    "## 準備\n",
    "\n",
    "精度保証付き数値計算を実行するために、Juliaで区間演算を使用する。IntervalArithmetic.jlパッケージを使うにはREPLで`]`を入力すると、パッケージモードになる。そこで\n",
    "\n",
    "```julia:\n",
    "(v1.x) pkg> add IntervalArithmetic\n",
    "```\n",
    "\n",
    "と入力して、インストールする。あるいはREPLで\n",
    "\n",
    "```julia:\n",
    "using Pkg\n",
    "Pkg.add(\"IntervalArithmetic\")\n",
    "```\n",
    "\n",
    "としてもインストールされる。インストールが完了したら、\n",
    "\n",
    "```julia:\n",
    "using IntervalArithmetic\n",
    "```\n",
    "\n",
    "としてパッケージを呼び出す。"
   ]
  },
  {
   "cell_type": "markdown",
   "id": "d1736b83-c56b-4aef-ae82-f47ecaa93979",
   "metadata": {},
   "source": [
    "---\n",
    "\n",
    "# 区間演算\n",
    "\n",
    "$\\mathbb{R}$上の区間を\n",
    "$$\n",
    "\t\\boldsymbol{a}:=\\{x\\in\\mathbb{R}:\\underline{a}\\le x\\le\\overline{a},~\\underline{a}, \\overline{a}\\in\\mathbb{R}\\}=[\\underline{a}, \\overline{a}]\n",
    "$$\n",
    "\n",
    "と表し，区間の全体を$\\mathbb{IR}$とする。\n",
    "この時 $\\underline{a}$ を区間の下端，$\\overline{a}$ を区間の上端という。\n",
    "さらに区間の\n",
    "\n",
    "$$\n",
    "\\begin{array}{ll}\n",
    "\\mbox{直径（diameter）:}&\\mathrm{d}(\\boldsymbol{a})=\\overline{a}-\\underline{a}\\in\\mathbb{R}\\\\\n",
    "\\mbox{半径（radious）:}&\\mathrm{rad}(\\boldsymbol{a})=\\frac{\\overline{a}-\\underline{a}}{2}\\in\\mathbb{R}\\\\\n",
    "\\mbox{中点（center）:}&\\mathrm{mid}(\\boldsymbol{a})=\\frac{\\overline{a}+\\underline{a}}{2}\\in\\mathbb{R}\\\\\n",
    "\\mbox{最小絶対値:}&\\mathrm{mig}(\\boldsymbol{a})=\\min\\{|a|:a\\in\\boldsymbol{a}\\}\\in\\mathbb{R}\\\\\n",
    "\\mbox{最大絶対値:}&\\mathrm{mag}(\\boldsymbol{a})=\\max\\{|a|:a\\in\\boldsymbol{a}\\}\\in\\mathbb{R}\\\\\n",
    "\\end{array}\n",
    "$$\n",
    "\n",
    "をそれぞれ表す。これを**上端下端型区間**という。一方で、区間を中心と半径で表す型もある。それを**中心半径型区間**という。中心半径型（mid-rad 型）区間は実数 $a\\in\\mathbb{R}$ に対して、区間の中心を $a_c$，半径を $a_r$ としたとき\n",
    "\n",
    "$$\n",
    "    \\boldsymbol{a}=\\langle a_c,a_r\\rangle=\\left\\{x:a_c-a_r\\le x\\le a_c+a_r\\right\\}\n",
    "$$\n",
    "\n",
    "と表される。中心半径型区間と上端下端型区間の間には次のような関係が成り立つ：\n",
    "\n",
    "$$\n",
    "    \\boldsymbol{a}=[\\underline{a},\\overline{a}]=[a_c-a_r,a_c+a_r]=\\left\\langle\\frac{\\underline{a}+\\overline{a}}{2},\\frac{\\underline{a}-\\overline{a}}{2}\\right\\rangle=\\langle a_c,a_r\\rangle=\\boldsymbol{a}.\n",
    "$$\n",
    "\n",
    "JuliaのIntervalArithmetic.jlを使うと以下のように実行できる。"
   ]
  },
  {
   "cell_type": "code",
   "execution_count": 3,
   "id": "ef9e6ff3-ba42-4bae-949d-f5bb5af47bee",
   "metadata": {},
   "outputs": [
    {
     "name": "stdout",
     "output_type": "stream",
     "text": [
      "a = [-2, 1]\n",
      "diam(a) = 3.0\n",
      "radius(a) = 1.5\n",
      "mid(a) = -0.5\n",
      "mig(a) = 0.0\n",
      "mag(a) = 2.0\n"
     ]
    },
    {
     "data": {
      "text/plain": [
       "2.0"
      ]
     },
     "execution_count": 3,
     "metadata": {},
     "output_type": "execute_result"
    }
   ],
   "source": [
    "using IntervalArithmetic\n",
    "\n",
    "a = interval(-2, 1)\n",
    "# a = -2. .. 1.    # .. operator\n",
    "# a = -0.5 ± 1.5\n",
    "@show a\n",
    "@show diam(a)\n",
    "@show radius(a)\n",
    "@show mid(a)\n",
    "@show mig(a)\n",
    "@show mag(a)\n",
    "\n",
    "# @format midpoint 3\n",
    "# @format full\n",
    "# @format standard 10\n",
    "# a"
   ]
  },
  {
   "cell_type": "markdown",
   "id": "e1db682a-f14c-4162-b64a-747d647f3678",
   "metadata": {},
   "source": [
    "## 区間演算（上端下端型）\n",
    "\n",
    "区間$\\boldsymbol{X}=[a,b]$, $\\boldsymbol{Y}=[c,d]$に対して、四則演算を定義する：\n",
    "\n",
    "\\begin{align*}\n",
    "\t\\boldsymbol{X}+\\boldsymbol{Y}&=[a+c,b+d]\\\\\n",
    "\t\\boldsymbol{X}-\\boldsymbol{Y}&=[a-d,b-c]\\\\\n",
    "\t\\boldsymbol{X}\\times\\boldsymbol{Y}&=[\\min\\{ac,ad,bc,bd\\},\\max\\{ac,ad,bc,bd\\}]\\\\\n",
    "\t\\boldsymbol{X}\\div\\boldsymbol{Y}&=[\\min\\{a/c,a/d,b/c,b/d\\},\\max\\{a/c,a/d,b/c,b/d\\}]\n",
    "\\end{align*}\n",
    "\n",
    "$\\times,~\\div$は場合分けをする。\n",
    "\n",
    "||$c>0$|$0\\in\\boldsymbol{Y}$|$d<0$|\n",
    "|:-------------:|:-------------:|:---------------:|:-------------:|\n",
    "|$a>0$|$[ac,bd]$|$[bc,bd]$|$[bc,ad]$|\n",
    "|$0\\in\\boldsymbol{X}$|$[ad,bd]$|$A$|$[bc,ac]$|\n",
    "|$b<0$|$[ad,bc]$|$[ad,ad]$|$[bd,ac]$|\n",
    "\n",
    "ただし $A=[\\min\\{ad,bc\\},\\max\\{ad,bc\\}]$."
   ]
  },
  {
   "cell_type": "code",
   "execution_count": 4,
   "id": "a6d43b40-ed5d-4dd3-bc02-dd79deef963c",
   "metadata": {},
   "outputs": [
    {
     "name": "stdout",
     "output_type": "stream",
     "text": [
      "X + Y = [-1, 4]\n",
      "X - Y = [-5, 0]\n",
      "X * Y = [-6, 3]\n",
      "X / Y = [-2, 1]\n"
     ]
    },
    {
     "data": {
      "text/plain": [
       "[-2, 1]"
      ]
     },
     "execution_count": 4,
     "metadata": {},
     "output_type": "execute_result"
    }
   ],
   "source": [
    "X = interval(-2, 1)\n",
    "Y = interval(1, 3)\n",
    "\n",
    "@show X+Y\n",
    "@show X-Y\n",
    "@show X*Y\n",
    "@show X/Y"
   ]
  },
  {
   "cell_type": "markdown",
   "id": "75a3007e-c329-484d-b498-3b8a950987ce",
   "metadata": {},
   "source": [
    "**注意**　浮動小数点数で表現できない数を使うときに注意が必要！例えば $0.1$ は浮動小数点数で表現できない典型例で、\n",
    "\n",
    "$$\n",
    "    \\displaystyle\\frac{1}{10}\\approx{\\color{red}{0.1000000000000000}}055511151231257827021181583404541015625.\n",
    "$$\n",
    "\n",
    "これを端点に持つ区間を考えると..."
   ]
  },
  {
   "cell_type": "code",
   "execution_count": 5,
   "id": "7899e8e1-8411-40da-83f9-0bc253507bd9",
   "metadata": {},
   "outputs": [
    {
     "name": "stdout",
     "output_type": "stream",
     "text": [
      "Interval(0.1, 0.1)"
     ]
    }
   ],
   "source": [
    "x = interval(0.1)\n",
    "showfull(x)"
   ]
  },
  {
   "cell_type": "markdown",
   "id": "4c9480e2-81ee-4ab1-83a6-16a2f30cb5d9",
   "metadata": {},
   "source": [
    "一見、問題なさそうだけど、"
   ]
  },
  {
   "cell_type": "code",
   "execution_count": 6,
   "id": "d6a015a0-b768-4bdc-aebd-b84ecbbeafc5",
   "metadata": {
    "tags": []
   },
   "outputs": [
    {
     "name": "stdout",
     "output_type": "stream",
     "text": [
      "Interval(0.1000000000000000055511151231257827021181583404541015625, 0.1000000000000000055511151231257827021181583404541015625)"
     ]
    }
   ],
   "source": [
    "showfull(big(x))"
   ]
  },
  {
   "cell_type": "markdown",
   "id": "e1a90a2d-eeca-4f7c-8e95-07cdcf0a88cf",
   "metadata": {},
   "source": [
    "数値 $0.1$ が含まれない！うっかり区間演算でこのような使い方をしないために、日頃から注意が必要！回避方法は"
   ]
  },
  {
   "cell_type": "code",
   "execution_count": 7,
   "id": "ce9b9f77-b6a1-465a-bd56-1515f6531924",
   "metadata": {},
   "outputs": [
    {
     "name": "stdout",
     "output_type": "stream",
     "text": [
      "Interval(0.09999999999999999, 0.1)"
     ]
    }
   ],
   "source": [
    "showfull(@interval \"0.1\")"
   ]
  },
  {
   "cell_type": "code",
   "execution_count": 8,
   "id": "68484a5d-154e-4c31-bbf8-a711873568fa",
   "metadata": {},
   "outputs": [
    {
     "name": "stdout",
     "output_type": "stream",
     "text": [
      "Interval(0.09999999999999999, 0.1)"
     ]
    }
   ],
   "source": [
    "showfull(@interval(0.1))"
   ]
  },
  {
   "cell_type": "code",
   "execution_count": 9,
   "id": "61bcf875-1f6a-49b1-b129-13dbda5951e5",
   "metadata": {},
   "outputs": [
    {
     "name": "stdout",
     "output_type": "stream",
     "text": [
      "Interval(0.09999999999999999, 0.1)"
     ]
    }
   ],
   "source": [
    "showfull(0.1..0.1) # IntervalArithmetic.atomic(Interval{Float64}, 0.1)"
   ]
  },
  {
   "cell_type": "code",
   "execution_count": 10,
   "id": "64855549-92db-465d-80e0-ed748f72beca",
   "metadata": {},
   "outputs": [
    {
     "name": "stdout",
     "output_type": "stream",
     "text": [
      "Interval(0.09999999999999999, 0.1)"
     ]
    }
   ],
   "source": [
    "showfull(0.1 ± 0.0)"
   ]
  },
  {
   "cell_type": "markdown",
   "id": "f8f9ed3f-249a-4bed-adb3-5ea836bcc55a",
   "metadata": {},
   "source": [
    "関数定義のときも、ついうっかりやらかしがち。。"
   ]
  },
  {
   "cell_type": "code",
   "execution_count": 11,
   "id": "ca2ab1ad-1935-473f-a610-a928e1a7c1ef",
   "metadata": {},
   "outputs": [
    {
     "name": "stdout",
     "output_type": "stream",
     "text": [
      "Interval(0.200000000000000011102230246251565404236316680908203125, 0.200000000000000011102230246251565404236316680908203125)"
     ]
    }
   ],
   "source": [
    "f(x) = 2x + 0.2\n",
    "showfull(big(f(0..0)))"
   ]
  },
  {
   "cell_type": "markdown",
   "id": "be279e01-d1ee-475a-ba0c-6b6e2f1d5814",
   "metadata": {
    "tags": []
   },
   "source": [
    "## 多倍長浮動小数点数を端点にもつ区間演算\n",
    "\n",
    "Juliaには32/64bit浮動小数点数だけでなく、[GNU MPFR library](https://www.mpfr.org/)のラッパーを使ったBigFloat型という任意精度浮動小数点数が実装されている。`setprecision`で仮数部のbit数を制御する（デフォルトは仮数部256bits、113bitsで四倍精度相当、106bitsでDD型(擬似四倍精度)相当、52bitsでFloat64相当）。指数部は環境依存だが64bit環境では64bit（おそらく）"
   ]
  },
  {
   "cell_type": "code",
   "execution_count": 12,
   "id": "86bff955-be9b-4111-8c4c-3363a91eac67",
   "metadata": {},
   "outputs": [
    {
     "data": {
      "text/plain": [
       "256"
      ]
     },
     "execution_count": 12,
     "metadata": {},
     "output_type": "execute_result"
    }
   ],
   "source": [
    "precision(BigFloat)"
   ]
  },
  {
   "cell_type": "markdown",
   "id": "e853d9c8-d0e1-4355-9f6c-83a75fda8287",
   "metadata": {},
   "source": [
    "BigFloat型の数値を端点にもつ区間を定義できる。"
   ]
  },
  {
   "cell_type": "code",
   "execution_count": 13,
   "id": "aa2dd40c-977c-43f0-8f04-b41b5982616d",
   "metadata": {},
   "outputs": [
    {
     "name": "stdout",
     "output_type": "stream",
     "text": [
      "Interval(0.09999999999999999999999999999999999999999999999999999999999999999999999999999914, 0.2000000000000000000000000000000000000000000000000000000000000000000000000000004)"
     ]
    }
   ],
   "source": [
    "showfull(@biginterval(0.1, 0.2))"
   ]
  },
  {
   "cell_type": "code",
   "execution_count": 14,
   "id": "df9db93c-7999-4e2d-b075-ee5baa37771a",
   "metadata": {},
   "outputs": [
    {
     "data": {
      "text/plain": [
       "(Float64, 256)"
      ]
     },
     "execution_count": 14,
     "metadata": {},
     "output_type": "execute_result"
    }
   ],
   "source": [
    "precision(Interval)"
   ]
  },
  {
   "cell_type": "code",
   "execution_count": 15,
   "id": "711d9663-f6af-4358-bbbe-a58f1da9bede",
   "metadata": {},
   "outputs": [
    {
     "name": "stdout",
     "output_type": "stream",
     "text": [
      "Interval(0.0999999999999999999999999999999997, 0.100000000000000000000000000000001)"
     ]
    }
   ],
   "source": [
    "setprecision(Interval, 106) # DD precision\n",
    "showfull(@interval(0.1))"
   ]
  },
  {
   "cell_type": "code",
   "execution_count": 16,
   "id": "962571b1-ce0c-4c91-8d2c-d9d96c3d372c",
   "metadata": {},
   "outputs": [
    {
     "data": {
      "text/plain": [
       "Float64"
      ]
     },
     "execution_count": 16,
     "metadata": {},
     "output_type": "execute_result"
    }
   ],
   "source": [
    "setprecision(Interval, Float64)"
   ]
  },
  {
   "cell_type": "markdown",
   "id": "dd67dfb5-fef2-45cb-b271-8044ac6e8742",
   "metadata": {},
   "source": [
    "## 丸めモードの制御\n",
    "\n",
    "区間演算をコンピュータで実現するには$\\mathbb{R}$の代わりに$\\mathbb{F}$を使った区間が必要。そのような区間全体を\n",
    "\n",
    "$$\n",
    "\t\\mathbb{IF}:=\\{\\boldsymbol{x}\\in\\mathbb{IR}: \\underline{x},~\\overline{x}\\in\\mathbb{F}\\}\n",
    "$$\n",
    "\n",
    "と定義する。IEEE754規格に準拠したシステム上では演算後の丸めの向きを制御することができる。\n",
    "演算結果が浮動小数点数でない場合、丸めの向きを制御して計算する。\n",
    "いま$a,b\\in\\mathbb{F}$に対して、$\\circ\\in\\{+,-,\\times,\\div\\}$として\n",
    "\n",
    "\\begin{align*}\n",
    "\t\\mathtt{fl}_{\\bigtriangledown}\\!\\left(a\\circ b\\right)&:=\\max\\{x\\in\\mathbb{F}:x\\le a\\circ b\\}\\mbox{（下向き丸め）}\\\\\n",
    "\t\\mathtt{fl}_{\\bigtriangleup}\\!\\left(a\\circ b\\right)&:=\\min\\{x\\in\\mathbb{F}:x\\ge a\\circ b\\}\\mbox{（上向き丸め）}\n",
    "\\end{align*}\n",
    "\n",
    "とすると\n",
    "\n",
    "$$\n",
    "\t\\mathtt{fl}_{\\bigtriangledown}\\!\\left(a\\circ b\\right)\\le a\\circ b\\le\\mathtt{fl}_{\\bigtriangleup}\\!\\left(a\\circ b\\right)\n",
    "$$\n",
    "\n",
    "が成立する。"
   ]
  },
  {
   "cell_type": "markdown",
   "id": "c8a57224-f970-49cf-a74b-277c25b2e0ea",
   "metadata": {
    "tags": []
   },
   "source": [
    "### 上向き／下向き丸めをJuliaでどう実装しているのか？\n",
    "\n",
    "Julia v1.0.5からFloat32/Float64で[**丸めの向きを制御できない**](https://github.com/JuliaLang/julia/pull/27166)という致命的な状況になった。\n",
    "\n",
    "現在は`setrounding(Interval, rounding_type::Symbol)`という関数で、区間演算の丸め制御の方法を選べる。`rounding_type::Symbol`は\n",
    "\n",
    "- `:fast`: [FastRounding.jl](https://github.com/JeffreySarnoff/FastRounding.jl)を使った方向付き丸めの実装（無誤差変換を使うエミュレーション）、速いが極端な入力に対して**バグがある**！\n",
    "- `:tight`: （デフォルト）柏木先生の「[最近点丸めのみによる方向付き丸めのエミュレート](http://verifiedby.me/kv/rounding/emu.pdf)」の実装、kvの`-DKV_NOHWROUND`オプションの実装に相当？\n",
    "- `:accurate`: `prevfloat`, `nextfloat` を使った丸めの実装、速いけど区間幅が大きくなる\n",
    "- `:slow`: 丸めの向きを変更する実装（BigFloatで53bitに指定して、`setrounding`を使ってる？）、遅い\n",
    "- `:none`: 丸めの向き変更なし（精度保証なし）、スピード比較のためのテスト用\n",
    "\n",
    "`:fast`モードは非正規化数を扱う際に[バグ](https://github.com/JuliaIntervals/IntervalArithmetic.jl/issues/215)があるので注意が必要。"
   ]
  },
  {
   "cell_type": "code",
   "execution_count": 17,
   "id": "ce713d99-963a-492c-b3ad-804230ae59ee",
   "metadata": {},
   "outputs": [
    {
     "data": {
      "text/plain": [
       "[0, 0]"
      ]
     },
     "execution_count": 17,
     "metadata": {},
     "output_type": "execute_result"
    }
   ],
   "source": [
    "setrounding(Interval,:fast)\n",
    "tiny = interval(0, floatmin())\n",
    "tiny * tiny\n",
    "# huge = interval(floatmax(), Inf)\n",
    "# huge * huge\n",
    "# huge / tiny\n",
    "# tiny / huge\n",
    "# setrounding(Interval,:tight)"
   ]
  },
  {
   "cell_type": "code",
   "execution_count": 18,
   "id": "a589b2b6-a602-44f3-b61d-989eb0f7ebb0",
   "metadata": {},
   "outputs": [
    {
     "data": {
      "text/plain": [
       ":tight"
      ]
     },
     "execution_count": 18,
     "metadata": {},
     "output_type": "execute_result"
    }
   ],
   "source": [
    "setrounding(Interval,:tight)"
   ]
  },
  {
   "cell_type": "markdown",
   "id": "c4ad317c-c88b-45b9-ba7d-526e712bf660",
   "metadata": {},
   "source": [
    "現在はデフォルトで`:tight`モードになっており、このバグは取れている。\n",
    "\n",
    "さらに、下で紹介する[IntervalMatrices.jl](https://github.com/JuliaReach/IntervalMatrices.jl), [IntervalLinearAlgebra.jl](https://github.com/JuliaIntervals/IntervalLinearAlgebra.jl)というパッケージを調べていたら、[IntervalArithmetic.jl](https://juliaintervals.github.io/IntervalArithmetic.jl/latest/intro/)をロードしておくと[SetRounding.jl](https://github.com/JuliaIntervals/SetRounding.jl)というパッケージを使って、方向付き丸めが実装されている（？）ことが分かった。\n",
    "\n",
    "```\n",
    "setrounding(Float64,RoundUp) do\n",
    "     #ここは上向き丸めで実行される #\n",
    "end\n",
    "\n",
    "setrounding(Float64,RoundDown) do\n",
    "    # ここは下向き丸めで実行される #\n",
    "end\n",
    "```"
   ]
  },
  {
   "cell_type": "code",
   "execution_count": 19,
   "id": "60172ddc-663a-483a-952a-2d6da053236f",
   "metadata": {},
   "outputs": [
    {
     "name": "stdout",
     "output_type": "stream",
     "text": [
      "xup = 0.020000000000000004\n",
      "xdown = 0.019999999999999993\n"
     ]
    },
    {
     "data": {
      "text/plain": [
       "true"
      ]
     },
     "execution_count": 19,
     "metadata": {},
     "output_type": "execute_result"
    }
   ],
   "source": [
    "xup = setrounding(Float64, RoundUp) do\n",
    "    parse(Float64, \"0.1\") * parse(Float64, \"0.2\")\n",
    "end\n",
    "\n",
    "xdown = setrounding(Float64, RoundDown) do\n",
    "    parse(Float64, \"0.1\") * parse(Float64, \"0.2\")\n",
    "end\n",
    "\n",
    "@show xup\n",
    "@show xdown\n",
    "xup ≥ xdown"
   ]
  },
  {
   "cell_type": "markdown",
   "id": "ce1dec88-d3ba-48d3-a1b1-b9fd4cf4311f",
   "metadata": {},
   "source": [
    "---\n",
    "\n",
    "#  ベクトルの内積・行列ベクトル積・行列積\n",
    "\n",
    "$\\mathbb{IF}$ を端点に浮動小数点数を用いた区間全体の集合とする。ここでは $x, y\\in\\mathbb{IF}^n$, $A, B\\in\\mathbb{IF}^{n\\times n}$ に対して、それぞれ $x^Ty \\subset \\alpha$, $Ax\\subset z$, $AB\\subset C$ となる\n",
    "\n",
    "$$\n",
    "\\alpha\\in\\mathbb{IF},\\quad z\\in\\mathbb{IF}^n,\\quad C\\in\\mathbb{IF}^{n\\times n}\n",
    "$$\n",
    "\n",
    "を求める方法を考える。\n",
    "\n",
    "## 素朴な方法\n",
    "\n",
    "最も素朴な方法は各演算を区間演算に変更した方式。\n",
    "\n",
    "$$\n",
    "    \\alpha = \\sum_{k = 1}^n x_ky_k\n",
    "$$\n",
    "\n",
    "$$\n",
    "    z_i = \\sum_{k = 1}^n A_{i,k}x_k\\quad (1\\le i\\le n)\n",
    "$$\n",
    "\n",
    "$$\n",
    "    C_{ij} = \\sum_{k=1}^n A_{i,k}B_{k,j}\\quad (1\\le i,j\\le n).\n",
    "$$\n",
    "\n",
    "IntervalArithmetic.jlパッケージで内積・行列ベクトル積・行列積を実行すると、この方法が実装されている。しかし、プログラムの最適化が難しく、計算機の性能を十分に引き出した実装が難しい（と思われていたがそうでもない？）。"
   ]
  },
  {
   "cell_type": "code",
   "execution_count": 20,
   "id": "e35ad794-4645-4dc5-b639-a234a88c4fd9",
   "metadata": {},
   "outputs": [
    {
     "name": "stdout",
     "output_type": "stream",
     "text": [
      "  77.084 μs (0 allocations: 0 bytes)\n"
     ]
    },
    {
     "data": {
      "text/plain": [
       "[-63.5462, -63.5461]"
      ]
     },
     "execution_count": 20,
     "metadata": {},
     "output_type": "execute_result"
    }
   ],
   "source": [
    "using IntervalArithmetic, BenchmarkTools\n",
    "\n",
    "n = 1000\n",
    "x = randn(n)\n",
    "y = randn(n)\n",
    "\n",
    "ix = map(Interval, x)\n",
    "iy = map(Interval, y)\n",
    "@btime alpha = dot($ix,$iy) # Level 1"
   ]
  },
  {
   "cell_type": "code",
   "execution_count": 21,
   "id": "eee65662-e60a-4379-92aa-8d4c1d2c2b51",
   "metadata": {},
   "outputs": [],
   "source": [
    "# ix = IntervalBox(ix)\n",
    "# iy = IntervalBox(iy)\n",
    "# @btime alpha = dot($ix,$iy) # Level 1"
   ]
  },
  {
   "cell_type": "markdown",
   "id": "861fc855-1529-400e-80cc-f7a58cb79e6e",
   "metadata": {},
   "source": [
    "**注意**　`BenchmarkTools`の`@btime`や`@benckmark`マクロを使うときは、\n",
    "``\n",
    "@btime A*B\n",
    "``\n",
    "とせずに\n",
    "``\n",
    "@btime $A*$B;\n",
    "``\n",
    "と変数名に`$`をつける。これは計測時間に変数の呼び出しを含めるか指定するもので、前者が「変数の呼び出し時間を含めた計測」、後者は「行列積の計算時間の計測」を意味している。"
   ]
  },
  {
   "cell_type": "code",
   "execution_count": 22,
   "id": "8c850957-79f9-4ab2-aa07-a41678c3ba35",
   "metadata": {},
   "outputs": [
    {
     "name": "stdout",
     "output_type": "stream",
     "text": [
      "  0.460462 seconds (1.93 M allocations: 76.246 MiB, 1.32% gc time, 82.09% compilation time)\n",
      "  0.081631 seconds (1 allocation: 15.750 KiB)\n",
      "  0.085226 seconds (18 allocations: 1.266 KiB, 1.26% compilation time)\n",
      "  0.456279 seconds (1.60 M allocations: 62.656 MiB, 2.15% gc time, 82.76% compilation time)\n",
      "  0.078524 seconds (1.00 k allocations: 102.000 KiB)\n",
      "iy ⊆ iz = true\n",
      "iz ⊆ iy = true\n",
      "iz2 ⊆ iy = true\n"
     ]
    },
    {
     "data": {
      "text/plain": [
       "true"
      ]
     },
     "execution_count": 22,
     "metadata": {},
     "output_type": "execute_result"
    }
   ],
   "source": [
    "using LinearAlgebra\n",
    "\n",
    "n = 1000\n",
    "A = randn(n,n)\n",
    "x = randn(n) \n",
    "\n",
    "iA = map(Interval, A)\n",
    "ix = map(Interval, x)\n",
    "iy = similar(ix)\n",
    "\n",
    "@time iz = iA * ix # Level 2\n",
    "@time iz = iA * ix # Level 2\n",
    "@time mul!(iy, iA, ix) # Level 2\n",
    "\n",
    "ix = IntervalBox(ix)\n",
    "@time iz2 = iA * ix # Level 2\n",
    "@time iz2 = iA * ix # Level 2\n",
    "\n",
    "@show iy ⊆ iz\n",
    "@show iz ⊆ iy\n",
    "@show iz2 ⊆ iy"
   ]
  },
  {
   "cell_type": "code",
   "execution_count": 23,
   "id": "f05f7401-1442-4c21-bda9-8629167a3e4a",
   "metadata": {},
   "outputs": [
    {
     "name": "stdout",
     "output_type": "stream",
     "text": [
      "  2.314 s (8 allocations: 1.37 MiB)\n"
     ]
    }
   ],
   "source": [
    "n = 300\n",
    "A = randn(n,n)\n",
    "B = randn(n,n)\n",
    "\n",
    "iA = map(Interval, A)\n",
    "iB = map(Interval, B)\n",
    "\n",
    "@btime $iA * $iB;  # Level 3"
   ]
  },
  {
   "cell_type": "markdown",
   "id": "4d7c20fa-3e2b-47fc-b41b-632b7fb4aec3",
   "metadata": {},
   "source": [
    "ここまでは想定通り。最近[IntervalMatrices.jl](https://github.com/JuliaReach/IntervalMatrices.jl)というパッケージを発見して、これを使うと速い。"
   ]
  },
  {
   "cell_type": "code",
   "execution_count": 24,
   "id": "83621d4a-aac9-438b-bda3-22e2fb6bd006",
   "metadata": {},
   "outputs": [
    {
     "name": "stdout",
     "output_type": "stream",
     "text": [
      "  5.090 ms (58 allocations: 16.48 MiB)\n"
     ]
    }
   ],
   "source": [
    "using IntervalMatrices\n",
    "\n",
    "iA = IntervalMatrix(iA)\n",
    "iB = IntervalMatrix(iB)\n",
    "\n",
    "@btime $iA * $iB;  # Level 3"
   ]
  },
  {
   "cell_type": "markdown",
   "id": "9fdd0780-da81-43a3-a8da-b1940f76b6d0",
   "metadata": {},
   "source": [
    "「Juliaで精度保証付き数値計算」の[内積・行列ベクトル積・行列積のページ](https://www.risk.tsukuba.ac.jp/~takitoshi/tutorial/interval_dot-mul.html)で実装したBLASを使う行列積と比較すると、BLASがそこまで早くない環境（Apple M1チップ等のMKLの効果が期待できない環境）では、IntervalMatrixを使う計算が肉薄している。"
   ]
  },
  {
   "cell_type": "code",
   "execution_count": 25,
   "id": "5f62d6c4-580c-44aa-9fb4-97df4e499751",
   "metadata": {},
   "outputs": [
    {
     "name": "stdout",
     "output_type": "stream",
     "text": [
      "  2.336 ms (14 allocations: 4.81 MiB)\n"
     ]
    }
   ],
   "source": [
    "include(\"IntervalFunctions.jl\")\n",
    "@btime mm_ufp($A, $B);"
   ]
  },
  {
   "cell_type": "code",
   "execution_count": 26,
   "id": "b9ada065-8dc7-4b4b-8361-9e983a54aafc",
   "metadata": {},
   "outputs": [
    {
     "data": {
      "text/plain": [
       "true"
      ]
     },
     "execution_count": 26,
     "metadata": {},
     "output_type": "execute_result"
    }
   ],
   "source": [
    "iC = iA * iB\n",
    "C_mid, C_rad = mm_ufp(A, B)\n",
    "iC_BLAS = C_mid .± C_rad\n",
    "\n",
    "any(iC[:] .⊆ iC_BLAS[:])"
   ]
  },
  {
   "cell_type": "code",
   "execution_count": 27,
   "id": "4074bfaa-66fe-4b41-b44a-ce9c677766bb",
   "metadata": {},
   "outputs": [
    {
     "name": "stdout",
     "output_type": "stream",
     "text": [
      "  0.267290 seconds (58 allocations: 183.107 MiB, 35.53% gc time)\n",
      "  0.079052 seconds (17 allocations: 53.406 MiB)\n",
      "maximum(radius, iC) = 1.8900436771218665e-12\n",
      "maximum(radius, iC2) = 5.6985527407960035e-11\n"
     ]
    }
   ],
   "source": [
    "n = 1000\n",
    "\n",
    "A = randn(n,n)\n",
    "B = randn(n,n)\n",
    "\n",
    "iA = IntervalMatrix(map(Interval, A))\n",
    "iB = IntervalMatrix(map(Interval, B))\n",
    "\n",
    "# @time iC2 = iA * iB  # Level 3\n",
    "# @time iC2 = iA * iB  # Level 3\n",
    "@time iC = iA * iB;  # Level 3\n",
    "@time C_mid, C_rad = mm_ufp(A, B);\n",
    "iC2 = C_mid .± C_rad\n",
    "@show maximum(radius,iC)\n",
    "@show maximum(radius,iC2);"
   ]
  },
  {
   "cell_type": "markdown",
   "id": "23e6980e-815a-4059-9959-a79fe5d23919",
   "metadata": {},
   "source": [
    "IntervalMatrices.jlを用いた行列積の実装は多倍長浮動小数点数を端点にもつ区間行列なども容易に実装できる。この点はMATLAB等にはできない芸当である（少し計算時間はかかる）。"
   ]
  },
  {
   "cell_type": "code",
   "execution_count": 28,
   "id": "79992273-6927-4149-847d-bcb68d01748b",
   "metadata": {},
   "outputs": [
    {
     "name": "stdout",
     "output_type": "stream",
     "text": [
      "  4.588389 seconds (132.24 M allocations: 5.936 GiB, 11.18% gc time, 10.72% compilation time)\n",
      "  4.269762 seconds (130.40 M allocations: 5.836 GiB, 15.94% gc time)\n"
     ]
    },
    {
     "data": {
      "text/plain": [
       "200×200 IntervalMatrix{BigFloat, Interval{BigFloat}, Matrix{Interval{BigFloat}}}:\n",
       "  [-5.35331, -5.3533]₁₀₆     …   [-6.47758, -6.47757]₁₀₆\n",
       "   [5.75573, 5.75574]₁₀₆         [-8.55235, -8.55234]₁₀₆\n",
       "  [-4.35604, -4.35603]₁₀₆        [13.475, 13.4751]₁₀₆\n",
       "  [-0.223988, -0.223987]₁₀₆       [2.42812, 2.42813]₁₀₆\n",
       "  [32.5609, 32.561]₁₀₆           [29.3711, 29.3712]₁₀₆\n",
       " [-14.4817, -14.4816]₁₀₆     …   [16.6617, 16.6618]₁₀₆\n",
       "  [16.5739, 16.574]₁₀₆           [16.7149, 16.715]₁₀₆\n",
       "  [-1.04419, -1.04418]₁₀₆         [3.97989, 3.9799]₁₀₆\n",
       "  [-4.4911, -4.49109]₁₀₆          [3.94227, 3.94228]₁₀₆\n",
       " [-24.3885, -24.3884]₁₀₆        [-19.3894, -19.3893]₁₀₆\n",
       "   [3.09451, 3.09452]₁₀₆     …   [11.7526, 11.7527]₁₀₆\n",
       "   [9.20205, 9.20206]₁₀₆         [-8.41919, -8.41918]₁₀₆\n",
       "  [16.006, 16.0061]₁₀₆           [10.0704, 10.0705]₁₀₆\n",
       "    ⋮                        ⋱  \n",
       "   [3.55672, 3.55673]₁₀₆         [16.5232, 16.5233]₁₀₆\n",
       "  [34.754, 34.7541]₁₀₆          [-10.8539, -10.8538]₁₀₆\n",
       "  [22.8794, 22.8795]₁₀₆      …   [12.866, 12.8661]₁₀₆\n",
       " [-13.0521, -13.052]₁₀₆         [-20.8833, -20.8832]₁₀₆\n",
       "  [14.7282, 14.7283]₁₀₆           [8.26514, 8.26515]₁₀₆\n",
       "  [-5.58721, -5.5872]₁₀₆         [11.5206, 11.5207]₁₀₆\n",
       "   [2.45898, 2.45899]₁₀₆        [-11.6184, -11.6183]₁₀₆\n",
       "   [6.41434, 6.41435]₁₀₆     …  [-11.406, -11.4059]₁₀₆\n",
       "  [-5.54663, -5.54662]₁₀₆        [-7.64531, -7.6453]₁₀₆\n",
       "   [0.185644, 0.185645]₁₀₆       [-5.27893, -5.27892]₁₀₆\n",
       "  [-6.42993, -6.42992]₁₀₆        [18.1366, 18.1367]₁₀₆\n",
       "  [-0.368788, -0.368787]₁₀₆       [9.75523, 9.75524]₁₀₆"
      ]
     },
     "execution_count": 28,
     "metadata": {},
     "output_type": "execute_result"
    }
   ],
   "source": [
    "setprecision(Interval, 106) # DD precision\n",
    "\n",
    "n = 200\n",
    "A = randn(n,n)\n",
    "B = randn(n,n)\n",
    "\n",
    "iA = IntervalMatrix(map(Interval,map(big,A)))\n",
    "iB = IntervalMatrix(map(Interval,map(big,B)))\n",
    "\n",
    "@time iA * iB\n",
    "@time iC = iA * iB"
   ]
  },
  {
   "cell_type": "code",
   "execution_count": 29,
   "id": "99921c33-a35a-44df-8a63-6d2c166451e2",
   "metadata": {},
   "outputs": [
    {
     "data": {
      "text/plain": [
       "Float64"
      ]
     },
     "execution_count": 29,
     "metadata": {},
     "output_type": "execute_result"
    }
   ],
   "source": [
    "setprecision(Interval, Float64)"
   ]
  },
  {
   "cell_type": "markdown",
   "id": "77e57264-2b20-46fd-9503-35c46181b78e",
   "metadata": {},
   "source": [
    "---\n",
    "\n",
    "# 線型方程式の求解\n",
    "\n",
    "$A\\in \\mathbb{K}^{n\\times n}$ を $n$ 次行列、$b\\in\\mathbb{K}^n$ を $n$ 次元ベクトルとする。ただし $\\mathbb{K}=\\mathbb{C}$ or $\\mathbb{R}$ とする。このとき、線型方程式\n",
    "\n",
    "$$\n",
    "Ax=b\n",
    "$$\n",
    "\n",
    "の解 $\\tilde{x}\\in\\mathbb{K}$ の精度保証付き数値計算を考える。\n",
    "もしも行列 $A$ が正則（$\\det(A)\\neq 0$）ならば、逆行列 $A^{-1}$ が存在し、線型方程式は厳密解がただ一つ存在する。したがって、精度保証付き数値計算で必要なことは、\n",
    "\n",
    "- 行列 $A$ が正則である\n",
    "- 厳密解 $\\tilde{x}$ の存在する範囲を計算する（誤差評価）\n",
    "\n",
    "の2つである。\n",
    "\n",
    "## 区間ガウスの消去法\n",
    "\n",
    "区間ガウスの消去法（IG）はいわゆるガウスの消去法を全て区間演算に置き換えた方法であり、\"理論上は\"解の厳密な包含が得られることになる。しかし、区間ガウスの消去法は、係数行列 $A$ の\n",
    "次数 $n$ がある程度以上の大きくなると、解の誤差半径が爆発的に大きくなってしまい、適用不可能になるという致命的な欠点がある。これは区間演算による区間幅の増大が原因で、丸め誤差の過大評価によって計算結果が物凄く粗い評価となってしまう。例えば、`IntervalArithmetic.jl`を使って、区間ガウスの消去法に基づいて線型方程式の求解ができる。"
   ]
  },
  {
   "cell_type": "code",
   "execution_count": 30,
   "id": "89f792ed-a924-445d-9b7b-2e9e8cf08498",
   "metadata": {},
   "outputs": [
    {
     "name": "stdout",
     "output_type": "stream",
     "text": [
      "A \\ b = Interval{Float64}[[1.99999, 2.00001], [1.99999, 2.00001], [0.999999, 1.00001]]\n"
     ]
    }
   ],
   "source": [
    "using IntervalArithmetic, BenchmarkTools\n",
    "A = [2 2 3; -2 5 1; 5 6 9]\n",
    "b = A*[2,2,1]　 # Exact solution: (2,2,1)^T\n",
    "\n",
    "A = map(interval, A)\n",
    "b = map(interval, b)\n",
    "# x = A\\b\n",
    "@show A\\b;\n",
    "# maximum(radius,x)"
   ]
  },
  {
   "cell_type": "markdown",
   "id": "26069d18-8df8-4e1d-90ac-91a7d2e25ad2",
   "metadata": {},
   "source": [
    "解の包含の区間幅は約 $10^{-14}$ と十分小さな区間になっていると思われるが、行列のサイズ $n$ が大きくなるにつれて、区間幅が増大し、この方法は破綻する。"
   ]
  },
  {
   "cell_type": "code",
   "execution_count": 31,
   "id": "3980e9c3-2961-450b-9cbe-4ae10694d067",
   "metadata": {},
   "outputs": [
    {
     "name": "stderr",
     "output_type": "stream",
     "text": [
      "┌ Info: Precompiling Plots [91a5bcdd-55d7-5caf-9e0b-520d859cae80]\n",
      "└ @ Base loading.jl:1342\n"
     ]
    },
    {
     "name": "stdout",
     "output_type": "stream",
     "text": [
      "Your GR installation is incomplete. Rerunning build step for GR package.\n"
     ]
    },
    {
     "name": "stderr",
     "output_type": "stream",
     "text": [
      "\u001b[91m\u001b[1mERROR: \u001b[22m\u001b[39mLoadError: LoadError: InitError: Evaluation into the closed module `GR` breaks incremental compilation because the side effects will not be permanent. This is likely due to some other module mutating `GR` with `eval` during precompilation - don't do this.\n",
      "Stacktrace:\n",
      "  [1] \u001b[0m\u001b[1meval\u001b[22m\n",
      "\u001b[90m    @ \u001b[39m\u001b[90m./\u001b[39m\u001b[90;4mboot.jl:360\u001b[0m\u001b[90m [inlined]\u001b[39m\n",
      "  [2] \u001b[0m\u001b[1m__init__\u001b[22m\u001b[0m\u001b[1m(\u001b[22m\u001b[0m\u001b[1m)\u001b[22m\n",
      "\u001b[90m    @ \u001b[39m\u001b[35mGR\u001b[39m \u001b[90m~/.julia/packages/GR/SOvTP/src/\u001b[39m\u001b[90;4mGR.jl:357\u001b[0m\n",
      "  [3] \u001b[0m\u001b[1m_include_from_serialized\u001b[22m\u001b[0m\u001b[1m(\u001b[22m\u001b[90mpath\u001b[39m::\u001b[0mString, \u001b[90mdepmods\u001b[39m::\u001b[0mVector\u001b[90m{Any}\u001b[39m\u001b[0m\u001b[1m)\u001b[22m\n",
      "\u001b[90m    @ \u001b[39m\u001b[90mBase\u001b[39m \u001b[90m./\u001b[39m\u001b[90;4mloading.jl:696\u001b[0m\n",
      "  [4] \u001b[0m\u001b[1m_require_search_from_serialized\u001b[22m\u001b[0m\u001b[1m(\u001b[22m\u001b[90mpkg\u001b[39m::\u001b[0mBase.PkgId, \u001b[90msourcepath\u001b[39m::\u001b[0mString\u001b[0m\u001b[1m)\u001b[22m\n",
      "\u001b[90m    @ \u001b[39m\u001b[90mBase\u001b[39m \u001b[90m./\u001b[39m\u001b[90;4mloading.jl:782\u001b[0m\n",
      "  [5] \u001b[0m\u001b[1m_require\u001b[22m\u001b[0m\u001b[1m(\u001b[22m\u001b[90mpkg\u001b[39m::\u001b[0mBase.PkgId\u001b[0m\u001b[1m)\u001b[22m\n",
      "\u001b[90m    @ \u001b[39m\u001b[90mBase\u001b[39m \u001b[90m./\u001b[39m\u001b[90;4mloading.jl:1020\u001b[0m\n",
      "  [6] \u001b[0m\u001b[1mrequire\u001b[22m\u001b[0m\u001b[1m(\u001b[22m\u001b[90muuidkey\u001b[39m::\u001b[0mBase.PkgId\u001b[0m\u001b[1m)\u001b[22m\n",
      "\u001b[90m    @ \u001b[39m\u001b[90mBase\u001b[39m \u001b[90m./\u001b[39m\u001b[90;4mloading.jl:936\u001b[0m\n",
      "  [7] \u001b[0m\u001b[1mrequire\u001b[22m\u001b[0m\u001b[1m(\u001b[22m\u001b[90minto\u001b[39m::\u001b[0mModule, \u001b[90mmod\u001b[39m::\u001b[0mSymbol\u001b[0m\u001b[1m)\u001b[22m\n",
      "\u001b[90m    @ \u001b[39m\u001b[90mBase\u001b[39m \u001b[90m./\u001b[39m\u001b[90;4mloading.jl:923\u001b[0m\n",
      "  [8] \u001b[0m\u001b[1minclude\u001b[22m\u001b[0m\u001b[1m(\u001b[22m\u001b[90mmod\u001b[39m::\u001b[0mModule, \u001b[90m_path\u001b[39m::\u001b[0mString\u001b[0m\u001b[1m)\u001b[22m\n",
      "\u001b[90m    @ \u001b[39m\u001b[90mBase\u001b[39m \u001b[90m./\u001b[39m\u001b[90;4mBase.jl:386\u001b[0m\n",
      "  [9] \u001b[0m\u001b[1minclude\u001b[22m\u001b[0m\u001b[1m(\u001b[22m\u001b[90mx\u001b[39m::\u001b[0mString\u001b[0m\u001b[1m)\u001b[22m\n",
      "\u001b[90m    @ \u001b[39m\u001b[36mPlots\u001b[39m \u001b[90m~/.julia/packages/Plots/iT5yO/src/\u001b[39m\u001b[90;4mPlots.jl:1\u001b[0m\n",
      " [10] top-level scope\n",
      "\u001b[90m    @ \u001b[39m\u001b[90m~/.julia/packages/Plots/iT5yO/src/\u001b[39m\u001b[90;4mPlots.jl:233\u001b[0m\n",
      " [11] \u001b[0m\u001b[1minclude\u001b[22m\n",
      "\u001b[90m    @ \u001b[39m\u001b[90m./\u001b[39m\u001b[90;4mBase.jl:386\u001b[0m\u001b[90m [inlined]\u001b[39m\n",
      " [12] \u001b[0m\u001b[1minclude_package_for_output\u001b[22m\u001b[0m\u001b[1m(\u001b[22m\u001b[90mpkg\u001b[39m::\u001b[0mBase.PkgId, \u001b[90minput\u001b[39m::\u001b[0mString, \u001b[90mdepot_path\u001b[39m::\u001b[0mVector\u001b[90m{String}\u001b[39m, \u001b[90mdl_load_path\u001b[39m::\u001b[0mVector\u001b[90m{String}\u001b[39m, \u001b[90mload_path\u001b[39m::\u001b[0mVector\u001b[90m{String}\u001b[39m, \u001b[90mconcrete_deps\u001b[39m::\u001b[0mVector\u001b[90m{Pair{Base.PkgId, UInt64}}\u001b[39m, \u001b[90msource\u001b[39m::\u001b[0mNothing\u001b[0m\u001b[1m)\u001b[22m\n",
      "\u001b[90m    @ \u001b[39m\u001b[90mBase\u001b[39m \u001b[90m./\u001b[39m\u001b[90;4mloading.jl:1235\u001b[0m\n",
      " [13] top-level scope\n",
      "\u001b[90m    @ \u001b[39m\u001b[90;4mnone:1\u001b[0m\n",
      " [14] \u001b[0m\u001b[1meval\u001b[22m\n",
      "\u001b[90m    @ \u001b[39m\u001b[90m./\u001b[39m\u001b[90;4mboot.jl:360\u001b[0m\u001b[90m [inlined]\u001b[39m\n",
      " [15] \u001b[0m\u001b[1meval\u001b[22m\u001b[0m\u001b[1m(\u001b[22m\u001b[90mx\u001b[39m::\u001b[0mExpr\u001b[0m\u001b[1m)\u001b[22m\n",
      "\u001b[90m    @ \u001b[39m\u001b[90mBase.MainInclude\u001b[39m \u001b[90m./\u001b[39m\u001b[90;4mclient.jl:446\u001b[0m\n",
      " [16] top-level scope\n",
      "\u001b[90m    @ \u001b[39m\u001b[90;4mnone:1\u001b[0m\n",
      "during initialization of module GR\n",
      "in expression starting at /Users/takitoshi/.julia/packages/Plots/iT5yO/src/backends/gr.jl:6\n",
      "in expression starting at /Users/takitoshi/.julia/packages/Plots/iT5yO/src/Plots.jl:1\n"
     ]
    },
    {
     "ename": "LoadError",
     "evalue": "Failed to precompile Plots [91a5bcdd-55d7-5caf-9e0b-520d859cae80] to /Users/takitoshi/.julia/compiled/v1.6/Plots/jl_YKHd6H.",
     "output_type": "error",
     "traceback": [
      "Failed to precompile Plots [91a5bcdd-55d7-5caf-9e0b-520d859cae80] to /Users/takitoshi/.julia/compiled/v1.6/Plots/jl_YKHd6H.",
      "",
      "Stacktrace:",
      " [1] error(s::String)",
      "   @ Base ./error.jl:33",
      " [2] compilecache(pkg::Base.PkgId, path::String, internal_stderr::IJulia.IJuliaStdio{Base.PipeEndpoint}, internal_stdout::IJulia.IJuliaStdio{Base.PipeEndpoint}, ignore_loaded_modules::Bool)",
      "   @ Base ./loading.jl:1385",
      " [3] compilecache(pkg::Base.PkgId, path::String)",
      "   @ Base ./loading.jl:1329",
      " [4] _require(pkg::Base.PkgId)",
      "   @ Base ./loading.jl:1043",
      " [5] require(uuidkey::Base.PkgId)",
      "   @ Base ./loading.jl:936",
      " [6] require(into::Module, mod::Symbol)",
      "   @ Base ./loading.jl:923",
      " [7] eval",
      "   @ ./boot.jl:360 [inlined]",
      " [8] include_string(mapexpr::typeof(REPL.softscope), mod::Module, code::String, filename::String)",
      "   @ Base ./loading.jl:1116"
     ]
    }
   ],
   "source": [
    "using Plots\n",
    "index = 2:2:30\n",
    "max_rad = zeros(size(index))\n",
    "i = 1;\n",
    "for n ∈ index\n",
    "    A = randn(n,n)\n",
    "    b = A*ones(n)\n",
    "\n",
    "    A = map(interval, A)\n",
    "    b = map(interval, b)\n",
    "\n",
    "    x = A\\b\n",
    "    max_rad[i] = maximum(radius,x);\n",
    "    i += 1;\n",
    "end\n",
    "plot(index, max_rad, yscale=:log10,\n",
    "    xlabel       =\"n\",                #X軸のラベル\n",
    "    ylabel       =\"maximum radius\",   #Y軸のラベル\n",
    "    xlims        =(0,31),             #X軸の範囲\n",
    "    title=\"Error bounds of IG\",       #タイトル\n",
    "    linewidth    =2,                  #線幅\n",
    "    seriestype = :scatter,            #点プロットに　\n",
    "    # size         =(400,300),          #プロットのサイズ\n",
    "    label = \"without pre-conditioned\",#凡例のラベル\n",
    "    legend = false,                   #凡例は今回は消す\n",
    ")"
   ]
  },
  {
   "cell_type": "markdown",
   "id": "27b499a3-c004-425f-acc0-e138b30a04a9",
   "metadata": {},
   "source": [
    "区間ガウスの消去法（IG）の名誉挽回のために、もしも $R\\approx A^{-1}$ なる前処理行列を方程式の右から区間行列積でかけた方程式\n",
    "\n",
    "$$\n",
    "    RAx = Rb\n",
    "$$\n",
    "\n",
    "にIGを行うと、上のような区間幅の増大は起こらない。しかし、IGの計算コストに加えて、$R$ を計算するコストが必要で計算時間がかかる。"
   ]
  },
  {
   "cell_type": "code",
   "execution_count": 32,
   "id": "1f3cb17f-7e15-4994-a560-ae1eebd31fc8",
   "metadata": {},
   "outputs": [
    {
     "ename": "LoadError",
     "evalue": "MethodError: no method matching iterate(::typeof(index))\n\u001b[0mClosest candidates are:\n\u001b[0m  iterate(\u001b[91m::Union{LinRange, StepRangeLen}\u001b[39m) at range.jl:664\n\u001b[0m  iterate(\u001b[91m::Union{LinRange, StepRangeLen}\u001b[39m, \u001b[91m::Int64\u001b[39m) at range.jl:664\n\u001b[0m  iterate(\u001b[91m::T\u001b[39m) where T<:Union{Base.KeySet{var\"#s77\", var\"#s76\"} where {var\"#s77\", var\"#s76\"<:Dict}, Base.ValueIterator{var\"#s75\"} where var\"#s75\"<:Dict} at dict.jl:693\n\u001b[0m  ...",
     "output_type": "error",
     "traceback": [
      "MethodError: no method matching iterate(::typeof(index))\n\u001b[0mClosest candidates are:\n\u001b[0m  iterate(\u001b[91m::Union{LinRange, StepRangeLen}\u001b[39m) at range.jl:664\n\u001b[0m  iterate(\u001b[91m::Union{LinRange, StepRangeLen}\u001b[39m, \u001b[91m::Int64\u001b[39m) at range.jl:664\n\u001b[0m  iterate(\u001b[91m::T\u001b[39m) where T<:Union{Base.KeySet{var\"#s77\", var\"#s76\"} where {var\"#s77\", var\"#s76\"<:Dict}, Base.ValueIterator{var\"#s75\"} where var\"#s75\"<:Dict} at dict.jl:693\n\u001b[0m  ...",
      "",
      "Stacktrace:",
      " [1] top-level scope",
      "   @ ./In[32]:10",
      " [2] eval",
      "   @ ./boot.jl:360 [inlined]",
      " [3] include_string(mapexpr::typeof(REPL.softscope), mod::Module, code::String, filename::String)",
      "   @ Base ./loading.jl:1116"
     ]
    }
   ],
   "source": [
    "using IntervalMatrices\n",
    "function int_Gauss(A, b)\n",
    "    R = IntervalMatrix(map(Interval,inv(A)))\n",
    "    A = map(Interval,R*IntervalMatrix(map(interval, A)))\n",
    "    b = map(Interval,R*IntervalBox(map(Interval, b)))\n",
    "    return A\\b\n",
    "end\n",
    "\n",
    "i = 1;\n",
    "for n ∈ index\n",
    "    A = randn(n,n)\n",
    "    b = A*ones(n)\n",
    "\n",
    "    x = int_Gauss(A,b)\n",
    "    \n",
    "    max_rad[i] = maximum(radius,x);\n",
    "    global i += 1;\n",
    "end\n",
    "plot!(index, max_rad, yscale=:log10,\n",
    "    xlabel       =\"n\",                #X軸のラベル\n",
    "    ylabel       =\"maximum radius\",   #Y軸のラベル\n",
    "    xlims        =(0,31),             #X軸の範囲\n",
    "    title=\"Error bounds of IG\",       #タイトル\n",
    "    linewidth    =2,                  #線幅\n",
    "    seriestype = :scatter,            #点プロットに　\n",
    "    # size         =(400,300),          #プロットのサイズ\n",
    "    label = \"with pre-conditioned\",   #凡例のラベル\n",
    "    legend = :topleft,                #凡例\n",
    ")"
   ]
  },
  {
   "cell_type": "markdown",
   "id": "6c3553f6-110e-4808-a527-b95fc1863b1c",
   "metadata": {},
   "source": [
    "## 事後評価を用いる高速精度保証付き数値計算法\n",
    "\n",
    "区間行列積が高速にできるのであれば、区間ガウスの消去法とは違って、次数 $n$ が数千以上のような比較的大規模な行列 にも精度保証が高速で成功する。\n",
    "\n",
    "### ノルム評価\n",
    "\n",
    "次の定理を使用する。\n",
    "\n",
    "**定理 1**　行列 $A\\in\\mathbb{R}^{n\\times n}$, $b\\in\\mathbb{R}^{n}$ に対して、線型方程式 $Ax=b$ の近似解を $\\bar{x}$ とする。いま行列 $R\\in\\mathbb{R}^{n\\times n}\\approx A^{-1}$が、\n",
    "\n",
    "$$\n",
    "\\|I-RA\\|<1\n",
    "$$\n",
    "\n",
    "をみたすとき、\n",
    "\n",
    "$$\n",
    "\\left\\|A^{-1}b-\\bar{x}\\right\\|\\le\\frac{\\|R(b-A \\bar{x})\\|}{1-\\|I-R A\\|}\n",
    "$$\n",
    "\n",
    "が成り立つ。ただし、$I$ は $n$ 次単位行列とする。\n",
    "\n",
    "\n",
    "**証明**\n",
    "$$\n",
    "\\|A^{-1}b - \\bar{x}\\|=\\|(I-(I-RA))^{-1}R(b-A\\bar{x})\\|\\le \\frac{\\|R(b-A\\bar{x})\\|}{1-\\|I-RA\\|}.\n",
    "$$\n",
    "\n",
    "ここで、最後の不等式は $\\|T\\|<1$ となる行列 $T$ に対して、$\\|(I-T)^{-1}\\|\\le 1/(1-\\|T\\|)$ となる事実（ノイマン級数の上からの評価、$T:=I-RA$）を使っている。$\\Box$"
   ]
  },
  {
   "cell_type": "code",
   "execution_count": 33,
   "id": "7bd5c91a-295b-449f-8cb9-61d7bcfb0a81",
   "metadata": {},
   "outputs": [
    {
     "name": "stdout",
     "output_type": "stream",
     "text": [
      "  2.149999 seconds (4.90 M allocations: 519.407 MiB, 5.54% gc time, 62.95% compilation time)\n",
      "  0.652499 seconds (92 allocations: 252.361 MiB, 11.21% gc time)\n"
     ]
    },
    {
     "data": {
      "text/plain": [
       "2.88580048746212e-10"
      ]
     },
     "execution_count": 33,
     "metadata": {},
     "output_type": "execute_result"
    }
   ],
   "source": [
    "include(\"IntervalFunctions.jl\")\n",
    "n = 1000\n",
    "A = randn(n,n)\n",
    "b = A*ones(n)\n",
    "@time verifylss_naive(A,b)\n",
    "@time x = verifylss_naive(A,b)\n",
    "maximum(radius,x)"
   ]
  },
  {
   "cell_type": "markdown",
   "id": "e8db0117-f652-4c3b-a30d-6a20449cdeda",
   "metadata": {},
   "source": [
    "### 成分毎評価\n",
    "\n",
    "ノルム評価の実装は若干過大評価が入るので、成分毎評価を利用する。\n",
    "\n",
    "**定理 2（山本の定理）** $A$, $R\\in\\mathbb{R}^{n\\times n}$, $b$, $\\bar{x}\\in\\mathbb{R}^n$, $G:=I-RA$ とする。このとき、$\\|G\\|_{\\infty}<1$ ならば、行列 $A$ は正則であり、次の評価が成り立つ。\n",
    "\n",
    "$$\n",
    "|A^{-1}b-\\bar{x}|\\le |R(b-A\\bar{x})| + \\frac{\\|R(b-A\\bar{x})\\|_{\\infty}}{1-\\|G\\|_{\\infty}}|G|e_n,\n",
    "$$\n",
    "\n",
    "ここで、$e_n = (1,1,\\dots,1)\\in\\mathbb{R}^n$で、行列・ベクトルの絶対値は成分毎に絶対値を取るものとし、不等式は成分毎に不等式が成立しているものとする。\n",
    "\n",
    "**証明** $A^{-1}=(RA)^{-1}R$ ($R$ は正則行列)であり、$\\|G\\|_{\\infty}<1$ より、\n",
    "\n",
    "$$\n",
    "(RA)^{-1}=(I-G)^{-1} = I + G + G^2 + \\dots = I + G(I-G)^{-1}\n",
    "$$\n",
    "\n",
    "となる。任意の $v\\in\\mathbb{R}^n$ に対して、$|v|\\le\\|v\\|_{\\infty} e_n$ であることに注意すると、\n",
    "\n",
    "\\begin{align}\n",
    "|A^{-1}b-\\bar{x}| &= |(RA)^{-1}R(b-A\\bar{x})|\\\\\n",
    "&= |(I+G(I-G)^{-1})R(b-A\\bar{x})|\\\\\n",
    "&\\le |R(b-A\\bar{x})|+|G||(I-G)^{-1}R(b-A\\bar{x})|\\\\\n",
    "&\\le |R(b-A\\bar{x})|+\\|(I-G)^{-1}\\|_{\\infty}\\|R(b-A\\bar{x})\\|_{\\infty}|G|e_n\n",
    "\\end{align}\n",
    "\n",
    "となり、$\\|(I-G)^{-1}\\|_{\\infty}\\le 1/(1-\\|G\\|_{\\infty})$ を用いると上記の評価式を得る。$\\Box$"
   ]
  },
  {
   "cell_type": "code",
   "execution_count": 34,
   "id": "74d3896c-7ec6-46a6-8ac5-6030c7efd426",
   "metadata": {},
   "outputs": [
    {
     "name": "stdout",
     "output_type": "stream",
     "text": [
      "  1.079987 seconds (1.84 M allocations: 371.880 MiB, 1.06% gc time, 33.98% compilation time)\n",
      "  0.745314 seconds (105 allocations: 267.690 MiB, 1.86% gc time)\n"
     ]
    },
    {
     "data": {
      "text/plain": [
       "9.05257612204835e-11"
      ]
     },
     "execution_count": 34,
     "metadata": {},
     "output_type": "execute_result"
    }
   ],
   "source": [
    "# include(\"IntervalFunctions.jl\")\n",
    "@time verifylss(A,b)\n",
    "@time x = verifylss(A,b)\n",
    "mean(radius,x)"
   ]
  },
  {
   "cell_type": "code",
   "execution_count": 35,
   "id": "4c1c4ac2-6705-4f3a-bca6-b97cced75830",
   "metadata": {},
   "outputs": [
    {
     "name": "stdout",
     "output_type": "stream",
     "text": [
      "  0.652659 seconds (92 allocations: 252.361 MiB, 11.61% gc time)\n",
      "mean(radius, x₁) = 2.88580020102458e-10\n",
      "  0.764277 seconds (105 allocations: 267.690 MiB, 5.87% gc time)\n",
      "mean(radius, x₂) = 9.05257612204835e-11\n"
     ]
    }
   ],
   "source": [
    "@time x₁ = verifylss_naive(A,b);\n",
    "@show mean(radius,x₁);\n",
    "@time x₂ = verifylss(A,b);\n",
    "@show mean(radius,x₂);"
   ]
  },
  {
   "cell_type": "markdown",
   "id": "65e0a9d6-648f-4f48-b1a6-4cc32e8adf23",
   "metadata": {},
   "source": [
    "## IntervalLinerAlgebra.jl\n",
    "\n",
    "最近、[IntervalLinearAlgebra.jl](https://github.com/JuliaIntervals/IntervalLinearAlgebra.jl)というパッケージがあることを知った。これを使うと区間線形方程式を求解できる。中身は前処理付き区間ガウスの消去法。"
   ]
  },
  {
   "cell_type": "code",
   "execution_count": 36,
   "id": "84077b63-2c0a-4fe6-97e4-1bb5ba876ad6",
   "metadata": {},
   "outputs": [
    {
     "name": "stdout",
     "output_type": "stream",
     "text": [
      "  4.528633 seconds (2.75 M allocations: 183.718 MiB, 0.27% gc time, 14.50% compilation time)\n",
      "maximum(radius, x) = 2.7983282357979533e-11\n",
      "  5.237110 seconds (4.30 M allocations: 254.807 MiB, 0.71% gc time, 26.28% compilation time)\n",
      "maximum(radius, x) = 2.8057112189117106e-11\n"
     ]
    },
    {
     "data": {
      "text/plain": [
       "2.8057112189117106e-11"
      ]
     },
     "execution_count": 36,
     "metadata": {},
     "output_type": "execute_result"
    }
   ],
   "source": [
    "using IntervalLinearAlgebra\n",
    "\n",
    "n = 500\n",
    "A = randn(n,n)\n",
    "b = A*ones(n)\n",
    "\n",
    "iA = map(interval, A)\n",
    "ib = map(interval, b)\n",
    "\n",
    "@time x = solve(iA, ib)\n",
    "@show maximum(radius,x)\n",
    "\n",
    "@time x = int_Gauss(A, b)\n",
    "@show maximum(radius,x)"
   ]
  },
  {
   "cell_type": "markdown",
   "id": "63292de5-94b0-46c4-8831-f4538095c290",
   "metadata": {},
   "source": [
    "上で紹介した事後評価を用いる精度保証方法は格段に速い（少しだけ過大評価がある）。"
   ]
  },
  {
   "cell_type": "code",
   "execution_count": 37,
   "id": "4e2e9c37-8b6f-4f37-8d89-d9b468910161",
   "metadata": {},
   "outputs": [
    {
     "name": "stdout",
     "output_type": "stream",
     "text": [
      "  0.298459 seconds (105 allocations: 67.090 MiB, 1.02% gc time)\n",
      "maximum(radius, x) = 6.017453202389333e-11\n"
     ]
    }
   ],
   "source": [
    "@time x = verifylss(A, b)\n",
    "@show maximum(radius,x);"
   ]
  },
  {
   "cell_type": "markdown",
   "id": "8743de8e-728e-4b73-af01-9224d04f3037",
   "metadata": {},
   "source": [
    "IntervalLinearAlgebra.jlには他の解法も実装されているらしい（未確認）、実行してみると。"
   ]
  },
  {
   "cell_type": "code",
   "execution_count": 38,
   "id": "40041715-c664-4aa5-8dea-8652b2b3b849",
   "metadata": {},
   "outputs": [
    {
     "name": "stdout",
     "output_type": "stream",
     "text": [
      "  2.295304 seconds (9.52 M allocations: 706.099 MiB, 3.76% gc time, 85.63% compilation time)\n",
      "maximum(radius, x) = 3.998545938799225e-11\n",
      "  1.044411 seconds (2.48 M allocations: 231.897 MiB, 2.09% gc time, 67.82% compilation time)\n",
      "maximum(radius, x) = 1.0000000000413478\n",
      "  0.433225 seconds (825.92 k allocations: 112.871 MiB, 2.86% gc time, 44.88% compilation time)\n",
      "maximum(radius, x) = 2.805600196609248e-11\n",
      "  0.421241 seconds (571.55 k allocations: 98.180 MiB, 1.23% gc time, 40.38% compilation time)\n",
      "maximum(radius, x) = 2.805600196609248e-11\n"
     ]
    },
    {
     "data": {
      "text/plain": [
       "2.805600196609248e-11"
      ]
     },
     "execution_count": 38,
     "metadata": {},
     "output_type": "execute_result"
    }
   ],
   "source": [
    "@time x = solve(iA, ib, HansenBliekRohn())\n",
    "@show maximum(radius,x)\n",
    "@time x = solve(iA, ib, LinearKrawczyk())\n",
    "@show maximum(radius,x)\n",
    "@time x = solve(iA, ib, Jacobi())\n",
    "@show maximum(radius,x)\n",
    "@time x = solve(iA, ib, GaussSeidel())\n",
    "@show maximum(radius,x);"
   ]
  },
  {
   "cell_type": "markdown",
   "id": "fcc9f0f1-e86d-46a6-956b-f29416de06c6",
   "metadata": {},
   "source": [
    "---\n",
    "\n",
    "# まとめ\n",
    "\n",
    "- 計算機言語Juliaを用いた精度保証付き数値計算の実装例（区間演算、ドット積・行列ベクトル積・行列積）を紹介\n",
    "- オープンソースのコミュニティは皆が参画しやすく開発が早い。一方で、実装が正しいかどうかを自分で検証・判断する必要あり\n",
    "- 世界中の開発者が作ったパッケージを組み合わせて、多倍長浮動小数点数の区間演算などが割と手軽に何でもできるのは面白い\n",
    "- 個人的には、学生さんの数値計算環境におすすめ（正しさの検証は必須）\n",
    "\n",
    "## 現時点のベクトプラクティス\n",
    "\n",
    "- 内積・行列ベクトル積：IntervalArithmetic.jlの実装を使う\n",
    "- 区間行列積：IntervalMatrices.jlを使う\n",
    "- 線形方程式：事後評価の方法（`verifylss`）を使う"
   ]
  },
  {
   "cell_type": "markdown",
   "id": "145bc94e-e910-4954-8676-59ca76f32c7e",
   "metadata": {},
   "source": [
    "<center>\n",
    "\n",
    "### ご清聴ありがとうございました。\n",
    "\n",
    "</center>"
   ]
  }
 ],
 "metadata": {
  "kernelspec": {
   "display_name": "Julia 1.6.3",
   "language": "julia",
   "name": "julia-1.6"
  },
  "language_info": {
   "file_extension": ".jl",
   "mimetype": "application/julia",
   "name": "julia",
   "version": "1.6.3"
  }
 },
 "nbformat": 4,
 "nbformat_minor": 5
}
