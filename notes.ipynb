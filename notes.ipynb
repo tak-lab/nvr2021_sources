{
 "cells": [
  {
   "cell_type": "markdown",
   "id": "5336079e-e60a-4527-8f72-93a7fa613b56",
   "metadata": {},
   "source": [
    "<center>\n",
    "\n",
    "# Julia言語を用いた精度保証付き数値計算の実践\n",
    "\n",
    "### 高安亮紀（筑波大学）\n",
    "\n",
    "#### 第5回 精度保証付き数値計算の実問題への応用研究集会 (NVR 2021)\n",
    "#### 2021年11月28日(日)\n",
    "</center>"
   ]
  },
  {
   "cell_type": "markdown",
   "id": "50e4fb5d-229b-4fd3-ba59-a48bbcf34a04",
   "metadata": {},
   "source": [
    "## Why Julia?\n",
    "\n",
    "- [Julia](https://julialang.org/)：新しいプログラミング言語でコンパイル型言語の高性能性と動的言語の俊敏性を組み合わせることに成功している\n",
    "- （JITで比較的）**速い**、**安い**（オープンソース）、**美味い**（割と何でも簡単にできる）\n",
    "- オープンソースのコミュニティが毎日色々なパッケージを開発していて、日々進化している\n",
    "- 個人的に気に入っていることは、手軽にパッケージを組み合わせてやりたい事ができる点（賛否両論あり）\n",
    "\n",
    "\n",
    "**注**　残念ながら、講演者はJuliaを語れるほど詳しくないので、言語の詳細は例えば以下の書籍等を参照いただきたい。\n",
    "\n",
    "1. [Bogumił Kamiński、Przemysław Szufel著、中田秀基訳「Juliaプログラミングクックブック ―言語仕様からデータ分析、機械学習、数値計算まで」、オライリージャパン、2019](https://www.oreilly.co.jp/books/9784873118895/)\n",
    "1. [進藤裕之、佐藤建太著「1から始める Juliaプログラミング」、コロナ社、2020](https://www.coronasha.co.jp/np/isbn/9784339029055/)\n",
    "1. [石井一夫著「基礎から学ぶJulia ~基本文法からデータサイエンスまで」、SCC Books、2021](https://www.scc-kk.co.jp/scc-books/b-418.html)"
   ]
  },
  {
   "cell_type": "markdown",
   "id": "b7b6b000-0a01-4e06-9378-3c1fe507e589",
   "metadata": {},
   "source": [
    "## 精度保証付き数値計算にJulia?\n",
    "\n",
    "精度保証付き数値計算のソフトウェアといったら…\n",
    "\n",
    "- MATLAB with [INTLAB](https://www.tuhh.de/ti3/rump/intlab/)\n",
    "- C++ with [kv](http://verifiedby.me/kv/)\n",
    "- C++ with [CAPD](http://capd.ii.uj.edu.pl/)\n",
    "- 他、[Languages for Interval Analysis](https://www.cs.utep.edu/interval-comp/intlang.html)や[Interval and Related Software](https://www.cs.utep.edu/interval-comp/intsoft.html)に一覧がある（随時更新されてるが、頻繁にサーバーが落ちる）\n",
    "\n",
    "今回はJuliaにある[IntervalArithmetic.jl](https://juliaintervals.github.io/IntervalArithmetic.jl/latest/intro/)というパッケージを使って、精度保証付き数値計算を実現する方法を紹介する。これは講演者が学生さんたちと進めている、「[Juliaで精度保証付き数値計算](https://taklab-blog.blogspot.com/2021/01/rigorous-numerics-julia.html)」プロジェクトの報告プラスαである。（少々プロ向けにしたつもり）\n"
   ]
  },
  {
   "cell_type": "markdown",
   "id": "ff0b928a-05bb-47c2-8ad9-891a9c406cae",
   "metadata": {},
   "source": [
    "### 「Juliaで精度保証付き数値計算」の目次\n",
    "\n",
    "まず、「[Juliaで精度保証付き数値計算](https://taklab-blog.blogspot.com/2021/01/rigorous-numerics-julia.html)」プロジェクトでは、以下のような目次で精度保証付き数値計算の実装例を紹介している。\n",
    "\n",
    "1. はじめに -間違える数値計算-（[nonrigorous_numerics.ipynb](https://www.risk.tsukuba.ac.jp/~takitoshi/tutorial/nonrigorous_numerics.html)）\n",
    "1. 整数・浮動小数点数（[floating-point.ipynb](https://www.risk.tsukuba.ac.jp/~takitoshi/tutorial/floating-point.html)）\n",
    "1. 丸め誤差・その他の誤差（[rounding-error.ipynb](https://www.risk.tsukuba.ac.jp/~takitoshi/tutorial/rounding-error.html)）\n",
    "1. 区間演算 -精度保証付き数値計算の入り口-（[interval-arithmetic.ipynb](https://www.risk.tsukuba.ac.jp/~takitoshi/tutorial/interval-arithmetic.html)）\n",
    "1. ベクトルの内積・行列ベクトル積・行列積の区間演算（[interval_dot-mul.ipynb](https://www.risk.tsukuba.ac.jp/~takitoshi/tutorial/interval_dot-mul.html)）\n",
    "1. 線型方程式の解の精度保証付き数値計算（[verifylss.ipynb](https://www.risk.tsukuba.ac.jp/~takitoshi/tutorial/verifylss.html)）\n",
    "1. 標準固有値問題の精度保証付き数値解法（[verifyalleig.ipynb](https://www.risk.tsukuba.ac.jp/~takitoshi/tutorial/verifyalleig.html)）\n",
    "1. 高速フーリエ変換の精度保証（[verifyfft.ipynb](https://www.risk.tsukuba.ac.jp/~takitoshi/tutorial/verifyfft.html)）\n",
    "1. 非線形方程式（[verifynlss.ipynb](https://www.risk.tsukuba.ac.jp/~takitoshi/tutorial/verifynlss.html)）\n",
    "1. Newton-Kantorovich型定理 (radii-polynomial approach)（[Newton-Kantorovich.ipynb](https://www.risk.tsukuba.ac.jp/~takitoshi/tutorial/Newton-Kantorovich.html)）\n",
    "\n",
    "これらは昨年度、学生さんとJuliaの使い方を勉強しながら実装したものである。今年度は\n",
    "\n",
    "- フーリエ級数（計算機で表現する方法）\n",
    "- 離散畳み込みの精度保証付き数値計算\n",
    "- 常微分方程式の周期解の数値検証\n",
    "- チェビシェフ級数、 etc.\n",
    "\n",
    "という項目を追加予定。今日はこれらの一部をピックアップして紹介する。"
   ]
  },
  {
   "cell_type": "markdown",
   "id": "30b39e6e-fcf5-40cf-a75f-09a28dadcf24",
   "metadata": {},
   "source": [
    "## 計算機環境\n",
    "\n",
    "今日の計算機環境は以下。"
   ]
  },
  {
   "cell_type": "code",
   "execution_count": 1,
   "id": "60527310-91ea-4f19-9248-663d861ba15b",
   "metadata": {},
   "outputs": [
    {
     "name": "stdout",
     "output_type": "stream",
     "text": [
      "Julia Version 1.6.3\n",
      "Commit ae8452a9e0 (2021-09-23 17:34 UTC)\n",
      "Platform Info:\n",
      "  OS: macOS (x86_64-apple-darwin19.5.0)\n",
      "  CPU: Apple M1\n",
      "  WORD_SIZE: 64\n",
      "  LIBM: libopenlibm\n",
      "  LLVM: libLLVM-11.0.1 (ORCJIT, westmere)\n"
     ]
    }
   ],
   "source": [
    "versioninfo()"
   ]
  },
  {
   "cell_type": "code",
   "execution_count": 2,
   "id": "849cc00c-581c-4428-aeaf-7197abcb5632",
   "metadata": {},
   "outputs": [
    {
     "name": "stdout",
     "output_type": "stream",
     "text": [
      "\u001b[32m\u001b[1m      Status\u001b[22m\u001b[39m `~/.julia/environments/v1.6/Project.toml`\n",
      " \u001b[90m [d1acc4aa] \u001b[39mIntervalArithmetic v0.19.2\n"
     ]
    }
   ],
   "source": [
    "using Pkg; Pkg.status(\"IntervalArithmetic\")"
   ]
  },
  {
   "cell_type": "markdown",
   "id": "f4ce145d-b888-47fc-9eb2-91b571e69202",
   "metadata": {},
   "source": [
    "## 準備\n",
    "\n",
    "精度保証付き数値計算を実行するために、Juliaで区間演算を使用する。IntervalArithmetic.jlパッケージを使うにはREPLで`]`を入力すると、パッケージモードになる。そこで\n",
    "\n",
    "```julia:\n",
    "(v1.x) pkg> add IntervalArithmetic\n",
    "```\n",
    "\n",
    "と入力して、インストールする。あるいはREPLで\n",
    "\n",
    "```julia:\n",
    "using Pkg\n",
    "Pkg.add(\"IntervalArithmetic\")\n",
    "```\n",
    "\n",
    "としてもインストールされる。インストールが完了したら、\n",
    "\n",
    "```julia:\n",
    "using IntervalArithmetic\n",
    "```\n",
    "\n",
    "としてパッケージを呼び出す。"
   ]
  },
  {
   "cell_type": "markdown",
   "id": "d1736b83-c56b-4aef-ae82-f47ecaa93979",
   "metadata": {},
   "source": [
    "---\n",
    "\n",
    "# 区間演算\n",
    "\n",
    "$\\mathbb{R}$上の区間を\n",
    "$$\n",
    "\t\\boldsymbol{a}:=\\{x\\in\\mathbb{R}:\\underline{a}\\le x\\le\\overline{a},~\\underline{a}, \\overline{a}\\in\\mathbb{R}\\}=[\\underline{a}, \\overline{a}]\n",
    "$$\n",
    "\n",
    "と表し，区間の全体を$\\mathbb{IR}$とする。\n",
    "この時 $\\underline{a}$ を区間の下端，$\\overline{a}$ を区間の上端という。\n",
    "さらに区間の\n",
    "\n",
    "$$\n",
    "\\begin{array}{ll}\n",
    "\\mbox{直径（diameter）:}&\\mathrm{d}(\\boldsymbol{a})=\\overline{a}-\\underline{a}\\in\\mathbb{R}\\\\\n",
    "\\mbox{半径（radious）:}&\\mathrm{rad}(\\boldsymbol{a})=\\frac{\\overline{a}-\\underline{a}}{2}\\in\\mathbb{R}\\\\\n",
    "\\mbox{中点（center）:}&\\mathrm{mid}(\\boldsymbol{a})=\\frac{\\overline{a}+\\underline{a}}{2}\\in\\mathbb{R}\\\\\n",
    "\\mbox{最小絶対値:}&\\mathrm{mig}(\\boldsymbol{a})=\\min\\{|a|:a\\in\\boldsymbol{a}\\}\\in\\mathbb{R}\\\\\n",
    "\\mbox{最大絶対値:}&\\mathrm{mag}(\\boldsymbol{a})=\\max\\{|a|:a\\in\\boldsymbol{a}\\}\\in\\mathbb{R}\\\\\n",
    "\\end{array}\n",
    "$$\n",
    "\n",
    "をそれぞれ表す。これを**上端下端型区間**という。一方で、区間を中心と半径で表す型もある。それを**中心半径型区間**という。中心半径型（mid-rad 型）区間は実数 $a\\in\\mathbb{R}$ に対して、区間の中心を $a_c$，半径を $a_r$ としたとき\n",
    "\n",
    "$$\n",
    "    \\boldsymbol{a}=\\langle a_c,a_r\\rangle=\\left\\{x:a_c-a_r\\le x\\le a_c+a_r\\right\\}\n",
    "$$\n",
    "\n",
    "と表される。中心半径型区間と上端下端型区間の間には次のような関係が成り立つ：\n",
    "\n",
    "$$\n",
    "    \\boldsymbol{a}=[\\underline{a},\\overline{a}]=[a_c-a_r,a_c+a_r]=\\left\\langle\\frac{\\underline{a}+\\overline{a}}{2},\\frac{\\underline{a}-\\overline{a}}{2}\\right\\rangle=\\langle a_c,a_r\\rangle=\\boldsymbol{a}.\n",
    "$$\n",
    "\n",
    "JuliaのIntervalArithmetic.jlを使うと以下のように実行できる。"
   ]
  },
  {
   "cell_type": "code",
   "execution_count": 3,
   "id": "ef9e6ff3-ba42-4bae-949d-f5bb5af47bee",
   "metadata": {},
   "outputs": [
    {
     "name": "stdout",
     "output_type": "stream",
     "text": [
      "a = [-2, 1]\n",
      "diam(a) = 3.0\n",
      "radius(a) = 1.5\n",
      "mid(a) = -0.5\n",
      "mig(a) = 0.0\n",
      "mag(a) = 2.0\n"
     ]
    },
    {
     "data": {
      "text/plain": [
       "2.0"
      ]
     },
     "execution_count": 3,
     "metadata": {},
     "output_type": "execute_result"
    }
   ],
   "source": [
    "using IntervalArithmetic\n",
    "\n",
    "a = interval(-2, 1)\n",
    "# a = -2. .. 1.    # .. operator\n",
    "# a = -0.5 ± 1.5\n",
    "@show a\n",
    "@show diam(a)\n",
    "@show radius(a)\n",
    "@show mid(a)\n",
    "@show mig(a)\n",
    "@show mag(a)\n",
    "\n",
    "# @format midpoint 3\n",
    "# @format full\n",
    "# @format standard 10\n",
    "# a"
   ]
  },
  {
   "cell_type": "markdown",
   "id": "e1db682a-f14c-4162-b64a-747d647f3678",
   "metadata": {},
   "source": [
    "## 区間演算（上端下端型）\n",
    "\n",
    "区間$\\boldsymbol{X}=[a,b]$, $\\boldsymbol{Y}=[c,d]$に対して、四則演算を定義する：\n",
    "\n",
    "\\begin{align*}\n",
    "\t\\boldsymbol{X}+\\boldsymbol{Y}&=[a+c,b+d]\\\\\n",
    "\t\\boldsymbol{X}-\\boldsymbol{Y}&=[a-d,b-c]\\\\\n",
    "\t\\boldsymbol{X}\\times\\boldsymbol{Y}&=[\\min\\{ac,ad,bc,bd\\},\\max\\{ac,ad,bc,bd\\}]\\\\\n",
    "\t\\boldsymbol{X}\\div\\boldsymbol{Y}&=[\\min\\{a/c,a/d,b/c,b/d\\},\\max\\{a/c,a/d,b/c,b/d\\}]\n",
    "\\end{align*}\n",
    "\n",
    "$\\times,~\\div$は場合分けをする。\n",
    "\n",
    "||$c>0$|$0\\in\\boldsymbol{Y}$|$d<0$|\n",
    "|:-------------:|:-------------:|:---------------:|:-------------:|\n",
    "|$a>0$|$[ac,bd]$|$[bc,bd]$|$[bc,ad]$|\n",
    "|$0\\in\\boldsymbol{X}$|$[ad,bd]$|$A$|$[bc,ac]$|\n",
    "|$b<0$|$[ad,bc]$|$[ad,ad]$|$[bd,ac]$|\n",
    "\n",
    "ただし $A=[\\min\\{ad,bc\\},\\max\\{ad,bc\\}]$."
   ]
  },
  {
   "cell_type": "code",
   "execution_count": 4,
   "id": "a6d43b40-ed5d-4dd3-bc02-dd79deef963c",
   "metadata": {},
   "outputs": [
    {
     "name": "stdout",
     "output_type": "stream",
     "text": [
      "X + Y = [-1, 4]\n",
      "X - Y = [-5, 0]\n",
      "X * Y = [-6, 3]\n",
      "X / Y = [-2, 1]\n"
     ]
    },
    {
     "data": {
      "text/plain": [
       "[-2, 1]"
      ]
     },
     "execution_count": 4,
     "metadata": {},
     "output_type": "execute_result"
    }
   ],
   "source": [
    "X = interval(-2, 1)\n",
    "Y = interval(1, 3)\n",
    "\n",
    "@show X+Y\n",
    "@show X-Y\n",
    "@show X*Y\n",
    "@show X/Y"
   ]
  },
  {
   "cell_type": "markdown",
   "id": "75a3007e-c329-484d-b498-3b8a950987ce",
   "metadata": {},
   "source": [
    "**注意**　浮動小数点数で表現できない数を使うときに注意が必要！例えば $0.1$ は浮動小数点数で表現できない典型例で、\n",
    "\n",
    "$$\n",
    "    \\displaystyle\\frac{1}{10}\\approx{\\color{red}{0.1000000000000000}}055511151231257827021181583404541015625.\n",
    "$$\n",
    "\n",
    "これを端点に持つ区間を考えると..."
   ]
  },
  {
   "cell_type": "code",
   "execution_count": 5,
   "id": "7899e8e1-8411-40da-83f9-0bc253507bd9",
   "metadata": {},
   "outputs": [
    {
     "name": "stdout",
     "output_type": "stream",
     "text": [
      "Interval(0.1, 0.1)"
     ]
    }
   ],
   "source": [
    "x = interval(0.1)\n",
    "showfull(x)"
   ]
  },
  {
   "cell_type": "markdown",
   "id": "4c9480e2-81ee-4ab1-83a6-16a2f30cb5d9",
   "metadata": {},
   "source": [
    "一見、問題なさそうだけど、"
   ]
  },
  {
   "cell_type": "code",
   "execution_count": 6,
   "id": "d6a015a0-b768-4bdc-aebd-b84ecbbeafc5",
   "metadata": {
    "tags": []
   },
   "outputs": [
    {
     "name": "stdout",
     "output_type": "stream",
     "text": [
      "Interval(0.1000000000000000055511151231257827021181583404541015625, 0.1000000000000000055511151231257827021181583404541015625)"
     ]
    }
   ],
   "source": [
    "showfull(big(x))"
   ]
  },
  {
   "cell_type": "markdown",
   "id": "e1a90a2d-eeca-4f7c-8e95-07cdcf0a88cf",
   "metadata": {},
   "source": [
    "数値 $0.1$ が含まれない！うっかり区間演算でこのような使い方をしないために、日頃から注意が必要！回避方法は"
   ]
  },
  {
   "cell_type": "code",
   "execution_count": 7,
   "id": "ce9b9f77-b6a1-465a-bd56-1515f6531924",
   "metadata": {},
   "outputs": [
    {
     "name": "stdout",
     "output_type": "stream",
     "text": [
      "Interval(0.09999999999999999, 0.1)"
     ]
    }
   ],
   "source": [
    "showfull(@interval \"0.1\")"
   ]
  },
  {
   "cell_type": "code",
   "execution_count": 8,
   "id": "68484a5d-154e-4c31-bbf8-a711873568fa",
   "metadata": {},
   "outputs": [
    {
     "name": "stdout",
     "output_type": "stream",
     "text": [
      "Interval(0.09999999999999999, 0.1)"
     ]
    }
   ],
   "source": [
    "showfull(@interval(0.1))"
   ]
  },
  {
   "cell_type": "code",
   "execution_count": 9,
   "id": "61bcf875-1f6a-49b1-b129-13dbda5951e5",
   "metadata": {},
   "outputs": [
    {
     "name": "stdout",
     "output_type": "stream",
     "text": [
      "Interval(0.09999999999999999, 0.1)"
     ]
    }
   ],
   "source": [
    "showfull(0.1..0.1) # IntervalArithmetic.atomic(Interval{Float64}, 0.1)"
   ]
  },
  {
   "cell_type": "code",
   "execution_count": 10,
   "id": "64855549-92db-465d-80e0-ed748f72beca",
   "metadata": {},
   "outputs": [
    {
     "name": "stdout",
     "output_type": "stream",
     "text": [
      "Interval(0.09999999999999999, 0.1)"
     ]
    }
   ],
   "source": [
    "showfull(0.1 ± 0.0)"
   ]
  },
  {
   "cell_type": "markdown",
   "id": "f8f9ed3f-249a-4bed-adb3-5ea836bcc55a",
   "metadata": {},
   "source": [
    "関数定義のときも、ついうっかりやらかしがち。。"
   ]
  },
  {
   "cell_type": "code",
   "execution_count": 11,
   "id": "ca2ab1ad-1935-473f-a610-a928e1a7c1ef",
   "metadata": {},
   "outputs": [
    {
     "name": "stdout",
     "output_type": "stream",
     "text": [
      "Interval(0.200000000000000011102230246251565404236316680908203125, 0.200000000000000011102230246251565404236316680908203125)"
     ]
    }
   ],
   "source": [
    "f(x) = 2x + 0.2\n",
    "showfull(big(f(0..0)))"
   ]
  },
  {
   "cell_type": "markdown",
   "id": "be279e01-d1ee-475a-ba0c-6b6e2f1d5814",
   "metadata": {
    "tags": []
   },
   "source": [
    "## 多倍長浮動小数点数を端点にもつ区間演算\n",
    "\n",
    "Juliaには32/64bit浮動小数点数だけでなく、[GNU MPFR library](https://www.mpfr.org/)のラッパーを使ったBigFloat型という任意精度浮動小数点数が実装されている。`setprecision`で仮数部のbit数を制御する（デフォルトは仮数部256bits、113bitsで四倍精度相当、106bitsでDD型(擬似四倍精度)相当、52bitsでFloat64相当）。指数部は環境依存だが64bit環境では64bit（おそらく）"
   ]
  },
  {
   "cell_type": "code",
   "execution_count": 12,
   "id": "86bff955-be9b-4111-8c4c-3363a91eac67",
   "metadata": {},
   "outputs": [
    {
     "data": {
      "text/plain": [
       "256"
      ]
     },
     "execution_count": 12,
     "metadata": {},
     "output_type": "execute_result"
    }
   ],
   "source": [
    "precision(BigFloat)"
   ]
  },
  {
   "cell_type": "markdown",
   "id": "e853d9c8-d0e1-4355-9f6c-83a75fda8287",
   "metadata": {},
   "source": [
    "BigFloat型の数値を端点にもつ区間を定義できる。"
   ]
  },
  {
   "cell_type": "code",
   "execution_count": 13,
   "id": "aa2dd40c-977c-43f0-8f04-b41b5982616d",
   "metadata": {},
   "outputs": [
    {
     "name": "stdout",
     "output_type": "stream",
     "text": [
      "Interval(0.09999999999999999999999999999999999999999999999999999999999999999999999999999914, 0.2000000000000000000000000000000000000000000000000000000000000000000000000000004)"
     ]
    }
   ],
   "source": [
    "showfull(@biginterval(0.1, 0.2))"
   ]
  },
  {
   "cell_type": "code",
   "execution_count": 14,
   "id": "df9db93c-7999-4e2d-b075-ee5baa37771a",
   "metadata": {},
   "outputs": [
    {
     "data": {
      "text/plain": [
       "(Float64, 256)"
      ]
     },
     "execution_count": 14,
     "metadata": {},
     "output_type": "execute_result"
    }
   ],
   "source": [
    "precision(Interval)"
   ]
  },
  {
   "cell_type": "code",
   "execution_count": 15,
   "id": "711d9663-f6af-4358-bbbe-a58f1da9bede",
   "metadata": {},
   "outputs": [
    {
     "name": "stdout",
     "output_type": "stream",
     "text": [
      "Interval(0.0999999999999999999999999999999997, 0.100000000000000000000000000000001)"
     ]
    }
   ],
   "source": [
    "setprecision(Interval, 106) # DD precision\n",
    "showfull(@interval(0.1))"
   ]
  },
  {
   "cell_type": "code",
   "execution_count": 16,
   "id": "962571b1-ce0c-4c91-8d2c-d9d96c3d372c",
   "metadata": {},
   "outputs": [
    {
     "data": {
      "text/plain": [
       "Float64"
      ]
     },
     "execution_count": 16,
     "metadata": {},
     "output_type": "execute_result"
    }
   ],
   "source": [
    "setprecision(Interval, Float64)"
   ]
  },
  {
   "cell_type": "markdown",
   "id": "dd67dfb5-fef2-45cb-b271-8044ac6e8742",
   "metadata": {},
   "source": [
    "## 丸めモードの制御\n",
    "\n",
    "区間演算をコンピュータで実現するには$\\mathbb{R}$の代わりに$\\mathbb{F}$を使った区間が必要。そのような区間全体を\n",
    "\n",
    "$$\n",
    "\t\\mathbb{IF}:=\\{\\boldsymbol{x}\\in\\mathbb{IR}: \\underline{x},~\\overline{x}\\in\\mathbb{F}\\}\n",
    "$$\n",
    "\n",
    "と定義する。IEEE754規格に準拠したシステム上では演算後の丸めの向きを制御することができる。\n",
    "演算結果が浮動小数点数でない場合、丸めの向きを制御して計算する。\n",
    "いま$a,b\\in\\mathbb{F}$に対して、$\\circ\\in\\{+,-,\\times,\\div\\}$として\n",
    "\n",
    "\\begin{align*}\n",
    "\t\\mathtt{fl}_{\\bigtriangledown}\\!\\left(a\\circ b\\right)&:=\\max\\{x\\in\\mathbb{F}:x\\le a\\circ b\\}\\mbox{（下向き丸め）}\\\\\n",
    "\t\\mathtt{fl}_{\\bigtriangleup}\\!\\left(a\\circ b\\right)&:=\\min\\{x\\in\\mathbb{F}:x\\ge a\\circ b\\}\\mbox{（上向き丸め）}\n",
    "\\end{align*}\n",
    "\n",
    "とすると\n",
    "\n",
    "$$\n",
    "\t\\mathtt{fl}_{\\bigtriangledown}\\!\\left(a\\circ b\\right)\\le a\\circ b\\le\\mathtt{fl}_{\\bigtriangleup}\\!\\left(a\\circ b\\right)\n",
    "$$\n",
    "\n",
    "が成立する。"
   ]
  },
  {
   "cell_type": "markdown",
   "id": "c8a57224-f970-49cf-a74b-277c25b2e0ea",
   "metadata": {
    "tags": []
   },
   "source": [
    "### 上向き／下向き丸めをJuliaでどう実装しているのか？\n",
    "\n",
    "Julia v1.0.5からFloat32/Float64で[**丸めの向きを制御できない**](https://github.com/JuliaLang/julia/pull/27166)という致命的な状況になった。\n",
    "\n",
    "現在は`setrounding(Interval, rounding_type::Symbol)`という関数で、区間演算の丸め制御の方法を選べる。`rounding_type::Symbol`は\n",
    "\n",
    "- `:fast`: [FastRounding.jl](https://github.com/JeffreySarnoff/FastRounding.jl)を使った方向付き丸めの実装（無誤差変換を使うエミュレーション）、速いが極端な入力に対して**バグがある**！\n",
    "- `:tight`: （デフォルト）柏木先生の「[最近点丸めのみによる方向付き丸めのエミュレート](http://verifiedby.me/kv/rounding/emu.pdf)」の実装、kvの`-DKV_NOHWROUND`オプションの実装に相当？\n",
    "- `:accurate`: `prevfloat`, `nextfloat` を使った丸めの実装、速いけど区間幅が大きくなる\n",
    "- `:slow`: 丸めの向きを変更する実装（BigFloatで53bitに指定して、`setrounding`を使ってる？）、遅い\n",
    "- `:none`: 丸めの向き変更なし（精度保証なし）、スピード比較のためのテスト用\n",
    "\n",
    "`:fast`モードは非正規化数を扱う際に[バグ](https://github.com/JuliaIntervals/IntervalArithmetic.jl/issues/215)があるので注意が必要。"
   ]
  },
  {
   "cell_type": "code",
   "execution_count": 17,
   "id": "ce713d99-963a-492c-b3ad-804230ae59ee",
   "metadata": {},
   "outputs": [
    {
     "data": {
      "text/plain": [
       "[0, 0]"
      ]
     },
     "execution_count": 17,
     "metadata": {},
     "output_type": "execute_result"
    }
   ],
   "source": [
    "setrounding(Interval,:fast)\n",
    "tiny = interval(0, floatmin())\n",
    "tiny * tiny\n",
    "# huge = interval(floatmax(), Inf)\n",
    "# huge * huge\n",
    "# huge / tiny\n",
    "# tiny / huge\n",
    "# setrounding(Interval,:tight)"
   ]
  },
  {
   "cell_type": "code",
   "execution_count": 18,
   "id": "a589b2b6-a602-44f3-b61d-989eb0f7ebb0",
   "metadata": {},
   "outputs": [
    {
     "data": {
      "text/plain": [
       ":tight"
      ]
     },
     "execution_count": 18,
     "metadata": {},
     "output_type": "execute_result"
    }
   ],
   "source": [
    "setrounding(Interval,:tight)"
   ]
  },
  {
   "cell_type": "markdown",
   "id": "c4ad317c-c88b-45b9-ba7d-526e712bf660",
   "metadata": {},
   "source": [
    "現在はデフォルトで`:tight`モードになっており、このバグは取れている。\n",
    "\n",
    "さらに、下で紹介する[IntervalMatrices.jl](https://github.com/JuliaReach/IntervalMatrices.jl), [IntervalLinearAlgebra.jl](https://github.com/JuliaIntervals/IntervalLinearAlgebra.jl)というパッケージを調べていたら、[IntervalArithmetic.jl](https://juliaintervals.github.io/IntervalArithmetic.jl/latest/intro/)をロードしておくと[SetRounding.jl](https://github.com/JuliaIntervals/SetRounding.jl)というパッケージを使って、方向付き丸めが実装されている（？）ことが分かった。\n",
    "\n",
    "```\n",
    "setrounding(Float64,RoundUp) do\n",
    "     #ここは上向き丸めで実行される #\n",
    "end\n",
    "\n",
    "setrounding(Float64,RoundDown) do\n",
    "    # ここは下向き丸めで実行される #\n",
    "end\n",
    "```"
   ]
  },
  {
   "cell_type": "code",
   "execution_count": 19,
   "id": "60172ddc-663a-483a-952a-2d6da053236f",
   "metadata": {},
   "outputs": [
    {
     "name": "stdout",
     "output_type": "stream",
     "text": [
      "xup = 0.020000000000000004\n",
      "xdown = 0.019999999999999993\n"
     ]
    },
    {
     "data": {
      "text/plain": [
       "true"
      ]
     },
     "execution_count": 19,
     "metadata": {},
     "output_type": "execute_result"
    }
   ],
   "source": [
    "xup = setrounding(Float64, RoundUp) do\n",
    "    parse(Float64, \"0.1\") * parse(Float64, \"0.2\")\n",
    "end\n",
    "\n",
    "xdown = setrounding(Float64, RoundDown) do\n",
    "    parse(Float64, \"0.1\") * parse(Float64, \"0.2\")\n",
    "end\n",
    "\n",
    "@show xup\n",
    "@show xdown\n",
    "xup ≥ xdown"
   ]
  },
  {
   "cell_type": "markdown",
   "id": "ce1dec88-d3ba-48d3-a1b1-b9fd4cf4311f",
   "metadata": {},
   "source": [
    "---\n",
    "\n",
    "#  ベクトルの内積・行列ベクトル積・行列積\n",
    "\n",
    "$\\mathbb{IF}$ を端点に浮動小数点数を用いた区間全体の集合とする。ここでは $x, y\\in\\mathbb{IF}^n$, $A, B\\in\\mathbb{IF}^{n\\times n}$ に対して、それぞれ $x^Ty \\subset \\alpha$, $Ax\\subset z$, $AB\\subset C$ となる\n",
    "\n",
    "$$\n",
    "\\alpha\\in\\mathbb{IF},\\quad z\\in\\mathbb{IF}^n,\\quad C\\in\\mathbb{IF}^{n\\times n}\n",
    "$$\n",
    "\n",
    "を求める方法を考える。\n",
    "\n",
    "## 素朴な方法\n",
    "\n",
    "最も素朴な方法は各演算を区間演算に変更した方式。\n",
    "\n",
    "$$\n",
    "    \\alpha = \\sum_{k = 1}^n x_ky_k\n",
    "$$\n",
    "\n",
    "$$\n",
    "    z_i = \\sum_{k = 1}^n A_{i,k}x_k\\quad (1\\le i\\le n)\n",
    "$$\n",
    "\n",
    "$$\n",
    "    C_{ij} = \\sum_{k=1}^n A_{i,k}B_{k,j}\\quad (1\\le i,j\\le n).\n",
    "$$\n",
    "\n",
    "IntervalArithmetic.jlパッケージで内積・行列ベクトル積・行列積を実行すると、この方法が実装されている。しかし、プログラムの最適化が難しく、計算機の性能を十分に引き出した実装が難しい（と思われていたがそうでもない？）。"
   ]
  },
  {
   "cell_type": "code",
   "execution_count": 20,
   "id": "e35ad794-4645-4dc5-b639-a234a88c4fd9",
   "metadata": {},
   "outputs": [
    {
     "name": "stdout",
     "output_type": "stream",
     "text": [
      "  63.916 μs (0 allocations: 0 bytes)\n"
     ]
    },
    {
     "data": {
      "text/plain": [
       "[2.23671, 2.23672]"
      ]
     },
     "execution_count": 20,
     "metadata": {},
     "output_type": "execute_result"
    }
   ],
   "source": [
    "using IntervalArithmetic, BenchmarkTools\n",
    "\n",
    "n = 1000\n",
    "x = randn(n)\n",
    "y = randn(n)\n",
    "\n",
    "ix = map(Interval, x)\n",
    "iy = map(Interval, y)\n",
    "@btime alpha = dot($ix,$iy) # Level 1"
   ]
  },
  {
   "cell_type": "code",
   "execution_count": 21,
   "id": "eee65662-e60a-4379-92aa-8d4c1d2c2b51",
   "metadata": {},
   "outputs": [],
   "source": [
    "# ix = IntervalBox(ix)\n",
    "# iy = IntervalBox(iy)\n",
    "# @btime alpha = dot($ix,$iy) # Level 1"
   ]
  },
  {
   "cell_type": "markdown",
   "id": "861fc855-1529-400e-80cc-f7a58cb79e6e",
   "metadata": {},
   "source": [
    "**注意**　`BenchmarkTools`の`@btime`や`@benckmark`マクロを使うときは、\n",
    "``\n",
    "@btime A*B\n",
    "``\n",
    "とせずに\n",
    "``\n",
    "@btime $A*$B;\n",
    "``\n",
    "と変数名に`$`をつける。これは計測時間に変数の呼び出しを含めるか指定するもので、前者が「変数の呼び出し時間を含めた計測」、後者は「行列積の計算時間の計測」を意味している。"
   ]
  },
  {
   "cell_type": "code",
   "execution_count": 22,
   "id": "8c850957-79f9-4ab2-aa07-a41678c3ba35",
   "metadata": {},
   "outputs": [
    {
     "name": "stdout",
     "output_type": "stream",
     "text": [
      "  0.451896 seconds (1.93 M allocations: 76.246 MiB, 1.36% gc time, 83.65% compilation time)\n",
      "  0.072821 seconds (1 allocation: 15.750 KiB)\n",
      "  0.073937 seconds (18 allocations: 1.266 KiB, 1.38% compilation time)\n",
      "  0.443584 seconds (1.60 M allocations: 62.656 MiB, 2.42% gc time, 84.28% compilation time)\n",
      "  0.069804 seconds (1.00 k allocations: 102.000 KiB)\n",
      "iy ⊆ iz = true\n",
      "iz ⊆ iy = true\n",
      "iz2 ⊆ iy = true\n"
     ]
    },
    {
     "data": {
      "text/plain": [
       "true"
      ]
     },
     "execution_count": 22,
     "metadata": {},
     "output_type": "execute_result"
    }
   ],
   "source": [
    "using LinearAlgebra\n",
    "\n",
    "n = 1000\n",
    "A = randn(n,n)\n",
    "x = randn(n) \n",
    "\n",
    "iA = map(Interval, A)\n",
    "ix = map(Interval, x)\n",
    "iy = similar(ix)\n",
    "\n",
    "@time iz = iA * ix # Level 2\n",
    "@time iz = iA * ix # Level 2\n",
    "@time mul!(iy, iA, ix) # Level 2\n",
    "\n",
    "ix = IntervalBox(ix)\n",
    "@time iz2 = iA * ix # Level 2\n",
    "@time iz2 = iA * ix # Level 2\n",
    "\n",
    "@show iy ⊆ iz\n",
    "@show iz ⊆ iy\n",
    "@show iz2 ⊆ iy"
   ]
  },
  {
   "cell_type": "code",
   "execution_count": 23,
   "id": "f05f7401-1442-4c21-bda9-8629167a3e4a",
   "metadata": {},
   "outputs": [
    {
     "name": "stdout",
     "output_type": "stream",
     "text": [
      "  2.038 s (8 allocations: 1.37 MiB)\n"
     ]
    }
   ],
   "source": [
    "n = 300\n",
    "A = randn(n,n)\n",
    "B = randn(n,n)\n",
    "\n",
    "iA = map(Interval, A)\n",
    "iB = map(Interval, B)\n",
    "\n",
    "@btime $iA * $iB;  # Level 3"
   ]
  },
  {
   "cell_type": "markdown",
   "id": "4d7c20fa-3e2b-47fc-b41b-632b7fb4aec3",
   "metadata": {},
   "source": [
    "ここまでは想定通り。最近[IntervalMatrices.jl](https://github.com/JuliaReach/IntervalMatrices.jl)というパッケージを発見して、これを使うと速い。"
   ]
  },
  {
   "cell_type": "code",
   "execution_count": 24,
   "id": "83621d4a-aac9-438b-bda3-22e2fb6bd006",
   "metadata": {},
   "outputs": [
    {
     "name": "stdout",
     "output_type": "stream",
     "text": [
      "  5.346 ms (58 allocations: 16.48 MiB)\n"
     ]
    }
   ],
   "source": [
    "using IntervalMatrices\n",
    "\n",
    "iA = IntervalMatrix(iA)\n",
    "iB = IntervalMatrix(iB)\n",
    "\n",
    "@btime $iA * $iB;  # Level 3"
   ]
  },
  {
   "cell_type": "markdown",
   "id": "9fdd0780-da81-43a3-a8da-b1940f76b6d0",
   "metadata": {},
   "source": [
    "「Juliaで精度保証付き数値計算」の[内積・行列ベクトル積・行列積のページ](https://www.risk.tsukuba.ac.jp/~takitoshi/tutorial/interval_dot-mul.html)で実装したBLASを使う行列積と比較すると、BLASがそこまで早くない環境（Apple M1チップ等のMKLの効果が期待できない環境）では、IntervalMatrixを使う計算が肉薄している。"
   ]
  },
  {
   "cell_type": "code",
   "execution_count": 25,
   "id": "5f62d6c4-580c-44aa-9fb4-97df4e499751",
   "metadata": {},
   "outputs": [
    {
     "name": "stdout",
     "output_type": "stream",
     "text": [
      "  2.399 ms (14 allocations: 4.81 MiB)\n"
     ]
    }
   ],
   "source": [
    "include(\"IntervalFunctions.jl\")\n",
    "@btime mm_ufp($A, $B);"
   ]
  },
  {
   "cell_type": "code",
   "execution_count": 26,
   "id": "b9ada065-8dc7-4b4b-8361-9e983a54aafc",
   "metadata": {},
   "outputs": [
    {
     "data": {
      "text/plain": [
       "true"
      ]
     },
     "execution_count": 26,
     "metadata": {},
     "output_type": "execute_result"
    }
   ],
   "source": [
    "iC = iA * iB\n",
    "C_mid, C_rad = mm_ufp(A, B)\n",
    "iC_BLAS = C_mid .± C_rad\n",
    "\n",
    "any(iC[:] .⊆ iC_BLAS[:])"
   ]
  },
  {
   "cell_type": "code",
   "execution_count": 27,
   "id": "4074bfaa-66fe-4b41-b44a-ce9c677766bb",
   "metadata": {},
   "outputs": [
    {
     "name": "stdout",
     "output_type": "stream",
     "text": [
      "  0.193221 seconds (58 allocations: 183.107 MiB, 7.05% gc time)\n",
      "  0.073051 seconds (17 allocations: 53.406 MiB)\n",
      "maximum(radius, iC) = 2.0179413695586845e-12\n",
      "maximum(radius, iC2) = 5.6985527407960035e-11\n"
     ]
    }
   ],
   "source": [
    "n = 1000\n",
    "\n",
    "A = randn(n,n)\n",
    "B = randn(n,n)\n",
    "\n",
    "iA = IntervalMatrix(map(Interval, A))\n",
    "iB = IntervalMatrix(map(Interval, B))\n",
    "\n",
    "# @time iC2 = iA * iB  # Level 3\n",
    "# @time iC2 = iA * iB  # Level 3\n",
    "@time iC = iA * iB;  # Level 3\n",
    "@time C_mid, C_rad = mm_ufp(A, B);\n",
    "iC2 = C_mid .± C_rad\n",
    "@show maximum(radius,iC)\n",
    "@show maximum(radius,iC2);"
   ]
  },
  {
   "cell_type": "markdown",
   "id": "23e6980e-815a-4059-9959-a79fe5d23919",
   "metadata": {},
   "source": [
    "IntervalMatrices.jlを用いた行列積の実装は多倍長浮動小数点数を端点にもつ区間行列なども容易に実装できる。この点はMATLAB等にはできない芸当である（少し計算時間はかかる）。"
   ]
  },
  {
   "cell_type": "code",
   "execution_count": 28,
   "id": "79992273-6927-4149-847d-bcb68d01748b",
   "metadata": {},
   "outputs": [
    {
     "name": "stdout",
     "output_type": "stream",
     "text": [
      "  4.693198 seconds (132.24 M allocations: 5.936 GiB, 14.70% gc time, 10.61% compilation time)\n",
      "  4.075434 seconds (130.40 M allocations: 5.836 GiB, 13.88% gc time)\n"
     ]
    },
    {
     "data": {
      "text/plain": [
       "200×200 IntervalMatrix{BigFloat, Interval{BigFloat}, Matrix{Interval{BigFloat}}}:\n",
       "  [21.3845, 21.3846]₁₀₆     …   [14.7041, 14.7042]₁₀₆\n",
       "  [21.8353, 21.8354]₁₀₆         [15.6635, 15.6636]₁₀₆\n",
       " [-18.1699, -18.1698]₁₀₆         [8.42166, 8.42167]₁₀₆\n",
       "  [-2.89569, -2.89568]₁₀₆       [-9.70599, -9.70598]₁₀₆\n",
       "   [3.25764, 3.25765]₁₀₆       [-19.3428, -19.3427]₁₀₆\n",
       "  [-9.08932, -9.08931]₁₀₆   …    [7.26828, 7.26829]₁₀₆\n",
       "  [-3.99256, -3.99255]₁₀₆       [-0.615205, -0.615204]₁₀₆\n",
       " [-11.4307, -11.4306]₁₀₆       [-17.4252, -17.4251]₁₀₆\n",
       " [-12.5125, -12.5124]₁₀₆        [-6.27085, -6.27084]₁₀₆\n",
       "  [-1.54184, -1.54183]₁₀₆       [-0.482978, -0.482977]₁₀₆\n",
       " [-22.6139, -22.6138]₁₀₆    …   [10.0621, 10.0622]₁₀₆\n",
       "   [0.435738, 0.435739]₁₀₆      [-1.4594, -1.45939]₁₀₆\n",
       "   [6.26506, 6.26507]₁₀₆         [1.63231, 1.63232]₁₀₆\n",
       "    ⋮                       ⋱  \n",
       " [-24.3177, -24.3176]₁₀₆        [11.9159, 11.916]₁₀₆\n",
       "  [11.915, 11.9151]₁₀₆          [-7.47965, -7.47964]₁₀₆\n",
       " [-14.8553, -14.8552]₁₀₆    …   [-8.34117, -8.34116]₁₀₆\n",
       " [-14.6738, -14.6737]₁₀₆         [3.81028, 3.81029]₁₀₆\n",
       "   [1.00951, 1.00952]₁₀₆         [2.78623, 2.78624]₁₀₆\n",
       "  [-7.37025, -7.37024]₁₀₆      [-19.4917, -19.4916]₁₀₆\n",
       "  [10.0106, 10.0107]₁₀₆        [-13.0375, -13.0374]₁₀₆\n",
       "  [20.8475, 20.8476]₁₀₆     …   [-2.02941, -2.0294]₁₀₆\n",
       "  [-9.81453, -9.81452]₁₀₆       [-4.64756, -4.64755]₁₀₆\n",
       "   [8.4315, 8.43151]₁₀₆          [8.33919, 8.3392]₁₀₆\n",
       "  [28.3188, 28.3189]₁₀₆          [9.61129, 9.6113]₁₀₆\n",
       "   [0.283241, 0.283242]₁₀₆      [44.7129, 44.713]₁₀₆"
      ]
     },
     "execution_count": 28,
     "metadata": {},
     "output_type": "execute_result"
    }
   ],
   "source": [
    "setprecision(Interval, 106) # DD precision\n",
    "\n",
    "n = 200\n",
    "A = randn(n,n)\n",
    "B = randn(n,n)\n",
    "\n",
    "iA = IntervalMatrix(map(Interval,map(big,A)))\n",
    "iB = IntervalMatrix(map(Interval,map(big,B)))\n",
    "\n",
    "@time iA * iB\n",
    "@time iC = iA * iB"
   ]
  },
  {
   "cell_type": "code",
   "execution_count": 29,
   "id": "99921c33-a35a-44df-8a63-6d2c166451e2",
   "metadata": {},
   "outputs": [
    {
     "data": {
      "text/plain": [
       "Float64"
      ]
     },
     "execution_count": 29,
     "metadata": {},
     "output_type": "execute_result"
    }
   ],
   "source": [
    "setprecision(Interval, Float64)"
   ]
  },
  {
   "cell_type": "markdown",
   "id": "77e57264-2b20-46fd-9503-35c46181b78e",
   "metadata": {},
   "source": [
    "---\n",
    "\n",
    "# 線型方程式の求解\n",
    "\n",
    "$A\\in \\mathbb{K}^{n\\times n}$ を $n$ 次行列、$b\\in\\mathbb{K}^n$ を $n$ 次元ベクトルとする。ただし $\\mathbb{K}=\\mathbb{C}$ or $\\mathbb{R}$ とする。このとき、線型方程式\n",
    "\n",
    "$$\n",
    "Ax=b\n",
    "$$\n",
    "\n",
    "の解 $\\tilde{x}\\in\\mathbb{K}$ の精度保証付き数値計算を考える。\n",
    "もしも行列 $A$ が正則（$\\det(A)\\neq 0$）ならば、逆行列 $A^{-1}$ が存在し、線型方程式は厳密解がただ一つ存在する。したがって、精度保証付き数値計算で必要なことは、\n",
    "\n",
    "- 行列 $A$ が正則である\n",
    "- 厳密解 $\\tilde{x}$ の存在する範囲を計算する（誤差評価）\n",
    "\n",
    "の2つである。\n",
    "\n",
    "## 区間ガウスの消去法\n",
    "\n",
    "区間ガウスの消去法（IG）はいわゆるガウスの消去法を全て区間演算に置き換えた方法であり、\"理論上は\"解の厳密な包含が得られることになる。しかし、区間ガウスの消去法は、係数行列 $A$ の\n",
    "次数 $n$ がある程度以上の大きくなると、解の誤差半径が爆発的に大きくなってしまい、適用不可能になるという致命的な欠点がある。これは区間演算による区間幅の増大が原因で、丸め誤差の過大評価によって計算結果が物凄く粗い評価となってしまう。例えば、`IntervalArithmetic.jl`を使って、区間ガウスの消去法に基づいて線型方程式の求解ができる。"
   ]
  },
  {
   "cell_type": "code",
   "execution_count": 30,
   "id": "89f792ed-a924-445d-9b7b-2e9e8cf08498",
   "metadata": {},
   "outputs": [
    {
     "name": "stdout",
     "output_type": "stream",
     "text": [
      "A \\ b = Interval{Float64}[[1.99999, 2.00001], [1.99999, 2.00001], [0.999999, 1.00001]]\n"
     ]
    }
   ],
   "source": [
    "using IntervalArithmetic, BenchmarkTools\n",
    "A = [2 2 3; -2 5 1; 5 6 9]\n",
    "b = A*[2,2,1]　 # Exact solution: (2,2,1)^T\n",
    "\n",
    "A = map(interval, A)\n",
    "b = map(interval, b)\n",
    "# x = A\\b\n",
    "@show A\\b;\n",
    "# maximum(radius,x)"
   ]
  },
  {
   "cell_type": "markdown",
   "id": "26069d18-8df8-4e1d-90ac-91a7d2e25ad2",
   "metadata": {},
   "source": [
    "解の包含の区間幅は約 $10^{-14}$ と十分小さな区間になっていると思われるが、行列のサイズ $n$ が大きくなるにつれて、区間幅が増大し、この方法は破綻する。"
   ]
  },
  {
   "cell_type": "code",
   "execution_count": 31,
   "id": "3980e9c3-2961-450b-9cbe-4ae10694d067",
   "metadata": {},
   "outputs": [
    {
     "data": {
      "image/svg+xml": [
       "<?xml version=\"1.0\" encoding=\"utf-8\"?>\n",
       "<svg xmlns=\"http://www.w3.org/2000/svg\" xmlns:xlink=\"http://www.w3.org/1999/xlink\" width=\"600\" height=\"400\" viewBox=\"0 0 2400 1600\">\n",
       "<defs>\n",
       "  <clipPath id=\"clip570\">\n",
       "    <rect x=\"0\" y=\"0\" width=\"2400\" height=\"1600\"/>\n",
       "  </clipPath>\n",
       "</defs>\n",
       "<path clip-path=\"url(#clip570)\" d=\"\n",
       "M0 1600 L2400 1600 L2400 0 L0 0  Z\n",
       "  \" fill=\"#ffffff\" fill-rule=\"evenodd\" fill-opacity=\"1\"/>\n",
       "<defs>\n",
       "  <clipPath id=\"clip571\">\n",
       "    <rect x=\"480\" y=\"0\" width=\"1681\" height=\"1600\"/>\n",
       "  </clipPath>\n",
       "</defs>\n",
       "<path clip-path=\"url(#clip570)\" d=\"\n",
       "M276.876 1423.18 L2352.76 1423.18 L2352.76 123.472 L276.876 123.472  Z\n",
       "  \" fill=\"#ffffff\" fill-rule=\"evenodd\" fill-opacity=\"1\"/>\n",
       "<defs>\n",
       "  <clipPath id=\"clip572\">\n",
       "    <rect x=\"276\" y=\"123\" width=\"2077\" height=\"1301\"/>\n",
       "  </clipPath>\n",
       "</defs>\n",
       "<polyline clip-path=\"url(#clip572)\" style=\"stroke:#000000; stroke-linecap:butt; stroke-linejoin:round; stroke-width:2; stroke-opacity:0.1; fill:none\" points=\"\n",
       "  276.876,1423.18 276.876,123.472 \n",
       "  \"/>\n",
       "<polyline clip-path=\"url(#clip572)\" style=\"stroke:#000000; stroke-linecap:butt; stroke-linejoin:round; stroke-width:2; stroke-opacity:0.1; fill:none\" points=\"\n",
       "  946.514,1423.18 946.514,123.472 \n",
       "  \"/>\n",
       "<polyline clip-path=\"url(#clip572)\" style=\"stroke:#000000; stroke-linecap:butt; stroke-linejoin:round; stroke-width:2; stroke-opacity:0.1; fill:none\" points=\"\n",
       "  1616.15,1423.18 1616.15,123.472 \n",
       "  \"/>\n",
       "<polyline clip-path=\"url(#clip572)\" style=\"stroke:#000000; stroke-linecap:butt; stroke-linejoin:round; stroke-width:2; stroke-opacity:0.1; fill:none\" points=\"\n",
       "  2285.79,1423.18 2285.79,123.472 \n",
       "  \"/>\n",
       "<polyline clip-path=\"url(#clip570)\" style=\"stroke:#000000; stroke-linecap:butt; stroke-linejoin:round; stroke-width:4; stroke-opacity:1; fill:none\" points=\"\n",
       "  276.876,1423.18 2352.76,1423.18 \n",
       "  \"/>\n",
       "<polyline clip-path=\"url(#clip570)\" style=\"stroke:#000000; stroke-linecap:butt; stroke-linejoin:round; stroke-width:4; stroke-opacity:1; fill:none\" points=\"\n",
       "  276.876,1423.18 276.876,1404.28 \n",
       "  \"/>\n",
       "<polyline clip-path=\"url(#clip570)\" style=\"stroke:#000000; stroke-linecap:butt; stroke-linejoin:round; stroke-width:4; stroke-opacity:1; fill:none\" points=\"\n",
       "  946.514,1423.18 946.514,1404.28 \n",
       "  \"/>\n",
       "<polyline clip-path=\"url(#clip570)\" style=\"stroke:#000000; stroke-linecap:butt; stroke-linejoin:round; stroke-width:4; stroke-opacity:1; fill:none\" points=\"\n",
       "  1616.15,1423.18 1616.15,1404.28 \n",
       "  \"/>\n",
       "<polyline clip-path=\"url(#clip570)\" style=\"stroke:#000000; stroke-linecap:butt; stroke-linejoin:round; stroke-width:4; stroke-opacity:1; fill:none\" points=\"\n",
       "  2285.79,1423.18 2285.79,1404.28 \n",
       "  \"/>\n",
       "<path clip-path=\"url(#clip570)\" d=\"M276.876 1454.1 Q273.264 1454.1 271.436 1457.66 Q269.63 1461.2 269.63 1468.33 Q269.63 1475.44 271.436 1479.01 Q273.264 1482.55 276.876 1482.55 Q280.51 1482.55 282.315 1479.01 Q284.144 1475.44 284.144 1468.33 Q284.144 1461.2 282.315 1457.66 Q280.51 1454.1 276.876 1454.1 M276.876 1450.39 Q282.686 1450.39 285.741 1455 Q288.82 1459.58 288.82 1468.33 Q288.82 1477.06 285.741 1481.67 Q282.686 1486.25 276.876 1486.25 Q271.065 1486.25 267.987 1481.67 Q264.931 1477.06 264.931 1468.33 Q264.931 1459.58 267.987 1455 Q271.065 1450.39 276.876 1450.39 Z\" fill=\"#000000\" fill-rule=\"evenodd\" fill-opacity=\"1\" /><path clip-path=\"url(#clip570)\" d=\"M921.202 1481.64 L928.841 1481.64 L928.841 1455.28 L920.531 1456.95 L920.531 1452.69 L928.795 1451.02 L933.47 1451.02 L933.47 1481.64 L941.109 1481.64 L941.109 1485.58 L921.202 1485.58 L921.202 1481.64 Z\" fill=\"#000000\" fill-rule=\"evenodd\" fill-opacity=\"1\" /><path clip-path=\"url(#clip570)\" d=\"M960.554 1454.1 Q956.943 1454.1 955.114 1457.66 Q953.308 1461.2 953.308 1468.33 Q953.308 1475.44 955.114 1479.01 Q956.943 1482.55 960.554 1482.55 Q964.188 1482.55 965.993 1479.01 Q967.822 1475.44 967.822 1468.33 Q967.822 1461.2 965.993 1457.66 Q964.188 1454.1 960.554 1454.1 M960.554 1450.39 Q966.364 1450.39 969.419 1455 Q972.498 1459.58 972.498 1468.33 Q972.498 1477.06 969.419 1481.67 Q966.364 1486.25 960.554 1486.25 Q954.743 1486.25 951.665 1481.67 Q948.609 1477.06 948.609 1468.33 Q948.609 1459.58 951.665 1455 Q954.743 1450.39 960.554 1450.39 Z\" fill=\"#000000\" fill-rule=\"evenodd\" fill-opacity=\"1\" /><path clip-path=\"url(#clip570)\" d=\"M1594.93 1481.64 L1611.25 1481.64 L1611.25 1485.58 L1589.3 1485.58 L1589.3 1481.64 Q1591.96 1478.89 1596.55 1474.26 Q1601.15 1469.61 1602.33 1468.27 Q1604.58 1465.74 1605.46 1464.01 Q1606.36 1462.25 1606.36 1460.56 Q1606.36 1457.8 1604.42 1456.07 Q1602.5 1454.33 1599.39 1454.33 Q1597.19 1454.33 1594.74 1455.09 Q1592.31 1455.86 1589.53 1457.41 L1589.53 1452.69 Q1592.36 1451.55 1594.81 1450.97 Q1597.26 1450.39 1599.3 1450.39 Q1604.67 1450.39 1607.87 1453.08 Q1611.06 1455.77 1611.06 1460.26 Q1611.06 1462.39 1610.25 1464.31 Q1609.46 1466.2 1607.36 1468.8 Q1606.78 1469.47 1603.68 1472.69 Q1600.57 1475.88 1594.93 1481.64 Z\" fill=\"#000000\" fill-rule=\"evenodd\" fill-opacity=\"1\" /><path clip-path=\"url(#clip570)\" d=\"M1631.06 1454.1 Q1627.45 1454.1 1625.62 1457.66 Q1623.82 1461.2 1623.82 1468.33 Q1623.82 1475.44 1625.62 1479.01 Q1627.45 1482.55 1631.06 1482.55 Q1634.69 1482.55 1636.5 1479.01 Q1638.33 1475.44 1638.33 1468.33 Q1638.33 1461.2 1636.5 1457.66 Q1634.69 1454.1 1631.06 1454.1 M1631.06 1450.39 Q1636.87 1450.39 1639.93 1455 Q1643 1459.58 1643 1468.33 Q1643 1477.06 1639.93 1481.67 Q1636.87 1486.25 1631.06 1486.25 Q1625.25 1486.25 1622.17 1481.67 Q1619.12 1477.06 1619.12 1468.33 Q1619.12 1459.58 1622.17 1455 Q1625.25 1450.39 1631.06 1450.39 Z\" fill=\"#000000\" fill-rule=\"evenodd\" fill-opacity=\"1\" /><path clip-path=\"url(#clip570)\" d=\"M2274.63 1466.95 Q2277.99 1467.66 2279.87 1469.93 Q2281.76 1472.2 2281.76 1475.53 Q2281.76 1480.65 2278.25 1483.45 Q2274.73 1486.25 2268.25 1486.25 Q2266.07 1486.25 2263.76 1485.81 Q2261.46 1485.39 2259.01 1484.54 L2259.01 1480.02 Q2260.95 1481.16 2263.27 1481.74 Q2265.58 1482.32 2268.11 1482.32 Q2272.51 1482.32 2274.8 1480.58 Q2277.11 1478.84 2277.11 1475.53 Q2277.11 1472.48 2274.96 1470.77 Q2272.83 1469.03 2269.01 1469.03 L2264.98 1469.03 L2264.98 1465.19 L2269.19 1465.19 Q2272.64 1465.19 2274.47 1463.82 Q2276.3 1462.43 2276.3 1459.84 Q2276.3 1457.18 2274.4 1455.77 Q2272.53 1454.33 2269.01 1454.33 Q2267.09 1454.33 2264.89 1454.75 Q2262.69 1455.16 2260.05 1456.04 L2260.05 1451.88 Q2262.71 1451.14 2265.03 1450.77 Q2267.37 1450.39 2269.43 1450.39 Q2274.75 1450.39 2277.85 1452.83 Q2280.95 1455.23 2280.95 1459.35 Q2280.95 1462.22 2279.31 1464.21 Q2277.67 1466.18 2274.63 1466.95 Z\" fill=\"#000000\" fill-rule=\"evenodd\" fill-opacity=\"1\" /><path clip-path=\"url(#clip570)\" d=\"M2300.63 1454.1 Q2297.02 1454.1 2295.19 1457.66 Q2293.38 1461.2 2293.38 1468.33 Q2293.38 1475.44 2295.19 1479.01 Q2297.02 1482.55 2300.63 1482.55 Q2304.26 1482.55 2306.07 1479.01 Q2307.9 1475.44 2307.9 1468.33 Q2307.9 1461.2 2306.07 1457.66 Q2304.26 1454.1 2300.63 1454.1 M2300.63 1450.39 Q2306.44 1450.39 2309.5 1455 Q2312.57 1459.58 2312.57 1468.33 Q2312.57 1477.06 2309.5 1481.67 Q2306.44 1486.25 2300.63 1486.25 Q2294.82 1486.25 2291.74 1481.67 Q2288.69 1477.06 2288.69 1468.33 Q2288.69 1459.58 2291.74 1455 Q2294.82 1450.39 2300.63 1450.39 Z\" fill=\"#000000\" fill-rule=\"evenodd\" fill-opacity=\"1\" /><path clip-path=\"url(#clip570)\" d=\"M1329.74 1546.53 L1329.74 1568.04 L1323.89 1568.04 L1323.89 1546.72 Q1323.89 1541.66 1321.91 1539.14 Q1319.94 1536.63 1315.99 1536.63 Q1311.25 1536.63 1308.51 1539.65 Q1305.78 1542.68 1305.78 1547.9 L1305.78 1568.04 L1299.89 1568.04 L1299.89 1532.4 L1305.78 1532.4 L1305.78 1537.93 Q1307.88 1534.72 1310.71 1533.13 Q1313.57 1531.54 1317.3 1531.54 Q1323.44 1531.54 1326.59 1535.36 Q1329.74 1539.14 1329.74 1546.53 Z\" fill=\"#000000\" fill-rule=\"evenodd\" fill-opacity=\"1\" /><polyline clip-path=\"url(#clip572)\" style=\"stroke:#000000; stroke-linecap:butt; stroke-linejoin:round; stroke-width:2; stroke-opacity:0.1; fill:none\" points=\"\n",
       "  276.876,1353.56 2352.76,1353.56 \n",
       "  \"/>\n",
       "<polyline clip-path=\"url(#clip572)\" style=\"stroke:#000000; stroke-linecap:butt; stroke-linejoin:round; stroke-width:2; stroke-opacity:0.1; fill:none\" points=\"\n",
       "  276.876,887.888 2352.76,887.888 \n",
       "  \"/>\n",
       "<polyline clip-path=\"url(#clip572)\" style=\"stroke:#000000; stroke-linecap:butt; stroke-linejoin:round; stroke-width:2; stroke-opacity:0.1; fill:none\" points=\"\n",
       "  276.876,422.214 2352.76,422.214 \n",
       "  \"/>\n",
       "<polyline clip-path=\"url(#clip570)\" style=\"stroke:#000000; stroke-linecap:butt; stroke-linejoin:round; stroke-width:4; stroke-opacity:1; fill:none\" points=\"\n",
       "  276.876,1423.18 276.876,123.472 \n",
       "  \"/>\n",
       "<polyline clip-path=\"url(#clip570)\" style=\"stroke:#000000; stroke-linecap:butt; stroke-linejoin:round; stroke-width:4; stroke-opacity:1; fill:none\" points=\"\n",
       "  276.876,1353.56 295.773,1353.56 \n",
       "  \"/>\n",
       "<polyline clip-path=\"url(#clip570)\" style=\"stroke:#000000; stroke-linecap:butt; stroke-linejoin:round; stroke-width:4; stroke-opacity:1; fill:none\" points=\"\n",
       "  276.876,887.888 295.773,887.888 \n",
       "  \"/>\n",
       "<polyline clip-path=\"url(#clip570)\" style=\"stroke:#000000; stroke-linecap:butt; stroke-linejoin:round; stroke-width:4; stroke-opacity:1; fill:none\" points=\"\n",
       "  276.876,422.214 295.773,422.214 \n",
       "  \"/>\n",
       "<path clip-path=\"url(#clip570)\" d=\"M115.74 1373.36 L123.379 1373.36 L123.379 1346.99 L115.069 1348.66 L115.069 1344.4 L123.333 1342.73 L128.009 1342.73 L128.009 1373.36 L135.647 1373.36 L135.647 1377.29 L115.74 1377.29 L115.74 1373.36 Z\" fill=\"#000000\" fill-rule=\"evenodd\" fill-opacity=\"1\" /><path clip-path=\"url(#clip570)\" d=\"M155.092 1345.81 Q151.481 1345.81 149.652 1349.37 Q147.846 1352.92 147.846 1360.05 Q147.846 1367.15 149.652 1370.72 Q151.481 1374.26 155.092 1374.26 Q158.726 1374.26 160.532 1370.72 Q162.36 1367.15 162.36 1360.05 Q162.36 1352.92 160.532 1349.37 Q158.726 1345.81 155.092 1345.81 M155.092 1342.11 Q160.902 1342.11 163.958 1346.71 Q167.036 1351.3 167.036 1360.05 Q167.036 1368.77 163.958 1373.38 Q160.902 1377.96 155.092 1377.96 Q149.282 1377.96 146.203 1373.38 Q143.147 1368.77 143.147 1360.05 Q143.147 1351.3 146.203 1346.71 Q149.282 1342.11 155.092 1342.11 Z\" fill=\"#000000\" fill-rule=\"evenodd\" fill-opacity=\"1\" /><path clip-path=\"url(#clip570)\" d=\"M167.036 1336.21 L191.148 1336.21 L191.148 1339.4 L167.036 1339.4 L167.036 1336.21 Z\" fill=\"#000000\" fill-rule=\"evenodd\" fill-opacity=\"1\" /><path clip-path=\"url(#clip570)\" d=\"M200.006 1346.68 L206.213 1346.68 L206.213 1325.26 L199.461 1326.61 L199.461 1323.15 L206.175 1321.8 L209.974 1321.8 L209.974 1346.68 L216.181 1346.68 L216.181 1349.88 L200.006 1349.88 L200.006 1346.68 Z\" fill=\"#000000\" fill-rule=\"evenodd\" fill-opacity=\"1\" /><path clip-path=\"url(#clip570)\" d=\"M223.892 1321.8 L238.807 1321.8 L238.807 1325 L227.372 1325 L227.372 1331.88 Q228.199 1331.6 229.027 1331.47 Q229.854 1331.32 230.682 1331.32 Q235.384 1331.32 238.13 1333.89 Q240.876 1336.47 240.876 1340.87 Q240.876 1345.4 238.054 1347.92 Q235.233 1350.43 230.099 1350.43 Q228.331 1350.43 226.488 1350.12 Q224.663 1349.82 222.707 1349.22 L222.707 1345.4 Q224.4 1346.33 226.205 1346.78 Q228.011 1347.23 230.023 1347.23 Q233.277 1347.23 235.177 1345.52 Q237.076 1343.81 237.076 1340.87 Q237.076 1337.94 235.177 1336.23 Q233.277 1334.51 230.023 1334.51 Q228.5 1334.51 226.977 1334.85 Q225.472 1335.19 223.892 1335.91 L223.892 1321.8 Z\" fill=\"#000000\" fill-rule=\"evenodd\" fill-opacity=\"1\" /><path clip-path=\"url(#clip570)\" d=\"M114.931 907.681 L122.57 907.681 L122.57 881.315 L114.26 882.982 L114.26 878.723 L122.524 877.056 L127.2 877.056 L127.2 907.681 L134.839 907.681 L134.839 911.616 L114.931 911.616 L114.931 907.681 Z\" fill=\"#000000\" fill-rule=\"evenodd\" fill-opacity=\"1\" /><path clip-path=\"url(#clip570)\" d=\"M154.283 880.135 Q150.672 880.135 148.843 883.7 Q147.038 887.241 147.038 894.371 Q147.038 901.477 148.843 905.042 Q150.672 908.584 154.283 908.584 Q157.917 908.584 159.723 905.042 Q161.552 901.477 161.552 894.371 Q161.552 887.241 159.723 883.7 Q157.917 880.135 154.283 880.135 M154.283 876.431 Q160.093 876.431 163.149 881.038 Q166.227 885.621 166.227 894.371 Q166.227 903.098 163.149 907.704 Q160.093 912.287 154.283 912.287 Q148.473 912.287 145.394 907.704 Q142.339 903.098 142.339 894.371 Q142.339 885.621 145.394 881.038 Q148.473 876.431 154.283 876.431 Z\" fill=\"#000000\" fill-rule=\"evenodd\" fill-opacity=\"1\" /><path clip-path=\"url(#clip570)\" d=\"M166.227 870.532 L190.339 870.532 L190.339 873.73 L166.227 873.73 L166.227 870.532 Z\" fill=\"#000000\" fill-rule=\"evenodd\" fill-opacity=\"1\" /><path clip-path=\"url(#clip570)\" d=\"M199.197 881.008 L205.404 881.008 L205.404 859.586 L198.652 860.94 L198.652 857.48 L205.366 856.126 L209.166 856.126 L209.166 881.008 L215.372 881.008 L215.372 884.206 L199.197 884.206 L199.197 881.008 Z\" fill=\"#000000\" fill-rule=\"evenodd\" fill-opacity=\"1\" /><path clip-path=\"url(#clip570)\" d=\"M231.171 858.627 Q228.237 858.627 226.751 861.523 Q225.284 864.401 225.284 870.194 Q225.284 875.968 226.751 878.864 Q228.237 881.742 231.171 881.742 Q234.124 881.742 235.591 878.864 Q237.076 875.968 237.076 870.194 Q237.076 864.401 235.591 861.523 Q234.124 858.627 231.171 858.627 M231.171 855.618 Q235.891 855.618 238.374 859.361 Q240.876 863.085 240.876 870.194 Q240.876 877.284 238.374 881.027 Q235.891 884.751 231.171 884.751 Q226.45 884.751 223.949 881.027 Q221.466 877.284 221.466 870.194 Q221.466 863.085 223.949 859.361 Q226.45 855.618 231.171 855.618 Z\" fill=\"#000000\" fill-rule=\"evenodd\" fill-opacity=\"1\" /><path clip-path=\"url(#clip570)\" d=\"M140.247 442.007 L147.886 442.007 L147.886 415.641 L139.575 417.308 L139.575 413.048 L147.839 411.382 L152.515 411.382 L152.515 442.007 L160.154 442.007 L160.154 445.942 L140.247 445.942 L140.247 442.007 Z\" fill=\"#000000\" fill-rule=\"evenodd\" fill-opacity=\"1\" /><path clip-path=\"url(#clip570)\" d=\"M179.598 414.46 Q175.987 414.46 174.159 418.025 Q172.353 421.567 172.353 428.696 Q172.353 435.803 174.159 439.368 Q175.987 442.909 179.598 442.909 Q183.233 442.909 185.038 439.368 Q186.867 435.803 186.867 428.696 Q186.867 421.567 185.038 418.025 Q183.233 414.46 179.598 414.46 M179.598 410.757 Q185.409 410.757 188.464 415.363 Q191.543 419.946 191.543 428.696 Q191.543 437.423 188.464 442.03 Q185.409 446.613 179.598 446.613 Q173.788 446.613 170.71 442.03 Q167.654 437.423 167.654 428.696 Q167.654 419.946 170.71 415.363 Q173.788 410.757 179.598 410.757 Z\" fill=\"#000000\" fill-rule=\"evenodd\" fill-opacity=\"1\" /><path clip-path=\"url(#clip570)\" d=\"M191.543 404.858 L215.654 404.858 L215.654 408.055 L191.543 408.055 L191.543 404.858 Z\" fill=\"#000000\" fill-rule=\"evenodd\" fill-opacity=\"1\" /><path clip-path=\"url(#clip570)\" d=\"M223.892 390.451 L238.807 390.451 L238.807 393.649 L227.372 393.649 L227.372 400.532 Q228.199 400.25 229.027 400.118 Q229.854 399.968 230.682 399.968 Q235.384 399.968 238.13 402.545 Q240.876 405.121 240.876 409.522 Q240.876 414.055 238.054 416.575 Q235.233 419.077 230.099 419.077 Q228.331 419.077 226.488 418.776 Q224.663 418.475 222.707 417.873 L222.707 414.055 Q224.4 414.977 226.205 415.428 Q228.011 415.879 230.023 415.879 Q233.277 415.879 235.177 414.168 Q237.076 412.456 237.076 409.522 Q237.076 406.588 235.177 404.877 Q233.277 403.165 230.023 403.165 Q228.5 403.165 226.977 403.504 Q225.472 403.842 223.892 404.557 L223.892 390.451 Z\" fill=\"#000000\" fill-rule=\"evenodd\" fill-opacity=\"1\" /><path clip-path=\"url(#clip570)\" d=\"M35.1993 1016.13 Q31.2526 1013.93 29.3747 1010.88 Q27.4968 1007.82 27.4968 1003.68 Q27.4968 998.115 31.4117 995.091 Q35.2948 992.068 42.4881 992.068 L64.0042 992.068 L64.0042 997.956 L42.679 997.956 Q37.5546 997.956 35.072 999.77 Q32.5894 1001.58 32.5894 1005.31 Q32.5894 1009.86 35.6131 1012.5 Q38.6368 1015.14 43.8567 1015.14 L64.0042 1015.14 L64.0042 1021.03 L42.679 1021.03 Q37.5228 1021.03 35.072 1022.85 Q32.5894 1024.66 32.5894 1028.45 Q32.5894 1032.94 35.6449 1035.58 Q38.6686 1038.22 43.8567 1038.22 L64.0042 1038.22 L64.0042 1044.11 L28.3562 1044.11 L28.3562 1038.22 L33.8944 1038.22 Q30.616 1036.21 29.0564 1033.41 Q27.4968 1030.61 27.4968 1026.76 Q27.4968 1022.88 29.4702 1020.17 Q31.4436 1017.43 35.1993 1016.13 Z\" fill=\"#000000\" fill-rule=\"evenodd\" fill-opacity=\"1\" /><path clip-path=\"url(#clip570)\" d=\"M46.0847 964.186 Q46.0847 971.284 47.7079 974.021 Q49.3312 976.758 53.2461 976.758 Q56.3653 976.758 58.2114 974.721 Q60.0256 972.652 60.0256 969.119 Q60.0256 964.249 56.5881 961.321 Q53.1188 958.361 47.3897 958.361 L46.0847 958.361 L46.0847 964.186 M43.6657 952.505 L64.0042 952.505 L64.0042 958.361 L58.5933 958.361 Q61.8398 960.366 63.3994 963.358 Q64.9272 966.35 64.9272 970.679 Q64.9272 976.153 61.8716 979.4 Q58.7843 982.615 53.6281 982.615 Q47.6125 982.615 44.5569 978.604 Q41.5014 974.562 41.5014 966.573 L41.5014 958.361 L40.9285 958.361 Q36.8862 958.361 34.6901 961.035 Q32.4621 963.677 32.4621 968.483 Q32.4621 971.538 33.1941 974.435 Q33.9262 977.331 35.3903 980.005 L29.9795 980.005 Q28.7381 976.79 28.1334 973.766 Q27.4968 970.742 27.4968 967.878 Q27.4968 960.144 31.5072 956.324 Q35.5176 952.505 43.6657 952.505 Z\" fill=\"#000000\" fill-rule=\"evenodd\" fill-opacity=\"1\" /><path clip-path=\"url(#clip570)\" d=\"M28.3562 910.809 L45.7028 923.7 L64.0042 910.141 L64.0042 917.048 L49.9996 927.424 L64.0042 937.8 L64.0042 944.707 L45.3526 930.861 L28.3562 943.529 L28.3562 936.622 L41.0558 927.169 L28.3562 917.716 L28.3562 910.809 Z\" fill=\"#000000\" fill-rule=\"evenodd\" fill-opacity=\"1\" /><path clip-path=\"url(#clip570)\" d=\"M28.3562 901.866 L28.3562 896.009 L64.0042 896.009 L64.0042 901.866 L28.3562 901.866 M14.479 901.866 L14.479 896.009 L21.895 896.009 L21.895 901.866 L14.479 901.866 Z\" fill=\"#000000\" fill-rule=\"evenodd\" fill-opacity=\"1\" /><path clip-path=\"url(#clip570)\" d=\"M35.1993 856.001 Q31.2526 853.804 29.3747 850.749 Q27.4968 847.693 27.4968 843.556 Q27.4968 837.986 31.4117 834.962 Q35.2948 831.938 42.4881 831.938 L64.0042 831.938 L64.0042 837.827 L42.679 837.827 Q37.5546 837.827 35.072 839.641 Q32.5894 841.455 32.5894 845.179 Q32.5894 849.73 35.6131 852.372 Q38.6368 855.014 43.8567 855.014 L64.0042 855.014 L64.0042 860.902 L42.679 860.902 Q37.5228 860.902 35.072 862.716 Q32.5894 864.531 32.5894 868.318 Q32.5894 872.806 35.6449 875.448 Q38.6686 878.09 43.8567 878.09 L64.0042 878.09 L64.0042 883.978 L28.3562 883.978 L28.3562 878.09 L33.8944 878.09 Q30.616 876.084 29.0564 873.283 Q27.4968 870.483 27.4968 866.631 Q27.4968 862.748 29.4702 860.043 Q31.4436 857.306 35.1993 856.001 Z\" fill=\"#000000\" fill-rule=\"evenodd\" fill-opacity=\"1\" /><path clip-path=\"url(#clip570)\" d=\"M49.9359 820.862 L28.3562 820.862 L28.3562 815.005 L49.7131 815.005 Q54.7739 815.005 57.3202 813.032 Q59.8346 811.059 59.8346 807.112 Q59.8346 802.37 56.8109 799.632 Q53.7872 796.863 48.5673 796.863 L28.3562 796.863 L28.3562 791.007 L64.0042 791.007 L64.0042 796.863 L58.5296 796.863 Q61.7762 798.996 63.3676 801.828 Q64.9272 804.629 64.9272 808.353 Q64.9272 814.496 61.1078 817.679 Q57.2883 820.862 49.9359 820.862 M27.4968 806.125 L27.4968 806.125 Z\" fill=\"#000000\" fill-rule=\"evenodd\" fill-opacity=\"1\" /><path clip-path=\"url(#clip570)\" d=\"M35.1993 751.189 Q31.2526 748.993 29.3747 745.938 Q27.4968 742.882 27.4968 738.744 Q27.4968 733.174 31.4117 730.151 Q35.2948 727.127 42.4881 727.127 L64.0042 727.127 L64.0042 733.015 L42.679 733.015 Q37.5546 733.015 35.072 734.829 Q32.5894 736.644 32.5894 740.368 Q32.5894 744.919 35.6131 747.561 Q38.6368 750.203 43.8567 750.203 L64.0042 750.203 L64.0042 756.091 L42.679 756.091 Q37.5228 756.091 35.072 757.905 Q32.5894 759.719 32.5894 763.507 Q32.5894 767.995 35.6449 770.636 Q38.6686 773.278 43.8567 773.278 L64.0042 773.278 L64.0042 779.167 L28.3562 779.167 L28.3562 773.278 L33.8944 773.278 Q30.616 771.273 29.0564 768.472 Q27.4968 765.671 27.4968 761.82 Q27.4968 757.937 29.4702 755.231 Q31.4436 752.494 35.1993 751.189 Z\" fill=\"#000000\" fill-rule=\"evenodd\" fill-opacity=\"1\" /><path clip-path=\"url(#clip570)\" d=\"M33.8307 674.069 Q33.2578 675.055 33.0032 676.233 Q32.7167 677.379 32.7167 678.779 Q32.7167 683.745 35.9632 686.418 Q39.1779 689.06 45.2253 689.06 L64.0042 689.06 L64.0042 694.948 L28.3562 694.948 L28.3562 689.06 L33.8944 689.06 Q30.6479 687.214 29.0883 684.254 Q27.4968 681.294 27.4968 677.061 Q27.4968 676.456 27.5923 675.724 Q27.656 674.992 27.8151 674.101 L33.8307 674.069 Z\" fill=\"#000000\" fill-rule=\"evenodd\" fill-opacity=\"1\" /><path clip-path=\"url(#clip570)\" d=\"M46.0847 651.725 Q46.0847 658.823 47.7079 661.56 Q49.3312 664.297 53.2461 664.297 Q56.3653 664.297 58.2114 662.26 Q60.0256 660.191 60.0256 656.658 Q60.0256 651.789 56.5881 648.861 Q53.1188 645.9 47.3897 645.9 L46.0847 645.9 L46.0847 651.725 M43.6657 640.044 L64.0042 640.044 L64.0042 645.9 L58.5933 645.9 Q61.8398 647.906 63.3994 650.898 Q64.9272 653.889 64.9272 658.218 Q64.9272 663.693 61.8716 666.939 Q58.7843 670.154 53.6281 670.154 Q47.6125 670.154 44.5569 666.143 Q41.5014 662.101 41.5014 654.112 L41.5014 645.9 L40.9285 645.9 Q36.8862 645.9 34.6901 648.574 Q32.4621 651.216 32.4621 656.022 Q32.4621 659.077 33.1941 661.974 Q33.9262 664.87 35.3903 667.544 L29.9795 667.544 Q28.7381 664.329 28.1334 661.305 Q27.4968 658.282 27.4968 655.417 Q27.4968 647.683 31.5072 643.863 Q35.5176 640.044 43.6657 640.044 Z\" fill=\"#000000\" fill-rule=\"evenodd\" fill-opacity=\"1\" /><path clip-path=\"url(#clip570)\" d=\"M33.7671 604.523 L14.479 604.523 L14.479 598.667 L64.0042 598.667 L64.0042 604.523 L58.657 604.523 Q61.8398 606.369 63.3994 609.202 Q64.9272 612.003 64.9272 615.95 Q64.9272 622.411 59.771 626.485 Q54.6147 630.527 46.212 630.527 Q37.8093 630.527 32.6531 626.485 Q27.4968 622.411 27.4968 615.95 Q27.4968 612.003 29.0564 609.202 Q30.5842 606.369 33.7671 604.523 M46.212 624.48 Q52.6732 624.48 56.3653 621.838 Q60.0256 619.164 60.0256 614.518 Q60.0256 609.871 56.3653 607.197 Q52.6732 604.523 46.212 604.523 Q39.7508 604.523 36.0905 607.197 Q32.3984 609.871 32.3984 614.518 Q32.3984 619.164 36.0905 621.838 Q39.7508 624.48 46.212 624.48 Z\" fill=\"#000000\" fill-rule=\"evenodd\" fill-opacity=\"1\" /><path clip-path=\"url(#clip570)\" d=\"M28.3562 586.604 L28.3562 580.747 L64.0042 580.747 L64.0042 586.604 L28.3562 586.604 M14.479 586.604 L14.479 580.747 L21.895 580.747 L21.895 586.604 L14.479 586.604 Z\" fill=\"#000000\" fill-rule=\"evenodd\" fill-opacity=\"1\" /><path clip-path=\"url(#clip570)\" d=\"M49.9359 569.098 L28.3562 569.098 L28.3562 563.242 L49.7131 563.242 Q54.7739 563.242 57.3202 561.268 Q59.8346 559.295 59.8346 555.348 Q59.8346 550.606 56.8109 547.869 Q53.7872 545.099 48.5673 545.099 L28.3562 545.099 L28.3562 539.243 L64.0042 539.243 L64.0042 545.099 L58.5296 545.099 Q61.7762 547.232 63.3676 550.065 Q64.9272 552.866 64.9272 556.59 Q64.9272 562.732 61.1078 565.915 Q57.2883 569.098 49.9359 569.098 M27.4968 554.362 L27.4968 554.362 Z\" fill=\"#000000\" fill-rule=\"evenodd\" fill-opacity=\"1\" /><path clip-path=\"url(#clip570)\" d=\"M29.4065 504.454 L34.9447 504.454 Q33.6716 506.937 33.035 509.611 Q32.3984 512.284 32.3984 515.149 Q32.3984 519.509 33.7352 521.706 Q35.072 523.87 37.7456 523.87 Q39.7826 523.87 40.9603 522.31 Q42.1061 520.751 43.1565 516.04 L43.6021 514.035 Q44.9389 507.796 47.3897 505.187 Q49.8086 502.545 54.1691 502.545 Q59.1344 502.545 62.0308 506.491 Q64.9272 510.406 64.9272 517.281 Q64.9272 520.146 64.3543 523.265 Q63.8132 526.352 62.6992 529.79 L56.6518 529.79 Q58.3387 526.543 59.198 523.392 Q60.0256 520.241 60.0256 517.154 Q60.0256 513.016 58.6251 510.788 Q57.1929 508.56 54.6147 508.56 Q52.2276 508.56 50.9545 510.184 Q49.6813 511.775 48.5037 517.218 L48.0262 519.255 Q46.8804 524.697 44.5251 527.116 Q42.138 529.535 38.0002 529.535 Q32.9713 529.535 30.2341 525.971 Q27.4968 522.406 27.4968 515.849 Q27.4968 512.603 27.9743 509.738 Q28.4517 506.873 29.4065 504.454 Z\" fill=\"#000000\" fill-rule=\"evenodd\" fill-opacity=\"1\" /><path clip-path=\"url(#clip570)\" d=\"M945.029 12.096 L983.269 12.096 L983.269 18.9825 L953.212 18.9825 L953.212 36.8875 L982.014 36.8875 L982.014 43.7741 L953.212 43.7741 L953.212 65.6895 L983.999 65.6895 L983.999 72.576 L945.029 72.576 L945.029 12.096 Z\" fill=\"#000000\" fill-rule=\"evenodd\" fill-opacity=\"1\" /><path clip-path=\"url(#clip570)\" d=\"M1023.41 34.1734 Q1022.16 33.4443 1020.66 33.1202 Q1019.2 32.7556 1017.42 32.7556 Q1011.1 32.7556 1007.7 36.8875 Q1004.33 40.9789 1004.33 48.6757 L1004.33 72.576 L996.84 72.576 L996.84 27.2059 L1004.33 27.2059 L1004.33 34.2544 Q1006.68 30.1225 1010.45 28.1376 Q1014.22 26.1121 1019.61 26.1121 Q1020.38 26.1121 1021.31 26.2337 Q1022.24 26.3147 1023.37 26.5172 L1023.41 34.1734 Z\" fill=\"#000000\" fill-rule=\"evenodd\" fill-opacity=\"1\" /><path clip-path=\"url(#clip570)\" d=\"M1056.06 34.1734 Q1054.81 33.4443 1053.31 33.1202 Q1051.85 32.7556 1050.07 32.7556 Q1043.75 32.7556 1040.35 36.8875 Q1036.98 40.9789 1036.98 48.6757 L1036.98 72.576 L1029.49 72.576 L1029.49 27.2059 L1036.98 27.2059 L1036.98 34.2544 Q1039.33 30.1225 1043.1 28.1376 Q1046.87 26.1121 1052.26 26.1121 Q1053.03 26.1121 1053.96 26.2337 Q1054.89 26.3147 1056.02 26.5172 L1056.06 34.1734 Z\" fill=\"#000000\" fill-rule=\"evenodd\" fill-opacity=\"1\" /><path clip-path=\"url(#clip570)\" d=\"M1079.64 32.4315 Q1073.65 32.4315 1070.16 37.1306 Q1066.68 41.7891 1066.68 49.9314 Q1066.68 58.0738 1070.12 62.7728 Q1073.6 67.4314 1079.64 67.4314 Q1085.6 67.4314 1089.08 62.7323 Q1092.56 58.0333 1092.56 49.9314 Q1092.56 41.8701 1089.08 37.1711 Q1085.6 32.4315 1079.64 32.4315 M1079.64 26.1121 Q1089.36 26.1121 1094.91 32.4315 Q1100.46 38.7509 1100.46 49.9314 Q1100.46 61.0714 1094.91 67.4314 Q1089.36 73.7508 1079.64 73.7508 Q1069.88 73.7508 1064.33 67.4314 Q1058.82 61.0714 1058.82 49.9314 Q1058.82 38.7509 1064.33 32.4315 Q1069.88 26.1121 1079.64 26.1121 Z\" fill=\"#000000\" fill-rule=\"evenodd\" fill-opacity=\"1\" /><path clip-path=\"url(#clip570)\" d=\"M1139.11 34.1734 Q1137.85 33.4443 1136.35 33.1202 Q1134.89 32.7556 1133.11 32.7556 Q1126.79 32.7556 1123.39 36.8875 Q1120.03 40.9789 1120.03 48.6757 L1120.03 72.576 L1112.53 72.576 L1112.53 27.2059 L1120.03 27.2059 L1120.03 34.2544 Q1122.38 30.1225 1126.14 28.1376 Q1129.91 26.1121 1135.3 26.1121 Q1136.07 26.1121 1137 26.2337 Q1137.93 26.3147 1139.07 26.5172 L1139.11 34.1734 Z\" fill=\"#000000\" fill-rule=\"evenodd\" fill-opacity=\"1\" /><path clip-path=\"url(#clip570)\" d=\"M1205.87 49.9314 Q1205.87 41.7081 1202.46 37.0496 Q1199.1 32.3505 1193.19 32.3505 Q1187.27 32.3505 1183.87 37.0496 Q1180.51 41.7081 1180.51 49.9314 Q1180.51 58.1548 1183.87 62.8538 Q1187.27 67.5124 1193.19 67.5124 Q1199.1 67.5124 1202.46 62.8538 Q1205.87 58.1548 1205.87 49.9314 M1180.51 34.0924 Q1182.86 30.0415 1186.42 28.0971 Q1190.03 26.1121 1195.01 26.1121 Q1203.27 26.1121 1208.42 32.6746 Q1213.6 39.2371 1213.6 49.9314 Q1213.6 60.6258 1208.42 67.1883 Q1203.27 73.7508 1195.01 73.7508 Q1190.03 73.7508 1186.42 71.8063 Q1182.86 69.8214 1180.51 65.7705 L1180.51 72.576 L1173.01 72.576 L1173.01 9.54393 L1180.51 9.54393 L1180.51 34.0924 Z\" fill=\"#000000\" fill-rule=\"evenodd\" fill-opacity=\"1\" /><path clip-path=\"url(#clip570)\" d=\"M1243.54 32.4315 Q1237.54 32.4315 1234.06 37.1306 Q1230.58 41.7891 1230.58 49.9314 Q1230.58 58.0738 1234.02 62.7728 Q1237.5 67.4314 1243.54 67.4314 Q1249.49 67.4314 1252.98 62.7323 Q1256.46 58.0333 1256.46 49.9314 Q1256.46 41.8701 1252.98 37.1711 Q1249.49 32.4315 1243.54 32.4315 M1243.54 26.1121 Q1253.26 26.1121 1258.81 32.4315 Q1264.36 38.7509 1264.36 49.9314 Q1264.36 61.0714 1258.81 67.4314 Q1253.26 73.7508 1243.54 73.7508 Q1233.78 73.7508 1228.23 67.4314 Q1222.72 61.0714 1222.72 49.9314 Q1222.72 38.7509 1228.23 32.4315 Q1233.78 26.1121 1243.54 26.1121 Z\" fill=\"#000000\" fill-rule=\"evenodd\" fill-opacity=\"1\" /><path clip-path=\"url(#clip570)\" d=\"M1275.95 54.671 L1275.95 27.2059 L1283.4 27.2059 L1283.4 54.3874 Q1283.4 60.8284 1285.91 64.0691 Q1288.42 67.2693 1293.45 67.2693 Q1299.48 67.2693 1302.97 63.421 Q1306.49 59.5726 1306.49 52.9291 L1306.49 27.2059 L1313.94 27.2059 L1313.94 72.576 L1306.49 72.576 L1306.49 65.6084 Q1303.78 69.7404 1300.17 71.7658 Q1296.61 73.7508 1291.87 73.7508 Q1284.05 73.7508 1280 68.8897 Q1275.95 64.0286 1275.95 54.671 M1294.7 26.1121 L1294.7 26.1121 Z\" fill=\"#000000\" fill-rule=\"evenodd\" fill-opacity=\"1\" /><path clip-path=\"url(#clip570)\" d=\"M1367.01 45.1919 L1367.01 72.576 L1359.56 72.576 L1359.56 45.4349 Q1359.56 38.994 1357.05 35.7938 Q1354.53 32.5936 1349.51 32.5936 Q1343.48 32.5936 1339.99 36.4419 Q1336.51 40.2903 1336.51 46.9338 L1336.51 72.576 L1329.01 72.576 L1329.01 27.2059 L1336.51 27.2059 L1336.51 34.2544 Q1339.18 30.163 1342.79 28.1376 Q1346.43 26.1121 1351.17 26.1121 Q1358.99 26.1121 1363 30.9732 Q1367.01 35.7938 1367.01 45.1919 Z\" fill=\"#000000\" fill-rule=\"evenodd\" fill-opacity=\"1\" /><path clip-path=\"url(#clip570)\" d=\"M1411.73 34.0924 L1411.73 9.54393 L1419.19 9.54393 L1419.19 72.576 L1411.73 72.576 L1411.73 65.7705 Q1409.38 69.8214 1405.78 71.8063 Q1402.21 73.7508 1397.19 73.7508 Q1388.97 73.7508 1383.78 67.1883 Q1378.64 60.6258 1378.64 49.9314 Q1378.64 39.2371 1383.78 32.6746 Q1388.97 26.1121 1397.19 26.1121 Q1402.21 26.1121 1405.78 28.0971 Q1409.38 30.0415 1411.73 34.0924 M1386.33 49.9314 Q1386.33 58.1548 1389.7 62.8538 Q1393.1 67.5124 1399.01 67.5124 Q1404.93 67.5124 1408.33 62.8538 Q1411.73 58.1548 1411.73 49.9314 Q1411.73 41.7081 1408.33 37.0496 Q1404.93 32.3505 1399.01 32.3505 Q1393.1 32.3505 1389.7 37.0496 Q1386.33 41.7081 1386.33 49.9314 Z\" fill=\"#000000\" fill-rule=\"evenodd\" fill-opacity=\"1\" /><path clip-path=\"url(#clip570)\" d=\"M1463.46 28.5427 L1463.46 35.5912 Q1460.3 33.9709 1456.9 33.1607 Q1453.5 32.3505 1449.85 32.3505 Q1444.3 32.3505 1441.51 34.0519 Q1438.75 35.7533 1438.75 39.156 Q1438.75 41.7486 1440.74 43.2475 Q1442.72 44.7058 1448.72 46.0426 L1451.27 46.6097 Q1459.21 48.3111 1462.53 51.4303 Q1465.89 54.509 1465.89 60.0587 Q1465.89 66.3781 1460.87 70.0644 Q1455.89 73.7508 1447.14 73.7508 Q1443.49 73.7508 1439.52 73.0216 Q1435.59 72.3329 1431.22 70.9151 L1431.22 63.2184 Q1435.35 65.3654 1439.36 66.4591 Q1443.37 67.5124 1447.3 67.5124 Q1452.57 67.5124 1455.4 65.73 Q1458.24 63.9071 1458.24 60.6258 Q1458.24 57.5877 1456.17 55.9673 Q1454.15 54.3469 1447.22 52.8481 L1444.63 52.2405 Q1437.7 50.7821 1434.62 47.7845 Q1431.54 44.7463 1431.54 39.4801 Q1431.54 33.0797 1436.08 29.5959 Q1440.62 26.1121 1448.96 26.1121 Q1453.09 26.1121 1456.74 26.7198 Q1460.38 27.3274 1463.46 28.5427 Z\" fill=\"#000000\" fill-rule=\"evenodd\" fill-opacity=\"1\" /><path clip-path=\"url(#clip570)\" d=\"M1521.72 32.4315 Q1515.72 32.4315 1512.24 37.1306 Q1508.75 41.7891 1508.75 49.9314 Q1508.75 58.0738 1512.2 62.7728 Q1515.68 67.4314 1521.72 67.4314 Q1527.67 67.4314 1531.15 62.7323 Q1534.64 58.0333 1534.64 49.9314 Q1534.64 41.8701 1531.15 37.1711 Q1527.67 32.4315 1521.72 32.4315 M1521.72 26.1121 Q1531.44 26.1121 1536.99 32.4315 Q1542.54 38.7509 1542.54 49.9314 Q1542.54 61.0714 1536.99 67.4314 Q1531.44 73.7508 1521.72 73.7508 Q1511.95 73.7508 1506.4 67.4314 Q1500.89 61.0714 1500.89 49.9314 Q1500.89 38.7509 1506.4 32.4315 Q1511.95 26.1121 1521.72 26.1121 Z\" fill=\"#000000\" fill-rule=\"evenodd\" fill-opacity=\"1\" /><path clip-path=\"url(#clip570)\" d=\"M1577.86 9.54393 L1577.86 15.7418 L1570.73 15.7418 Q1566.72 15.7418 1565.14 17.3622 Q1563.6 18.9825 1563.6 23.1955 L1563.6 27.2059 L1575.88 27.2059 L1575.88 32.9987 L1563.6 32.9987 L1563.6 72.576 L1556.11 72.576 L1556.11 32.9987 L1548.98 32.9987 L1548.98 27.2059 L1556.11 27.2059 L1556.11 24.0462 Q1556.11 16.471 1559.63 13.0277 Q1563.16 9.54393 1570.81 9.54393 L1577.86 9.54393 Z\" fill=\"#000000\" fill-rule=\"evenodd\" fill-opacity=\"1\" /><path clip-path=\"url(#clip570)\" d=\"M1610.8 12.096 L1618.98 12.096 L1618.98 72.576 L1610.8 72.576 L1610.8 12.096 Z\" fill=\"#000000\" fill-rule=\"evenodd\" fill-opacity=\"1\" /><path clip-path=\"url(#clip570)\" d=\"M1676.5 63.9476 L1676.5 47.7034 L1663.13 47.7034 L1663.13 40.9789 L1684.6 40.9789 L1684.6 66.9452 Q1679.86 70.3075 1674.15 72.0494 Q1668.44 73.7508 1661.96 73.7508 Q1647.78 73.7508 1639.76 65.4869 Q1631.78 57.1826 1631.78 42.3968 Q1631.78 27.5705 1639.76 19.3066 Q1647.78 11.0023 1661.96 11.0023 Q1667.87 11.0023 1673.18 12.4606 Q1678.53 13.9189 1683.02 16.7545 L1683.02 25.464 Q1678.49 21.6156 1673.38 19.6712 Q1668.28 17.7268 1662.65 17.7268 Q1651.55 17.7268 1645.96 23.9246 Q1640.41 30.1225 1640.41 42.3968 Q1640.41 54.6305 1645.96 60.8284 Q1651.55 67.0263 1662.65 67.0263 Q1666.98 67.0263 1670.38 66.2971 Q1673.79 65.5274 1676.5 63.9476 Z\" fill=\"#000000\" fill-rule=\"evenodd\" fill-opacity=\"1\" /><circle clip-path=\"url(#clip572)\" cx=\"410.803\" cy=\"1386.4\" r=\"14\" fill=\"#009af9\" fill-rule=\"evenodd\" fill-opacity=\"1\" stroke=\"#000000\" stroke-opacity=\"1\" stroke-width=\"3.2\"/>\n",
       "<circle clip-path=\"url(#clip572)\" cx=\"544.731\" cy=\"1249.5\" r=\"14\" fill=\"#009af9\" fill-rule=\"evenodd\" fill-opacity=\"1\" stroke=\"#000000\" stroke-opacity=\"1\" stroke-width=\"3.2\"/>\n",
       "<circle clip-path=\"url(#clip572)\" cx=\"678.659\" cy=\"1111.05\" r=\"14\" fill=\"#009af9\" fill-rule=\"evenodd\" fill-opacity=\"1\" stroke=\"#000000\" stroke-opacity=\"1\" stroke-width=\"3.2\"/>\n",
       "<circle clip-path=\"url(#clip572)\" cx=\"812.587\" cy=\"1072.43\" r=\"14\" fill=\"#009af9\" fill-rule=\"evenodd\" fill-opacity=\"1\" stroke=\"#000000\" stroke-opacity=\"1\" stroke-width=\"3.2\"/>\n",
       "<circle clip-path=\"url(#clip572)\" cx=\"946.514\" cy=\"965.17\" r=\"14\" fill=\"#009af9\" fill-rule=\"evenodd\" fill-opacity=\"1\" stroke=\"#000000\" stroke-opacity=\"1\" stroke-width=\"3.2\"/>\n",
       "<circle clip-path=\"url(#clip572)\" cx=\"1080.44\" cy=\"787.402\" r=\"14\" fill=\"#009af9\" fill-rule=\"evenodd\" fill-opacity=\"1\" stroke=\"#000000\" stroke-opacity=\"1\" stroke-width=\"3.2\"/>\n",
       "<circle clip-path=\"url(#clip572)\" cx=\"1214.37\" cy=\"839.269\" r=\"14\" fill=\"#009af9\" fill-rule=\"evenodd\" fill-opacity=\"1\" stroke=\"#000000\" stroke-opacity=\"1\" stroke-width=\"3.2\"/>\n",
       "<circle clip-path=\"url(#clip572)\" cx=\"1348.3\" cy=\"707.308\" r=\"14\" fill=\"#009af9\" fill-rule=\"evenodd\" fill-opacity=\"1\" stroke=\"#000000\" stroke-opacity=\"1\" stroke-width=\"3.2\"/>\n",
       "<circle clip-path=\"url(#clip572)\" cx=\"1482.23\" cy=\"631.939\" r=\"14\" fill=\"#009af9\" fill-rule=\"evenodd\" fill-opacity=\"1\" stroke=\"#000000\" stroke-opacity=\"1\" stroke-width=\"3.2\"/>\n",
       "<circle clip-path=\"url(#clip572)\" cx=\"1616.15\" cy=\"608.126\" r=\"14\" fill=\"#009af9\" fill-rule=\"evenodd\" fill-opacity=\"1\" stroke=\"#000000\" stroke-opacity=\"1\" stroke-width=\"3.2\"/>\n",
       "<circle clip-path=\"url(#clip572)\" cx=\"1750.08\" cy=\"530.019\" r=\"14\" fill=\"#009af9\" fill-rule=\"evenodd\" fill-opacity=\"1\" stroke=\"#000000\" stroke-opacity=\"1\" stroke-width=\"3.2\"/>\n",
       "<circle clip-path=\"url(#clip572)\" cx=\"1884.01\" cy=\"382.941\" r=\"14\" fill=\"#009af9\" fill-rule=\"evenodd\" fill-opacity=\"1\" stroke=\"#000000\" stroke-opacity=\"1\" stroke-width=\"3.2\"/>\n",
       "<circle clip-path=\"url(#clip572)\" cx=\"2017.94\" cy=\"251.766\" r=\"14\" fill=\"#009af9\" fill-rule=\"evenodd\" fill-opacity=\"1\" stroke=\"#000000\" stroke-opacity=\"1\" stroke-width=\"3.2\"/>\n",
       "<circle clip-path=\"url(#clip572)\" cx=\"2151.86\" cy=\"296.587\" r=\"14\" fill=\"#009af9\" fill-rule=\"evenodd\" fill-opacity=\"1\" stroke=\"#000000\" stroke-opacity=\"1\" stroke-width=\"3.2\"/>\n",
       "<circle clip-path=\"url(#clip572)\" cx=\"2285.79\" cy=\"160.256\" r=\"14\" fill=\"#009af9\" fill-rule=\"evenodd\" fill-opacity=\"1\" stroke=\"#000000\" stroke-opacity=\"1\" stroke-width=\"3.2\"/>\n",
       "</svg>\n"
      ]
     },
     "execution_count": 31,
     "metadata": {},
     "output_type": "execute_result"
    }
   ],
   "source": [
    "using Plots\n",
    "index = 2:2:30\n",
    "max_rad = zeros(size(index))\n",
    "i = 1;\n",
    "for n ∈ index\n",
    "    A = randn(n,n)\n",
    "    b = A*ones(n)\n",
    "\n",
    "    A = map(interval, A)\n",
    "    b = map(interval, b)\n",
    "\n",
    "    x = A\\b\n",
    "    max_rad[i] = maximum(radius,x);\n",
    "    i += 1;\n",
    "end\n",
    "plot(index, max_rad, yscale=:log10,\n",
    "    xlabel       =\"n\",                #X軸のラベル\n",
    "    ylabel       =\"maximum radius\",   #Y軸のラベル\n",
    "    xlims        =(0,31),             #X軸の範囲\n",
    "    title=\"Error bounds of IG\",       #タイトル\n",
    "    linewidth    =2,                  #線幅\n",
    "    seriestype = :scatter,            #点プロットに　\n",
    "    # size         =(400,300),          #プロットのサイズ\n",
    "    label = \"without pre-conditioned\",#凡例のラベル\n",
    "    legend = false,                   #凡例は今回は消す\n",
    ")"
   ]
  },
  {
   "cell_type": "markdown",
   "id": "27b499a3-c004-425f-acc0-e138b30a04a9",
   "metadata": {},
   "source": [
    "区間ガウスの消去法（IG）の名誉挽回のために、もしも $R\\approx A^{-1}$ なる前処理行列を方程式の右から区間行列積でかけた方程式\n",
    "\n",
    "$$\n",
    "    RAx = Rb\n",
    "$$\n",
    "\n",
    "にIGを行うと、上のような区間幅の増大は起こらない。しかし、IGの計算コストに加えて、$R$ を計算するコストが必要で計算時間がかかる。"
   ]
  },
  {
   "cell_type": "code",
   "execution_count": 32,
   "id": "1f3cb17f-7e15-4994-a560-ae1eebd31fc8",
   "metadata": {},
   "outputs": [
    {
     "data": {
      "image/svg+xml": [
       "<?xml version=\"1.0\" encoding=\"utf-8\"?>\n",
       "<svg xmlns=\"http://www.w3.org/2000/svg\" xmlns:xlink=\"http://www.w3.org/1999/xlink\" width=\"600\" height=\"400\" viewBox=\"0 0 2400 1600\">\n",
       "<defs>\n",
       "  <clipPath id=\"clip610\">\n",
       "    <rect x=\"0\" y=\"0\" width=\"2400\" height=\"1600\"/>\n",
       "  </clipPath>\n",
       "</defs>\n",
       "<path clip-path=\"url(#clip610)\" d=\"\n",
       "M0 1600 L2400 1600 L2400 0 L0 0  Z\n",
       "  \" fill=\"#ffffff\" fill-rule=\"evenodd\" fill-opacity=\"1\"/>\n",
       "<defs>\n",
       "  <clipPath id=\"clip611\">\n",
       "    <rect x=\"480\" y=\"0\" width=\"1681\" height=\"1600\"/>\n",
       "  </clipPath>\n",
       "</defs>\n",
       "<path clip-path=\"url(#clip610)\" d=\"\n",
       "M276.876 1423.18 L2352.76 1423.18 L2352.76 123.472 L276.876 123.472  Z\n",
       "  \" fill=\"#ffffff\" fill-rule=\"evenodd\" fill-opacity=\"1\"/>\n",
       "<defs>\n",
       "  <clipPath id=\"clip612\">\n",
       "    <rect x=\"276\" y=\"123\" width=\"2077\" height=\"1301\"/>\n",
       "  </clipPath>\n",
       "</defs>\n",
       "<polyline clip-path=\"url(#clip612)\" style=\"stroke:#000000; stroke-linecap:butt; stroke-linejoin:round; stroke-width:2; stroke-opacity:0.1; fill:none\" points=\"\n",
       "  276.876,1423.18 276.876,123.472 \n",
       "  \"/>\n",
       "<polyline clip-path=\"url(#clip612)\" style=\"stroke:#000000; stroke-linecap:butt; stroke-linejoin:round; stroke-width:2; stroke-opacity:0.1; fill:none\" points=\"\n",
       "  946.514,1423.18 946.514,123.472 \n",
       "  \"/>\n",
       "<polyline clip-path=\"url(#clip612)\" style=\"stroke:#000000; stroke-linecap:butt; stroke-linejoin:round; stroke-width:2; stroke-opacity:0.1; fill:none\" points=\"\n",
       "  1616.15,1423.18 1616.15,123.472 \n",
       "  \"/>\n",
       "<polyline clip-path=\"url(#clip612)\" style=\"stroke:#000000; stroke-linecap:butt; stroke-linejoin:round; stroke-width:2; stroke-opacity:0.1; fill:none\" points=\"\n",
       "  2285.79,1423.18 2285.79,123.472 \n",
       "  \"/>\n",
       "<polyline clip-path=\"url(#clip610)\" style=\"stroke:#000000; stroke-linecap:butt; stroke-linejoin:round; stroke-width:4; stroke-opacity:1; fill:none\" points=\"\n",
       "  276.876,1423.18 2352.76,1423.18 \n",
       "  \"/>\n",
       "<polyline clip-path=\"url(#clip610)\" style=\"stroke:#000000; stroke-linecap:butt; stroke-linejoin:round; stroke-width:4; stroke-opacity:1; fill:none\" points=\"\n",
       "  276.876,1423.18 276.876,1404.28 \n",
       "  \"/>\n",
       "<polyline clip-path=\"url(#clip610)\" style=\"stroke:#000000; stroke-linecap:butt; stroke-linejoin:round; stroke-width:4; stroke-opacity:1; fill:none\" points=\"\n",
       "  946.514,1423.18 946.514,1404.28 \n",
       "  \"/>\n",
       "<polyline clip-path=\"url(#clip610)\" style=\"stroke:#000000; stroke-linecap:butt; stroke-linejoin:round; stroke-width:4; stroke-opacity:1; fill:none\" points=\"\n",
       "  1616.15,1423.18 1616.15,1404.28 \n",
       "  \"/>\n",
       "<polyline clip-path=\"url(#clip610)\" style=\"stroke:#000000; stroke-linecap:butt; stroke-linejoin:round; stroke-width:4; stroke-opacity:1; fill:none\" points=\"\n",
       "  2285.79,1423.18 2285.79,1404.28 \n",
       "  \"/>\n",
       "<path clip-path=\"url(#clip610)\" d=\"M276.876 1454.1 Q273.264 1454.1 271.436 1457.66 Q269.63 1461.2 269.63 1468.33 Q269.63 1475.44 271.436 1479.01 Q273.264 1482.55 276.876 1482.55 Q280.51 1482.55 282.315 1479.01 Q284.144 1475.44 284.144 1468.33 Q284.144 1461.2 282.315 1457.66 Q280.51 1454.1 276.876 1454.1 M276.876 1450.39 Q282.686 1450.39 285.741 1455 Q288.82 1459.58 288.82 1468.33 Q288.82 1477.06 285.741 1481.67 Q282.686 1486.25 276.876 1486.25 Q271.065 1486.25 267.987 1481.67 Q264.931 1477.06 264.931 1468.33 Q264.931 1459.58 267.987 1455 Q271.065 1450.39 276.876 1450.39 Z\" fill=\"#000000\" fill-rule=\"evenodd\" fill-opacity=\"1\" /><path clip-path=\"url(#clip610)\" d=\"M921.202 1481.64 L928.841 1481.64 L928.841 1455.28 L920.531 1456.95 L920.531 1452.69 L928.795 1451.02 L933.47 1451.02 L933.47 1481.64 L941.109 1481.64 L941.109 1485.58 L921.202 1485.58 L921.202 1481.64 Z\" fill=\"#000000\" fill-rule=\"evenodd\" fill-opacity=\"1\" /><path clip-path=\"url(#clip610)\" d=\"M960.554 1454.1 Q956.943 1454.1 955.114 1457.66 Q953.308 1461.2 953.308 1468.33 Q953.308 1475.44 955.114 1479.01 Q956.943 1482.55 960.554 1482.55 Q964.188 1482.55 965.993 1479.01 Q967.822 1475.44 967.822 1468.33 Q967.822 1461.2 965.993 1457.66 Q964.188 1454.1 960.554 1454.1 M960.554 1450.39 Q966.364 1450.39 969.419 1455 Q972.498 1459.58 972.498 1468.33 Q972.498 1477.06 969.419 1481.67 Q966.364 1486.25 960.554 1486.25 Q954.743 1486.25 951.665 1481.67 Q948.609 1477.06 948.609 1468.33 Q948.609 1459.58 951.665 1455 Q954.743 1450.39 960.554 1450.39 Z\" fill=\"#000000\" fill-rule=\"evenodd\" fill-opacity=\"1\" /><path clip-path=\"url(#clip610)\" d=\"M1594.93 1481.64 L1611.25 1481.64 L1611.25 1485.58 L1589.3 1485.58 L1589.3 1481.64 Q1591.96 1478.89 1596.55 1474.26 Q1601.15 1469.61 1602.33 1468.27 Q1604.58 1465.74 1605.46 1464.01 Q1606.36 1462.25 1606.36 1460.56 Q1606.36 1457.8 1604.42 1456.07 Q1602.5 1454.33 1599.39 1454.33 Q1597.19 1454.33 1594.74 1455.09 Q1592.31 1455.86 1589.53 1457.41 L1589.53 1452.69 Q1592.36 1451.55 1594.81 1450.97 Q1597.26 1450.39 1599.3 1450.39 Q1604.67 1450.39 1607.87 1453.08 Q1611.06 1455.77 1611.06 1460.26 Q1611.06 1462.39 1610.25 1464.31 Q1609.46 1466.2 1607.36 1468.8 Q1606.78 1469.47 1603.68 1472.69 Q1600.57 1475.88 1594.93 1481.64 Z\" fill=\"#000000\" fill-rule=\"evenodd\" fill-opacity=\"1\" /><path clip-path=\"url(#clip610)\" d=\"M1631.06 1454.1 Q1627.45 1454.1 1625.62 1457.66 Q1623.82 1461.2 1623.82 1468.33 Q1623.82 1475.44 1625.62 1479.01 Q1627.45 1482.55 1631.06 1482.55 Q1634.69 1482.55 1636.5 1479.01 Q1638.33 1475.44 1638.33 1468.33 Q1638.33 1461.2 1636.5 1457.66 Q1634.69 1454.1 1631.06 1454.1 M1631.06 1450.39 Q1636.87 1450.39 1639.93 1455 Q1643 1459.58 1643 1468.33 Q1643 1477.06 1639.93 1481.67 Q1636.87 1486.25 1631.06 1486.25 Q1625.25 1486.25 1622.17 1481.67 Q1619.12 1477.06 1619.12 1468.33 Q1619.12 1459.58 1622.17 1455 Q1625.25 1450.39 1631.06 1450.39 Z\" fill=\"#000000\" fill-rule=\"evenodd\" fill-opacity=\"1\" /><path clip-path=\"url(#clip610)\" d=\"M2274.63 1466.95 Q2277.99 1467.66 2279.87 1469.93 Q2281.76 1472.2 2281.76 1475.53 Q2281.76 1480.65 2278.25 1483.45 Q2274.73 1486.25 2268.25 1486.25 Q2266.07 1486.25 2263.76 1485.81 Q2261.46 1485.39 2259.01 1484.54 L2259.01 1480.02 Q2260.95 1481.16 2263.27 1481.74 Q2265.58 1482.32 2268.11 1482.32 Q2272.51 1482.32 2274.8 1480.58 Q2277.11 1478.84 2277.11 1475.53 Q2277.11 1472.48 2274.96 1470.77 Q2272.83 1469.03 2269.01 1469.03 L2264.98 1469.03 L2264.98 1465.19 L2269.19 1465.19 Q2272.64 1465.19 2274.47 1463.82 Q2276.3 1462.43 2276.3 1459.84 Q2276.3 1457.18 2274.4 1455.77 Q2272.53 1454.33 2269.01 1454.33 Q2267.09 1454.33 2264.89 1454.75 Q2262.69 1455.16 2260.05 1456.04 L2260.05 1451.88 Q2262.71 1451.14 2265.03 1450.77 Q2267.37 1450.39 2269.43 1450.39 Q2274.75 1450.39 2277.85 1452.83 Q2280.95 1455.23 2280.95 1459.35 Q2280.95 1462.22 2279.31 1464.21 Q2277.67 1466.18 2274.63 1466.95 Z\" fill=\"#000000\" fill-rule=\"evenodd\" fill-opacity=\"1\" /><path clip-path=\"url(#clip610)\" d=\"M2300.63 1454.1 Q2297.02 1454.1 2295.19 1457.66 Q2293.38 1461.2 2293.38 1468.33 Q2293.38 1475.44 2295.19 1479.01 Q2297.02 1482.55 2300.63 1482.55 Q2304.26 1482.55 2306.07 1479.01 Q2307.9 1475.44 2307.9 1468.33 Q2307.9 1461.2 2306.07 1457.66 Q2304.26 1454.1 2300.63 1454.1 M2300.63 1450.39 Q2306.44 1450.39 2309.5 1455 Q2312.57 1459.58 2312.57 1468.33 Q2312.57 1477.06 2309.5 1481.67 Q2306.44 1486.25 2300.63 1486.25 Q2294.82 1486.25 2291.74 1481.67 Q2288.69 1477.06 2288.69 1468.33 Q2288.69 1459.58 2291.74 1455 Q2294.82 1450.39 2300.63 1450.39 Z\" fill=\"#000000\" fill-rule=\"evenodd\" fill-opacity=\"1\" /><path clip-path=\"url(#clip610)\" d=\"M1329.74 1546.53 L1329.74 1568.04 L1323.89 1568.04 L1323.89 1546.72 Q1323.89 1541.66 1321.91 1539.14 Q1319.94 1536.63 1315.99 1536.63 Q1311.25 1536.63 1308.51 1539.65 Q1305.78 1542.68 1305.78 1547.9 L1305.78 1568.04 L1299.89 1568.04 L1299.89 1532.4 L1305.78 1532.4 L1305.78 1537.93 Q1307.88 1534.72 1310.71 1533.13 Q1313.57 1531.54 1317.3 1531.54 Q1323.44 1531.54 1326.59 1535.36 Q1329.74 1539.14 1329.74 1546.53 Z\" fill=\"#000000\" fill-rule=\"evenodd\" fill-opacity=\"1\" /><polyline clip-path=\"url(#clip612)\" style=\"stroke:#000000; stroke-linecap:butt; stroke-linejoin:round; stroke-width:2; stroke-opacity:0.1; fill:none\" points=\"\n",
       "  276.876,1353.56 2352.76,1353.56 \n",
       "  \"/>\n",
       "<polyline clip-path=\"url(#clip612)\" style=\"stroke:#000000; stroke-linecap:butt; stroke-linejoin:round; stroke-width:2; stroke-opacity:0.1; fill:none\" points=\"\n",
       "  276.876,887.888 2352.76,887.888 \n",
       "  \"/>\n",
       "<polyline clip-path=\"url(#clip612)\" style=\"stroke:#000000; stroke-linecap:butt; stroke-linejoin:round; stroke-width:2; stroke-opacity:0.1; fill:none\" points=\"\n",
       "  276.876,422.214 2352.76,422.214 \n",
       "  \"/>\n",
       "<polyline clip-path=\"url(#clip610)\" style=\"stroke:#000000; stroke-linecap:butt; stroke-linejoin:round; stroke-width:4; stroke-opacity:1; fill:none\" points=\"\n",
       "  276.876,1423.18 276.876,123.472 \n",
       "  \"/>\n",
       "<polyline clip-path=\"url(#clip610)\" style=\"stroke:#000000; stroke-linecap:butt; stroke-linejoin:round; stroke-width:4; stroke-opacity:1; fill:none\" points=\"\n",
       "  276.876,1353.56 295.773,1353.56 \n",
       "  \"/>\n",
       "<polyline clip-path=\"url(#clip610)\" style=\"stroke:#000000; stroke-linecap:butt; stroke-linejoin:round; stroke-width:4; stroke-opacity:1; fill:none\" points=\"\n",
       "  276.876,887.888 295.773,887.888 \n",
       "  \"/>\n",
       "<polyline clip-path=\"url(#clip610)\" style=\"stroke:#000000; stroke-linecap:butt; stroke-linejoin:round; stroke-width:4; stroke-opacity:1; fill:none\" points=\"\n",
       "  276.876,422.214 295.773,422.214 \n",
       "  \"/>\n",
       "<path clip-path=\"url(#clip610)\" d=\"M115.74 1373.36 L123.379 1373.36 L123.379 1346.99 L115.069 1348.66 L115.069 1344.4 L123.333 1342.73 L128.009 1342.73 L128.009 1373.36 L135.647 1373.36 L135.647 1377.29 L115.74 1377.29 L115.74 1373.36 Z\" fill=\"#000000\" fill-rule=\"evenodd\" fill-opacity=\"1\" /><path clip-path=\"url(#clip610)\" d=\"M155.092 1345.81 Q151.481 1345.81 149.652 1349.37 Q147.846 1352.92 147.846 1360.05 Q147.846 1367.15 149.652 1370.72 Q151.481 1374.26 155.092 1374.26 Q158.726 1374.26 160.532 1370.72 Q162.36 1367.15 162.36 1360.05 Q162.36 1352.92 160.532 1349.37 Q158.726 1345.81 155.092 1345.81 M155.092 1342.11 Q160.902 1342.11 163.958 1346.71 Q167.036 1351.3 167.036 1360.05 Q167.036 1368.77 163.958 1373.38 Q160.902 1377.96 155.092 1377.96 Q149.282 1377.96 146.203 1373.38 Q143.147 1368.77 143.147 1360.05 Q143.147 1351.3 146.203 1346.71 Q149.282 1342.11 155.092 1342.11 Z\" fill=\"#000000\" fill-rule=\"evenodd\" fill-opacity=\"1\" /><path clip-path=\"url(#clip610)\" d=\"M167.036 1336.21 L191.148 1336.21 L191.148 1339.4 L167.036 1339.4 L167.036 1336.21 Z\" fill=\"#000000\" fill-rule=\"evenodd\" fill-opacity=\"1\" /><path clip-path=\"url(#clip610)\" d=\"M200.006 1346.68 L206.213 1346.68 L206.213 1325.26 L199.461 1326.61 L199.461 1323.15 L206.175 1321.8 L209.974 1321.8 L209.974 1346.68 L216.181 1346.68 L216.181 1349.88 L200.006 1349.88 L200.006 1346.68 Z\" fill=\"#000000\" fill-rule=\"evenodd\" fill-opacity=\"1\" /><path clip-path=\"url(#clip610)\" d=\"M223.892 1321.8 L238.807 1321.8 L238.807 1325 L227.372 1325 L227.372 1331.88 Q228.199 1331.6 229.027 1331.47 Q229.854 1331.32 230.682 1331.32 Q235.384 1331.32 238.13 1333.89 Q240.876 1336.47 240.876 1340.87 Q240.876 1345.4 238.054 1347.92 Q235.233 1350.43 230.099 1350.43 Q228.331 1350.43 226.488 1350.12 Q224.663 1349.82 222.707 1349.22 L222.707 1345.4 Q224.4 1346.33 226.205 1346.78 Q228.011 1347.23 230.023 1347.23 Q233.277 1347.23 235.177 1345.52 Q237.076 1343.81 237.076 1340.87 Q237.076 1337.94 235.177 1336.23 Q233.277 1334.51 230.023 1334.51 Q228.5 1334.51 226.977 1334.85 Q225.472 1335.19 223.892 1335.91 L223.892 1321.8 Z\" fill=\"#000000\" fill-rule=\"evenodd\" fill-opacity=\"1\" /><path clip-path=\"url(#clip610)\" d=\"M114.931 907.681 L122.57 907.681 L122.57 881.315 L114.26 882.982 L114.26 878.723 L122.524 877.056 L127.2 877.056 L127.2 907.681 L134.839 907.681 L134.839 911.616 L114.931 911.616 L114.931 907.681 Z\" fill=\"#000000\" fill-rule=\"evenodd\" fill-opacity=\"1\" /><path clip-path=\"url(#clip610)\" d=\"M154.283 880.135 Q150.672 880.135 148.843 883.7 Q147.038 887.241 147.038 894.371 Q147.038 901.477 148.843 905.042 Q150.672 908.584 154.283 908.584 Q157.917 908.584 159.723 905.042 Q161.552 901.477 161.552 894.371 Q161.552 887.241 159.723 883.7 Q157.917 880.135 154.283 880.135 M154.283 876.431 Q160.093 876.431 163.149 881.038 Q166.227 885.621 166.227 894.371 Q166.227 903.098 163.149 907.704 Q160.093 912.287 154.283 912.287 Q148.473 912.287 145.394 907.704 Q142.339 903.098 142.339 894.371 Q142.339 885.621 145.394 881.038 Q148.473 876.431 154.283 876.431 Z\" fill=\"#000000\" fill-rule=\"evenodd\" fill-opacity=\"1\" /><path clip-path=\"url(#clip610)\" d=\"M166.227 870.532 L190.339 870.532 L190.339 873.73 L166.227 873.73 L166.227 870.532 Z\" fill=\"#000000\" fill-rule=\"evenodd\" fill-opacity=\"1\" /><path clip-path=\"url(#clip610)\" d=\"M199.197 881.008 L205.404 881.008 L205.404 859.586 L198.652 860.94 L198.652 857.48 L205.366 856.126 L209.166 856.126 L209.166 881.008 L215.372 881.008 L215.372 884.206 L199.197 884.206 L199.197 881.008 Z\" fill=\"#000000\" fill-rule=\"evenodd\" fill-opacity=\"1\" /><path clip-path=\"url(#clip610)\" d=\"M231.171 858.627 Q228.237 858.627 226.751 861.523 Q225.284 864.401 225.284 870.194 Q225.284 875.968 226.751 878.864 Q228.237 881.742 231.171 881.742 Q234.124 881.742 235.591 878.864 Q237.076 875.968 237.076 870.194 Q237.076 864.401 235.591 861.523 Q234.124 858.627 231.171 858.627 M231.171 855.618 Q235.891 855.618 238.374 859.361 Q240.876 863.085 240.876 870.194 Q240.876 877.284 238.374 881.027 Q235.891 884.751 231.171 884.751 Q226.45 884.751 223.949 881.027 Q221.466 877.284 221.466 870.194 Q221.466 863.085 223.949 859.361 Q226.45 855.618 231.171 855.618 Z\" fill=\"#000000\" fill-rule=\"evenodd\" fill-opacity=\"1\" /><path clip-path=\"url(#clip610)\" d=\"M140.247 442.007 L147.886 442.007 L147.886 415.641 L139.575 417.308 L139.575 413.048 L147.839 411.382 L152.515 411.382 L152.515 442.007 L160.154 442.007 L160.154 445.942 L140.247 445.942 L140.247 442.007 Z\" fill=\"#000000\" fill-rule=\"evenodd\" fill-opacity=\"1\" /><path clip-path=\"url(#clip610)\" d=\"M179.598 414.46 Q175.987 414.46 174.159 418.025 Q172.353 421.567 172.353 428.696 Q172.353 435.803 174.159 439.368 Q175.987 442.909 179.598 442.909 Q183.233 442.909 185.038 439.368 Q186.867 435.803 186.867 428.696 Q186.867 421.567 185.038 418.025 Q183.233 414.46 179.598 414.46 M179.598 410.757 Q185.409 410.757 188.464 415.363 Q191.543 419.946 191.543 428.696 Q191.543 437.423 188.464 442.03 Q185.409 446.613 179.598 446.613 Q173.788 446.613 170.71 442.03 Q167.654 437.423 167.654 428.696 Q167.654 419.946 170.71 415.363 Q173.788 410.757 179.598 410.757 Z\" fill=\"#000000\" fill-rule=\"evenodd\" fill-opacity=\"1\" /><path clip-path=\"url(#clip610)\" d=\"M191.543 404.858 L215.654 404.858 L215.654 408.055 L191.543 408.055 L191.543 404.858 Z\" fill=\"#000000\" fill-rule=\"evenodd\" fill-opacity=\"1\" /><path clip-path=\"url(#clip610)\" d=\"M223.892 390.451 L238.807 390.451 L238.807 393.649 L227.372 393.649 L227.372 400.532 Q228.199 400.25 229.027 400.118 Q229.854 399.968 230.682 399.968 Q235.384 399.968 238.13 402.545 Q240.876 405.121 240.876 409.522 Q240.876 414.055 238.054 416.575 Q235.233 419.077 230.099 419.077 Q228.331 419.077 226.488 418.776 Q224.663 418.475 222.707 417.873 L222.707 414.055 Q224.4 414.977 226.205 415.428 Q228.011 415.879 230.023 415.879 Q233.277 415.879 235.177 414.168 Q237.076 412.456 237.076 409.522 Q237.076 406.588 235.177 404.877 Q233.277 403.165 230.023 403.165 Q228.5 403.165 226.977 403.504 Q225.472 403.842 223.892 404.557 L223.892 390.451 Z\" fill=\"#000000\" fill-rule=\"evenodd\" fill-opacity=\"1\" /><path clip-path=\"url(#clip610)\" d=\"M35.1993 1016.13 Q31.2526 1013.93 29.3747 1010.88 Q27.4968 1007.82 27.4968 1003.68 Q27.4968 998.115 31.4117 995.091 Q35.2948 992.068 42.4881 992.068 L64.0042 992.068 L64.0042 997.956 L42.679 997.956 Q37.5546 997.956 35.072 999.77 Q32.5894 1001.58 32.5894 1005.31 Q32.5894 1009.86 35.6131 1012.5 Q38.6368 1015.14 43.8567 1015.14 L64.0042 1015.14 L64.0042 1021.03 L42.679 1021.03 Q37.5228 1021.03 35.072 1022.85 Q32.5894 1024.66 32.5894 1028.45 Q32.5894 1032.94 35.6449 1035.58 Q38.6686 1038.22 43.8567 1038.22 L64.0042 1038.22 L64.0042 1044.11 L28.3562 1044.11 L28.3562 1038.22 L33.8944 1038.22 Q30.616 1036.21 29.0564 1033.41 Q27.4968 1030.61 27.4968 1026.76 Q27.4968 1022.88 29.4702 1020.17 Q31.4436 1017.43 35.1993 1016.13 Z\" fill=\"#000000\" fill-rule=\"evenodd\" fill-opacity=\"1\" /><path clip-path=\"url(#clip610)\" d=\"M46.0847 964.186 Q46.0847 971.284 47.7079 974.021 Q49.3312 976.758 53.2461 976.758 Q56.3653 976.758 58.2114 974.721 Q60.0256 972.652 60.0256 969.119 Q60.0256 964.249 56.5881 961.321 Q53.1188 958.361 47.3897 958.361 L46.0847 958.361 L46.0847 964.186 M43.6657 952.505 L64.0042 952.505 L64.0042 958.361 L58.5933 958.361 Q61.8398 960.366 63.3994 963.358 Q64.9272 966.35 64.9272 970.679 Q64.9272 976.153 61.8716 979.4 Q58.7843 982.615 53.6281 982.615 Q47.6125 982.615 44.5569 978.604 Q41.5014 974.562 41.5014 966.573 L41.5014 958.361 L40.9285 958.361 Q36.8862 958.361 34.6901 961.035 Q32.4621 963.677 32.4621 968.483 Q32.4621 971.538 33.1941 974.435 Q33.9262 977.331 35.3903 980.005 L29.9795 980.005 Q28.7381 976.79 28.1334 973.766 Q27.4968 970.742 27.4968 967.878 Q27.4968 960.144 31.5072 956.324 Q35.5176 952.505 43.6657 952.505 Z\" fill=\"#000000\" fill-rule=\"evenodd\" fill-opacity=\"1\" /><path clip-path=\"url(#clip610)\" d=\"M28.3562 910.809 L45.7028 923.7 L64.0042 910.141 L64.0042 917.048 L49.9996 927.424 L64.0042 937.8 L64.0042 944.707 L45.3526 930.861 L28.3562 943.529 L28.3562 936.622 L41.0558 927.169 L28.3562 917.716 L28.3562 910.809 Z\" fill=\"#000000\" fill-rule=\"evenodd\" fill-opacity=\"1\" /><path clip-path=\"url(#clip610)\" d=\"M28.3562 901.866 L28.3562 896.009 L64.0042 896.009 L64.0042 901.866 L28.3562 901.866 M14.479 901.866 L14.479 896.009 L21.895 896.009 L21.895 901.866 L14.479 901.866 Z\" fill=\"#000000\" fill-rule=\"evenodd\" fill-opacity=\"1\" /><path clip-path=\"url(#clip610)\" d=\"M35.1993 856.001 Q31.2526 853.804 29.3747 850.749 Q27.4968 847.693 27.4968 843.556 Q27.4968 837.986 31.4117 834.962 Q35.2948 831.938 42.4881 831.938 L64.0042 831.938 L64.0042 837.827 L42.679 837.827 Q37.5546 837.827 35.072 839.641 Q32.5894 841.455 32.5894 845.179 Q32.5894 849.73 35.6131 852.372 Q38.6368 855.014 43.8567 855.014 L64.0042 855.014 L64.0042 860.902 L42.679 860.902 Q37.5228 860.902 35.072 862.716 Q32.5894 864.531 32.5894 868.318 Q32.5894 872.806 35.6449 875.448 Q38.6686 878.09 43.8567 878.09 L64.0042 878.09 L64.0042 883.978 L28.3562 883.978 L28.3562 878.09 L33.8944 878.09 Q30.616 876.084 29.0564 873.283 Q27.4968 870.483 27.4968 866.631 Q27.4968 862.748 29.4702 860.043 Q31.4436 857.306 35.1993 856.001 Z\" fill=\"#000000\" fill-rule=\"evenodd\" fill-opacity=\"1\" /><path clip-path=\"url(#clip610)\" d=\"M49.9359 820.862 L28.3562 820.862 L28.3562 815.005 L49.7131 815.005 Q54.7739 815.005 57.3202 813.032 Q59.8346 811.059 59.8346 807.112 Q59.8346 802.37 56.8109 799.632 Q53.7872 796.863 48.5673 796.863 L28.3562 796.863 L28.3562 791.007 L64.0042 791.007 L64.0042 796.863 L58.5296 796.863 Q61.7762 798.996 63.3676 801.828 Q64.9272 804.629 64.9272 808.353 Q64.9272 814.496 61.1078 817.679 Q57.2883 820.862 49.9359 820.862 M27.4968 806.125 L27.4968 806.125 Z\" fill=\"#000000\" fill-rule=\"evenodd\" fill-opacity=\"1\" /><path clip-path=\"url(#clip610)\" d=\"M35.1993 751.189 Q31.2526 748.993 29.3747 745.938 Q27.4968 742.882 27.4968 738.744 Q27.4968 733.174 31.4117 730.151 Q35.2948 727.127 42.4881 727.127 L64.0042 727.127 L64.0042 733.015 L42.679 733.015 Q37.5546 733.015 35.072 734.829 Q32.5894 736.644 32.5894 740.368 Q32.5894 744.919 35.6131 747.561 Q38.6368 750.203 43.8567 750.203 L64.0042 750.203 L64.0042 756.091 L42.679 756.091 Q37.5228 756.091 35.072 757.905 Q32.5894 759.719 32.5894 763.507 Q32.5894 767.995 35.6449 770.636 Q38.6686 773.278 43.8567 773.278 L64.0042 773.278 L64.0042 779.167 L28.3562 779.167 L28.3562 773.278 L33.8944 773.278 Q30.616 771.273 29.0564 768.472 Q27.4968 765.671 27.4968 761.82 Q27.4968 757.937 29.4702 755.231 Q31.4436 752.494 35.1993 751.189 Z\" fill=\"#000000\" fill-rule=\"evenodd\" fill-opacity=\"1\" /><path clip-path=\"url(#clip610)\" d=\"M33.8307 674.069 Q33.2578 675.055 33.0032 676.233 Q32.7167 677.379 32.7167 678.779 Q32.7167 683.745 35.9632 686.418 Q39.1779 689.06 45.2253 689.06 L64.0042 689.06 L64.0042 694.948 L28.3562 694.948 L28.3562 689.06 L33.8944 689.06 Q30.6479 687.214 29.0883 684.254 Q27.4968 681.294 27.4968 677.061 Q27.4968 676.456 27.5923 675.724 Q27.656 674.992 27.8151 674.101 L33.8307 674.069 Z\" fill=\"#000000\" fill-rule=\"evenodd\" fill-opacity=\"1\" /><path clip-path=\"url(#clip610)\" d=\"M46.0847 651.725 Q46.0847 658.823 47.7079 661.56 Q49.3312 664.297 53.2461 664.297 Q56.3653 664.297 58.2114 662.26 Q60.0256 660.191 60.0256 656.658 Q60.0256 651.789 56.5881 648.861 Q53.1188 645.9 47.3897 645.9 L46.0847 645.9 L46.0847 651.725 M43.6657 640.044 L64.0042 640.044 L64.0042 645.9 L58.5933 645.9 Q61.8398 647.906 63.3994 650.898 Q64.9272 653.889 64.9272 658.218 Q64.9272 663.693 61.8716 666.939 Q58.7843 670.154 53.6281 670.154 Q47.6125 670.154 44.5569 666.143 Q41.5014 662.101 41.5014 654.112 L41.5014 645.9 L40.9285 645.9 Q36.8862 645.9 34.6901 648.574 Q32.4621 651.216 32.4621 656.022 Q32.4621 659.077 33.1941 661.974 Q33.9262 664.87 35.3903 667.544 L29.9795 667.544 Q28.7381 664.329 28.1334 661.305 Q27.4968 658.282 27.4968 655.417 Q27.4968 647.683 31.5072 643.863 Q35.5176 640.044 43.6657 640.044 Z\" fill=\"#000000\" fill-rule=\"evenodd\" fill-opacity=\"1\" /><path clip-path=\"url(#clip610)\" d=\"M33.7671 604.523 L14.479 604.523 L14.479 598.667 L64.0042 598.667 L64.0042 604.523 L58.657 604.523 Q61.8398 606.369 63.3994 609.202 Q64.9272 612.003 64.9272 615.95 Q64.9272 622.411 59.771 626.485 Q54.6147 630.527 46.212 630.527 Q37.8093 630.527 32.6531 626.485 Q27.4968 622.411 27.4968 615.95 Q27.4968 612.003 29.0564 609.202 Q30.5842 606.369 33.7671 604.523 M46.212 624.48 Q52.6732 624.48 56.3653 621.838 Q60.0256 619.164 60.0256 614.518 Q60.0256 609.871 56.3653 607.197 Q52.6732 604.523 46.212 604.523 Q39.7508 604.523 36.0905 607.197 Q32.3984 609.871 32.3984 614.518 Q32.3984 619.164 36.0905 621.838 Q39.7508 624.48 46.212 624.48 Z\" fill=\"#000000\" fill-rule=\"evenodd\" fill-opacity=\"1\" /><path clip-path=\"url(#clip610)\" d=\"M28.3562 586.604 L28.3562 580.747 L64.0042 580.747 L64.0042 586.604 L28.3562 586.604 M14.479 586.604 L14.479 580.747 L21.895 580.747 L21.895 586.604 L14.479 586.604 Z\" fill=\"#000000\" fill-rule=\"evenodd\" fill-opacity=\"1\" /><path clip-path=\"url(#clip610)\" d=\"M49.9359 569.098 L28.3562 569.098 L28.3562 563.242 L49.7131 563.242 Q54.7739 563.242 57.3202 561.268 Q59.8346 559.295 59.8346 555.348 Q59.8346 550.606 56.8109 547.869 Q53.7872 545.099 48.5673 545.099 L28.3562 545.099 L28.3562 539.243 L64.0042 539.243 L64.0042 545.099 L58.5296 545.099 Q61.7762 547.232 63.3676 550.065 Q64.9272 552.866 64.9272 556.59 Q64.9272 562.732 61.1078 565.915 Q57.2883 569.098 49.9359 569.098 M27.4968 554.362 L27.4968 554.362 Z\" fill=\"#000000\" fill-rule=\"evenodd\" fill-opacity=\"1\" /><path clip-path=\"url(#clip610)\" d=\"M29.4065 504.454 L34.9447 504.454 Q33.6716 506.937 33.035 509.611 Q32.3984 512.284 32.3984 515.149 Q32.3984 519.509 33.7352 521.706 Q35.072 523.87 37.7456 523.87 Q39.7826 523.87 40.9603 522.31 Q42.1061 520.751 43.1565 516.04 L43.6021 514.035 Q44.9389 507.796 47.3897 505.187 Q49.8086 502.545 54.1691 502.545 Q59.1344 502.545 62.0308 506.491 Q64.9272 510.406 64.9272 517.281 Q64.9272 520.146 64.3543 523.265 Q63.8132 526.352 62.6992 529.79 L56.6518 529.79 Q58.3387 526.543 59.198 523.392 Q60.0256 520.241 60.0256 517.154 Q60.0256 513.016 58.6251 510.788 Q57.1929 508.56 54.6147 508.56 Q52.2276 508.56 50.9545 510.184 Q49.6813 511.775 48.5037 517.218 L48.0262 519.255 Q46.8804 524.697 44.5251 527.116 Q42.138 529.535 38.0002 529.535 Q32.9713 529.535 30.2341 525.971 Q27.4968 522.406 27.4968 515.849 Q27.4968 512.603 27.9743 509.738 Q28.4517 506.873 29.4065 504.454 Z\" fill=\"#000000\" fill-rule=\"evenodd\" fill-opacity=\"1\" /><path clip-path=\"url(#clip610)\" d=\"M945.029 12.096 L983.269 12.096 L983.269 18.9825 L953.212 18.9825 L953.212 36.8875 L982.014 36.8875 L982.014 43.7741 L953.212 43.7741 L953.212 65.6895 L983.999 65.6895 L983.999 72.576 L945.029 72.576 L945.029 12.096 Z\" fill=\"#000000\" fill-rule=\"evenodd\" fill-opacity=\"1\" /><path clip-path=\"url(#clip610)\" d=\"M1023.41 34.1734 Q1022.16 33.4443 1020.66 33.1202 Q1019.2 32.7556 1017.42 32.7556 Q1011.1 32.7556 1007.7 36.8875 Q1004.33 40.9789 1004.33 48.6757 L1004.33 72.576 L996.84 72.576 L996.84 27.2059 L1004.33 27.2059 L1004.33 34.2544 Q1006.68 30.1225 1010.45 28.1376 Q1014.22 26.1121 1019.61 26.1121 Q1020.38 26.1121 1021.31 26.2337 Q1022.24 26.3147 1023.37 26.5172 L1023.41 34.1734 Z\" fill=\"#000000\" fill-rule=\"evenodd\" fill-opacity=\"1\" /><path clip-path=\"url(#clip610)\" d=\"M1056.06 34.1734 Q1054.81 33.4443 1053.31 33.1202 Q1051.85 32.7556 1050.07 32.7556 Q1043.75 32.7556 1040.35 36.8875 Q1036.98 40.9789 1036.98 48.6757 L1036.98 72.576 L1029.49 72.576 L1029.49 27.2059 L1036.98 27.2059 L1036.98 34.2544 Q1039.33 30.1225 1043.1 28.1376 Q1046.87 26.1121 1052.26 26.1121 Q1053.03 26.1121 1053.96 26.2337 Q1054.89 26.3147 1056.02 26.5172 L1056.06 34.1734 Z\" fill=\"#000000\" fill-rule=\"evenodd\" fill-opacity=\"1\" /><path clip-path=\"url(#clip610)\" d=\"M1079.64 32.4315 Q1073.65 32.4315 1070.16 37.1306 Q1066.68 41.7891 1066.68 49.9314 Q1066.68 58.0738 1070.12 62.7728 Q1073.6 67.4314 1079.64 67.4314 Q1085.6 67.4314 1089.08 62.7323 Q1092.56 58.0333 1092.56 49.9314 Q1092.56 41.8701 1089.08 37.1711 Q1085.6 32.4315 1079.64 32.4315 M1079.64 26.1121 Q1089.36 26.1121 1094.91 32.4315 Q1100.46 38.7509 1100.46 49.9314 Q1100.46 61.0714 1094.91 67.4314 Q1089.36 73.7508 1079.64 73.7508 Q1069.88 73.7508 1064.33 67.4314 Q1058.82 61.0714 1058.82 49.9314 Q1058.82 38.7509 1064.33 32.4315 Q1069.88 26.1121 1079.64 26.1121 Z\" fill=\"#000000\" fill-rule=\"evenodd\" fill-opacity=\"1\" /><path clip-path=\"url(#clip610)\" d=\"M1139.11 34.1734 Q1137.85 33.4443 1136.35 33.1202 Q1134.89 32.7556 1133.11 32.7556 Q1126.79 32.7556 1123.39 36.8875 Q1120.03 40.9789 1120.03 48.6757 L1120.03 72.576 L1112.53 72.576 L1112.53 27.2059 L1120.03 27.2059 L1120.03 34.2544 Q1122.38 30.1225 1126.14 28.1376 Q1129.91 26.1121 1135.3 26.1121 Q1136.07 26.1121 1137 26.2337 Q1137.93 26.3147 1139.07 26.5172 L1139.11 34.1734 Z\" fill=\"#000000\" fill-rule=\"evenodd\" fill-opacity=\"1\" /><path clip-path=\"url(#clip610)\" d=\"M1205.87 49.9314 Q1205.87 41.7081 1202.46 37.0496 Q1199.1 32.3505 1193.19 32.3505 Q1187.27 32.3505 1183.87 37.0496 Q1180.51 41.7081 1180.51 49.9314 Q1180.51 58.1548 1183.87 62.8538 Q1187.27 67.5124 1193.19 67.5124 Q1199.1 67.5124 1202.46 62.8538 Q1205.87 58.1548 1205.87 49.9314 M1180.51 34.0924 Q1182.86 30.0415 1186.42 28.0971 Q1190.03 26.1121 1195.01 26.1121 Q1203.27 26.1121 1208.42 32.6746 Q1213.6 39.2371 1213.6 49.9314 Q1213.6 60.6258 1208.42 67.1883 Q1203.27 73.7508 1195.01 73.7508 Q1190.03 73.7508 1186.42 71.8063 Q1182.86 69.8214 1180.51 65.7705 L1180.51 72.576 L1173.01 72.576 L1173.01 9.54393 L1180.51 9.54393 L1180.51 34.0924 Z\" fill=\"#000000\" fill-rule=\"evenodd\" fill-opacity=\"1\" /><path clip-path=\"url(#clip610)\" d=\"M1243.54 32.4315 Q1237.54 32.4315 1234.06 37.1306 Q1230.58 41.7891 1230.58 49.9314 Q1230.58 58.0738 1234.02 62.7728 Q1237.5 67.4314 1243.54 67.4314 Q1249.49 67.4314 1252.98 62.7323 Q1256.46 58.0333 1256.46 49.9314 Q1256.46 41.8701 1252.98 37.1711 Q1249.49 32.4315 1243.54 32.4315 M1243.54 26.1121 Q1253.26 26.1121 1258.81 32.4315 Q1264.36 38.7509 1264.36 49.9314 Q1264.36 61.0714 1258.81 67.4314 Q1253.26 73.7508 1243.54 73.7508 Q1233.78 73.7508 1228.23 67.4314 Q1222.72 61.0714 1222.72 49.9314 Q1222.72 38.7509 1228.23 32.4315 Q1233.78 26.1121 1243.54 26.1121 Z\" fill=\"#000000\" fill-rule=\"evenodd\" fill-opacity=\"1\" /><path clip-path=\"url(#clip610)\" d=\"M1275.95 54.671 L1275.95 27.2059 L1283.4 27.2059 L1283.4 54.3874 Q1283.4 60.8284 1285.91 64.0691 Q1288.42 67.2693 1293.45 67.2693 Q1299.48 67.2693 1302.97 63.421 Q1306.49 59.5726 1306.49 52.9291 L1306.49 27.2059 L1313.94 27.2059 L1313.94 72.576 L1306.49 72.576 L1306.49 65.6084 Q1303.78 69.7404 1300.17 71.7658 Q1296.61 73.7508 1291.87 73.7508 Q1284.05 73.7508 1280 68.8897 Q1275.95 64.0286 1275.95 54.671 M1294.7 26.1121 L1294.7 26.1121 Z\" fill=\"#000000\" fill-rule=\"evenodd\" fill-opacity=\"1\" /><path clip-path=\"url(#clip610)\" d=\"M1367.01 45.1919 L1367.01 72.576 L1359.56 72.576 L1359.56 45.4349 Q1359.56 38.994 1357.05 35.7938 Q1354.53 32.5936 1349.51 32.5936 Q1343.48 32.5936 1339.99 36.4419 Q1336.51 40.2903 1336.51 46.9338 L1336.51 72.576 L1329.01 72.576 L1329.01 27.2059 L1336.51 27.2059 L1336.51 34.2544 Q1339.18 30.163 1342.79 28.1376 Q1346.43 26.1121 1351.17 26.1121 Q1358.99 26.1121 1363 30.9732 Q1367.01 35.7938 1367.01 45.1919 Z\" fill=\"#000000\" fill-rule=\"evenodd\" fill-opacity=\"1\" /><path clip-path=\"url(#clip610)\" d=\"M1411.73 34.0924 L1411.73 9.54393 L1419.19 9.54393 L1419.19 72.576 L1411.73 72.576 L1411.73 65.7705 Q1409.38 69.8214 1405.78 71.8063 Q1402.21 73.7508 1397.19 73.7508 Q1388.97 73.7508 1383.78 67.1883 Q1378.64 60.6258 1378.64 49.9314 Q1378.64 39.2371 1383.78 32.6746 Q1388.97 26.1121 1397.19 26.1121 Q1402.21 26.1121 1405.78 28.0971 Q1409.38 30.0415 1411.73 34.0924 M1386.33 49.9314 Q1386.33 58.1548 1389.7 62.8538 Q1393.1 67.5124 1399.01 67.5124 Q1404.93 67.5124 1408.33 62.8538 Q1411.73 58.1548 1411.73 49.9314 Q1411.73 41.7081 1408.33 37.0496 Q1404.93 32.3505 1399.01 32.3505 Q1393.1 32.3505 1389.7 37.0496 Q1386.33 41.7081 1386.33 49.9314 Z\" fill=\"#000000\" fill-rule=\"evenodd\" fill-opacity=\"1\" /><path clip-path=\"url(#clip610)\" d=\"M1463.46 28.5427 L1463.46 35.5912 Q1460.3 33.9709 1456.9 33.1607 Q1453.5 32.3505 1449.85 32.3505 Q1444.3 32.3505 1441.51 34.0519 Q1438.75 35.7533 1438.75 39.156 Q1438.75 41.7486 1440.74 43.2475 Q1442.72 44.7058 1448.72 46.0426 L1451.27 46.6097 Q1459.21 48.3111 1462.53 51.4303 Q1465.89 54.509 1465.89 60.0587 Q1465.89 66.3781 1460.87 70.0644 Q1455.89 73.7508 1447.14 73.7508 Q1443.49 73.7508 1439.52 73.0216 Q1435.59 72.3329 1431.22 70.9151 L1431.22 63.2184 Q1435.35 65.3654 1439.36 66.4591 Q1443.37 67.5124 1447.3 67.5124 Q1452.57 67.5124 1455.4 65.73 Q1458.24 63.9071 1458.24 60.6258 Q1458.24 57.5877 1456.17 55.9673 Q1454.15 54.3469 1447.22 52.8481 L1444.63 52.2405 Q1437.7 50.7821 1434.62 47.7845 Q1431.54 44.7463 1431.54 39.4801 Q1431.54 33.0797 1436.08 29.5959 Q1440.62 26.1121 1448.96 26.1121 Q1453.09 26.1121 1456.74 26.7198 Q1460.38 27.3274 1463.46 28.5427 Z\" fill=\"#000000\" fill-rule=\"evenodd\" fill-opacity=\"1\" /><path clip-path=\"url(#clip610)\" d=\"M1521.72 32.4315 Q1515.72 32.4315 1512.24 37.1306 Q1508.75 41.7891 1508.75 49.9314 Q1508.75 58.0738 1512.2 62.7728 Q1515.68 67.4314 1521.72 67.4314 Q1527.67 67.4314 1531.15 62.7323 Q1534.64 58.0333 1534.64 49.9314 Q1534.64 41.8701 1531.15 37.1711 Q1527.67 32.4315 1521.72 32.4315 M1521.72 26.1121 Q1531.44 26.1121 1536.99 32.4315 Q1542.54 38.7509 1542.54 49.9314 Q1542.54 61.0714 1536.99 67.4314 Q1531.44 73.7508 1521.72 73.7508 Q1511.95 73.7508 1506.4 67.4314 Q1500.89 61.0714 1500.89 49.9314 Q1500.89 38.7509 1506.4 32.4315 Q1511.95 26.1121 1521.72 26.1121 Z\" fill=\"#000000\" fill-rule=\"evenodd\" fill-opacity=\"1\" /><path clip-path=\"url(#clip610)\" d=\"M1577.86 9.54393 L1577.86 15.7418 L1570.73 15.7418 Q1566.72 15.7418 1565.14 17.3622 Q1563.6 18.9825 1563.6 23.1955 L1563.6 27.2059 L1575.88 27.2059 L1575.88 32.9987 L1563.6 32.9987 L1563.6 72.576 L1556.11 72.576 L1556.11 32.9987 L1548.98 32.9987 L1548.98 27.2059 L1556.11 27.2059 L1556.11 24.0462 Q1556.11 16.471 1559.63 13.0277 Q1563.16 9.54393 1570.81 9.54393 L1577.86 9.54393 Z\" fill=\"#000000\" fill-rule=\"evenodd\" fill-opacity=\"1\" /><path clip-path=\"url(#clip610)\" d=\"M1610.8 12.096 L1618.98 12.096 L1618.98 72.576 L1610.8 72.576 L1610.8 12.096 Z\" fill=\"#000000\" fill-rule=\"evenodd\" fill-opacity=\"1\" /><path clip-path=\"url(#clip610)\" d=\"M1676.5 63.9476 L1676.5 47.7034 L1663.13 47.7034 L1663.13 40.9789 L1684.6 40.9789 L1684.6 66.9452 Q1679.86 70.3075 1674.15 72.0494 Q1668.44 73.7508 1661.96 73.7508 Q1647.78 73.7508 1639.76 65.4869 Q1631.78 57.1826 1631.78 42.3968 Q1631.78 27.5705 1639.76 19.3066 Q1647.78 11.0023 1661.96 11.0023 Q1667.87 11.0023 1673.18 12.4606 Q1678.53 13.9189 1683.02 16.7545 L1683.02 25.464 Q1678.49 21.6156 1673.38 19.6712 Q1668.28 17.7268 1662.65 17.7268 Q1651.55 17.7268 1645.96 23.9246 Q1640.41 30.1225 1640.41 42.3968 Q1640.41 54.6305 1645.96 60.8284 Q1651.55 67.0263 1662.65 67.0263 Q1666.98 67.0263 1670.38 66.2971 Q1673.79 65.5274 1676.5 63.9476 Z\" fill=\"#000000\" fill-rule=\"evenodd\" fill-opacity=\"1\" /><circle clip-path=\"url(#clip612)\" cx=\"410.803\" cy=\"1386.4\" r=\"14\" fill=\"#009af9\" fill-rule=\"evenodd\" fill-opacity=\"1\" stroke=\"#000000\" stroke-opacity=\"1\" stroke-width=\"3.2\"/>\n",
       "<circle clip-path=\"url(#clip612)\" cx=\"544.731\" cy=\"1249.5\" r=\"14\" fill=\"#009af9\" fill-rule=\"evenodd\" fill-opacity=\"1\" stroke=\"#000000\" stroke-opacity=\"1\" stroke-width=\"3.2\"/>\n",
       "<circle clip-path=\"url(#clip612)\" cx=\"678.659\" cy=\"1111.05\" r=\"14\" fill=\"#009af9\" fill-rule=\"evenodd\" fill-opacity=\"1\" stroke=\"#000000\" stroke-opacity=\"1\" stroke-width=\"3.2\"/>\n",
       "<circle clip-path=\"url(#clip612)\" cx=\"812.587\" cy=\"1072.43\" r=\"14\" fill=\"#009af9\" fill-rule=\"evenodd\" fill-opacity=\"1\" stroke=\"#000000\" stroke-opacity=\"1\" stroke-width=\"3.2\"/>\n",
       "<circle clip-path=\"url(#clip612)\" cx=\"946.514\" cy=\"965.17\" r=\"14\" fill=\"#009af9\" fill-rule=\"evenodd\" fill-opacity=\"1\" stroke=\"#000000\" stroke-opacity=\"1\" stroke-width=\"3.2\"/>\n",
       "<circle clip-path=\"url(#clip612)\" cx=\"1080.44\" cy=\"787.402\" r=\"14\" fill=\"#009af9\" fill-rule=\"evenodd\" fill-opacity=\"1\" stroke=\"#000000\" stroke-opacity=\"1\" stroke-width=\"3.2\"/>\n",
       "<circle clip-path=\"url(#clip612)\" cx=\"1214.37\" cy=\"839.269\" r=\"14\" fill=\"#009af9\" fill-rule=\"evenodd\" fill-opacity=\"1\" stroke=\"#000000\" stroke-opacity=\"1\" stroke-width=\"3.2\"/>\n",
       "<circle clip-path=\"url(#clip612)\" cx=\"1348.3\" cy=\"707.308\" r=\"14\" fill=\"#009af9\" fill-rule=\"evenodd\" fill-opacity=\"1\" stroke=\"#000000\" stroke-opacity=\"1\" stroke-width=\"3.2\"/>\n",
       "<circle clip-path=\"url(#clip612)\" cx=\"1482.23\" cy=\"631.939\" r=\"14\" fill=\"#009af9\" fill-rule=\"evenodd\" fill-opacity=\"1\" stroke=\"#000000\" stroke-opacity=\"1\" stroke-width=\"3.2\"/>\n",
       "<circle clip-path=\"url(#clip612)\" cx=\"1616.15\" cy=\"608.126\" r=\"14\" fill=\"#009af9\" fill-rule=\"evenodd\" fill-opacity=\"1\" stroke=\"#000000\" stroke-opacity=\"1\" stroke-width=\"3.2\"/>\n",
       "<circle clip-path=\"url(#clip612)\" cx=\"1750.08\" cy=\"530.019\" r=\"14\" fill=\"#009af9\" fill-rule=\"evenodd\" fill-opacity=\"1\" stroke=\"#000000\" stroke-opacity=\"1\" stroke-width=\"3.2\"/>\n",
       "<circle clip-path=\"url(#clip612)\" cx=\"1884.01\" cy=\"382.941\" r=\"14\" fill=\"#009af9\" fill-rule=\"evenodd\" fill-opacity=\"1\" stroke=\"#000000\" stroke-opacity=\"1\" stroke-width=\"3.2\"/>\n",
       "<circle clip-path=\"url(#clip612)\" cx=\"2017.94\" cy=\"251.766\" r=\"14\" fill=\"#009af9\" fill-rule=\"evenodd\" fill-opacity=\"1\" stroke=\"#000000\" stroke-opacity=\"1\" stroke-width=\"3.2\"/>\n",
       "<circle clip-path=\"url(#clip612)\" cx=\"2151.86\" cy=\"296.587\" r=\"14\" fill=\"#009af9\" fill-rule=\"evenodd\" fill-opacity=\"1\" stroke=\"#000000\" stroke-opacity=\"1\" stroke-width=\"3.2\"/>\n",
       "<circle clip-path=\"url(#clip612)\" cx=\"2285.79\" cy=\"160.256\" r=\"14\" fill=\"#009af9\" fill-rule=\"evenodd\" fill-opacity=\"1\" stroke=\"#000000\" stroke-opacity=\"1\" stroke-width=\"3.2\"/>\n",
       "<circle clip-path=\"url(#clip612)\" cx=\"410.803\" cy=\"1363.76\" r=\"14\" fill=\"#e26f46\" fill-rule=\"evenodd\" fill-opacity=\"1\" stroke=\"#000000\" stroke-opacity=\"1\" stroke-width=\"3.2\"/>\n",
       "<circle clip-path=\"url(#clip612)\" cx=\"544.731\" cy=\"1327.87\" r=\"14\" fill=\"#e26f46\" fill-rule=\"evenodd\" fill-opacity=\"1\" stroke=\"#000000\" stroke-opacity=\"1\" stroke-width=\"3.2\"/>\n",
       "<circle clip-path=\"url(#clip612)\" cx=\"678.659\" cy=\"1221.64\" r=\"14\" fill=\"#e26f46\" fill-rule=\"evenodd\" fill-opacity=\"1\" stroke=\"#000000\" stroke-opacity=\"1\" stroke-width=\"3.2\"/>\n",
       "<circle clip-path=\"url(#clip612)\" cx=\"812.587\" cy=\"1279.65\" r=\"14\" fill=\"#e26f46\" fill-rule=\"evenodd\" fill-opacity=\"1\" stroke=\"#000000\" stroke-opacity=\"1\" stroke-width=\"3.2\"/>\n",
       "<circle clip-path=\"url(#clip612)\" cx=\"946.514\" cy=\"1265.22\" r=\"14\" fill=\"#e26f46\" fill-rule=\"evenodd\" fill-opacity=\"1\" stroke=\"#000000\" stroke-opacity=\"1\" stroke-width=\"3.2\"/>\n",
       "<circle clip-path=\"url(#clip612)\" cx=\"1080.44\" cy=\"1034.05\" r=\"14\" fill=\"#e26f46\" fill-rule=\"evenodd\" fill-opacity=\"1\" stroke=\"#000000\" stroke-opacity=\"1\" stroke-width=\"3.2\"/>\n",
       "<circle clip-path=\"url(#clip612)\" cx=\"1214.37\" cy=\"1222.16\" r=\"14\" fill=\"#e26f46\" fill-rule=\"evenodd\" fill-opacity=\"1\" stroke=\"#000000\" stroke-opacity=\"1\" stroke-width=\"3.2\"/>\n",
       "<circle clip-path=\"url(#clip612)\" cx=\"1348.3\" cy=\"1189.13\" r=\"14\" fill=\"#e26f46\" fill-rule=\"evenodd\" fill-opacity=\"1\" stroke=\"#000000\" stroke-opacity=\"1\" stroke-width=\"3.2\"/>\n",
       "<circle clip-path=\"url(#clip612)\" cx=\"1482.23\" cy=\"1156.03\" r=\"14\" fill=\"#e26f46\" fill-rule=\"evenodd\" fill-opacity=\"1\" stroke=\"#000000\" stroke-opacity=\"1\" stroke-width=\"3.2\"/>\n",
       "<circle clip-path=\"url(#clip612)\" cx=\"1616.15\" cy=\"1224.86\" r=\"14\" fill=\"#e26f46\" fill-rule=\"evenodd\" fill-opacity=\"1\" stroke=\"#000000\" stroke-opacity=\"1\" stroke-width=\"3.2\"/>\n",
       "<circle clip-path=\"url(#clip612)\" cx=\"1750.08\" cy=\"1215.13\" r=\"14\" fill=\"#e26f46\" fill-rule=\"evenodd\" fill-opacity=\"1\" stroke=\"#000000\" stroke-opacity=\"1\" stroke-width=\"3.2\"/>\n",
       "<circle clip-path=\"url(#clip612)\" cx=\"1884.01\" cy=\"1176.41\" r=\"14\" fill=\"#e26f46\" fill-rule=\"evenodd\" fill-opacity=\"1\" stroke=\"#000000\" stroke-opacity=\"1\" stroke-width=\"3.2\"/>\n",
       "<circle clip-path=\"url(#clip612)\" cx=\"2017.94\" cy=\"1152.2\" r=\"14\" fill=\"#e26f46\" fill-rule=\"evenodd\" fill-opacity=\"1\" stroke=\"#000000\" stroke-opacity=\"1\" stroke-width=\"3.2\"/>\n",
       "<circle clip-path=\"url(#clip612)\" cx=\"2151.86\" cy=\"1001.82\" r=\"14\" fill=\"#e26f46\" fill-rule=\"evenodd\" fill-opacity=\"1\" stroke=\"#000000\" stroke-opacity=\"1\" stroke-width=\"3.2\"/>\n",
       "<circle clip-path=\"url(#clip612)\" cx=\"2285.79\" cy=\"1055.98\" r=\"14\" fill=\"#e26f46\" fill-rule=\"evenodd\" fill-opacity=\"1\" stroke=\"#000000\" stroke-opacity=\"1\" stroke-width=\"3.2\"/>\n",
       "<path clip-path=\"url(#clip610)\" d=\"\n",
       "M346.072 322.316 L1136.98 322.316 L1136.98 166.796 L346.072 166.796  Z\n",
       "  \" fill=\"#ffffff\" fill-rule=\"evenodd\" fill-opacity=\"1\"/>\n",
       "<polyline clip-path=\"url(#clip610)\" style=\"stroke:#000000; stroke-linecap:butt; stroke-linejoin:round; stroke-width:4; stroke-opacity:1; fill:none\" points=\"\n",
       "  346.072,322.316 1136.98,322.316 1136.98,166.796 346.072,166.796 346.072,322.316 \n",
       "  \"/>\n",
       "<circle clip-path=\"url(#clip610)\" cx=\"438.333\" cy=\"218.636\" r=\"23\" fill=\"#009af9\" fill-rule=\"evenodd\" fill-opacity=\"1\" stroke=\"#000000\" stroke-opacity=\"1\" stroke-width=\"5.12\"/>\n",
       "<path clip-path=\"url(#clip610)\" d=\"M530.594 209.99 L534.853 209.99 L540.178 230.221 L545.478 209.99 L550.502 209.99 L555.826 230.221 L561.126 209.99 L565.386 209.99 L558.603 235.916 L553.58 235.916 L548.002 214.666 L542.4 235.916 L537.377 235.916 L530.594 209.99 Z\" fill=\"#000000\" fill-rule=\"evenodd\" fill-opacity=\"1\" /><path clip-path=\"url(#clip610)\" d=\"M571.844 209.99 L576.103 209.99 L576.103 235.916 L571.844 235.916 L571.844 209.99 M571.844 199.897 L576.103 199.897 L576.103 205.291 L571.844 205.291 L571.844 199.897 Z\" fill=\"#000000\" fill-rule=\"evenodd\" fill-opacity=\"1\" /><path clip-path=\"url(#clip610)\" d=\"M589.228 202.629 L589.228 209.99 L598.001 209.99 L598.001 213.3 L589.228 213.3 L589.228 227.374 Q589.228 230.545 590.085 231.448 Q590.964 232.351 593.626 232.351 L598.001 232.351 L598.001 235.916 L593.626 235.916 Q588.696 235.916 586.821 234.087 Q584.946 232.235 584.946 227.374 L584.946 213.3 L581.821 213.3 L581.821 209.99 L584.946 209.99 L584.946 202.629 L589.228 202.629 Z\" fill=\"#000000\" fill-rule=\"evenodd\" fill-opacity=\"1\" /><path clip-path=\"url(#clip610)\" d=\"M625.154 220.268 L625.154 235.916 L620.895 235.916 L620.895 220.407 Q620.895 216.726 619.459 214.897 Q618.024 213.069 615.154 213.069 Q611.705 213.069 609.714 215.268 Q607.723 217.467 607.723 221.263 L607.723 235.916 L603.441 235.916 L603.441 199.897 L607.723 199.897 L607.723 214.018 Q609.251 211.68 611.311 210.522 Q613.395 209.365 616.103 209.365 Q620.571 209.365 622.862 212.143 Q625.154 214.897 625.154 220.268 Z\" fill=\"#000000\" fill-rule=\"evenodd\" fill-opacity=\"1\" /><path clip-path=\"url(#clip610)\" d=\"M643.695 212.976 Q640.27 212.976 638.279 215.661 Q636.288 218.323 636.288 222.976 Q636.288 227.629 638.256 230.314 Q640.246 232.976 643.695 232.976 Q647.098 232.976 649.089 230.291 Q651.08 227.606 651.08 222.976 Q651.08 218.37 649.089 215.684 Q647.098 212.976 643.695 212.976 M643.695 209.365 Q649.251 209.365 652.422 212.976 Q655.594 216.587 655.594 222.976 Q655.594 229.342 652.422 232.976 Q649.251 236.587 643.695 236.587 Q638.117 236.587 634.946 232.976 Q631.797 229.342 631.797 222.976 Q631.797 216.587 634.946 212.976 Q638.117 209.365 643.695 209.365 Z\" fill=\"#000000\" fill-rule=\"evenodd\" fill-opacity=\"1\" /><path clip-path=\"url(#clip610)\" d=\"M662.214 225.684 L662.214 209.99 L666.473 209.99 L666.473 225.522 Q666.473 229.203 667.908 231.055 Q669.343 232.883 672.214 232.883 Q675.663 232.883 677.654 230.684 Q679.667 228.485 679.667 224.689 L679.667 209.99 L683.927 209.99 L683.927 235.916 L679.667 235.916 L679.667 231.934 Q678.117 234.295 676.056 235.453 Q674.019 236.587 671.311 236.587 Q666.843 236.587 664.529 233.809 Q662.214 231.031 662.214 225.684 M672.931 209.365 L672.931 209.365 Z\" fill=\"#000000\" fill-rule=\"evenodd\" fill-opacity=\"1\" /><path clip-path=\"url(#clip610)\" d=\"M696.913 202.629 L696.913 209.99 L705.686 209.99 L705.686 213.3 L696.913 213.3 L696.913 227.374 Q696.913 230.545 697.769 231.448 Q698.649 232.351 701.311 232.351 L705.686 232.351 L705.686 235.916 L701.311 235.916 Q696.38 235.916 694.505 234.087 Q692.63 232.235 692.63 227.374 L692.63 213.3 L689.505 213.3 L689.505 209.99 L692.63 209.99 L692.63 202.629 L696.913 202.629 Z\" fill=\"#000000\" fill-rule=\"evenodd\" fill-opacity=\"1\" /><path clip-path=\"url(#clip610)\" d=\"M730.477 232.027 L730.477 245.777 L726.195 245.777 L726.195 209.99 L730.477 209.99 L730.477 213.925 Q731.82 211.61 733.857 210.499 Q735.917 209.365 738.764 209.365 Q743.487 209.365 746.426 213.115 Q749.389 216.865 749.389 222.976 Q749.389 229.087 746.426 232.837 Q743.487 236.587 738.764 236.587 Q735.917 236.587 733.857 235.476 Q731.82 234.342 730.477 232.027 M744.968 222.976 Q744.968 218.277 743.024 215.615 Q741.102 212.93 737.723 212.93 Q734.343 212.93 732.399 215.615 Q730.477 218.277 730.477 222.976 Q730.477 227.675 732.399 230.36 Q734.343 233.022 737.723 233.022 Q741.102 233.022 743.024 230.36 Q744.968 227.675 744.968 222.976 Z\" fill=\"#000000\" fill-rule=\"evenodd\" fill-opacity=\"1\" /><path clip-path=\"url(#clip610)\" d=\"M771.473 213.971 Q770.755 213.555 769.898 213.37 Q769.065 213.161 768.047 213.161 Q764.436 213.161 762.491 215.522 Q760.57 217.86 760.57 222.258 L760.57 235.916 L756.287 235.916 L756.287 209.99 L760.57 209.99 L760.57 214.018 Q761.912 211.657 764.065 210.522 Q766.218 209.365 769.297 209.365 Q769.736 209.365 770.269 209.434 Q770.801 209.481 771.449 209.596 L771.473 213.971 Z\" fill=\"#000000\" fill-rule=\"evenodd\" fill-opacity=\"1\" /><path clip-path=\"url(#clip610)\" d=\"M797.074 221.888 L797.074 223.971 L777.491 223.971 Q777.769 228.369 780.13 230.684 Q782.514 232.976 786.75 232.976 Q789.204 232.976 791.496 232.374 Q793.81 231.772 796.079 230.569 L796.079 234.596 Q793.787 235.568 791.38 236.078 Q788.972 236.587 786.496 236.587 Q780.292 236.587 776.658 232.976 Q773.047 229.365 773.047 223.207 Q773.047 216.842 776.473 213.115 Q779.922 209.365 785.755 209.365 Q790.986 209.365 794.019 212.745 Q797.074 216.101 797.074 221.888 M792.815 220.638 Q792.769 217.143 790.847 215.059 Q788.949 212.976 785.801 212.976 Q782.236 212.976 780.084 214.99 Q777.954 217.004 777.63 220.661 L792.815 220.638 Z\" fill=\"#000000\" fill-rule=\"evenodd\" fill-opacity=\"1\" /><path clip-path=\"url(#clip610)\" d=\"M801.912 221.032 L814.389 221.032 L814.389 224.828 L801.912 224.828 L801.912 221.032 Z\" fill=\"#000000\" fill-rule=\"evenodd\" fill-opacity=\"1\" /><path clip-path=\"url(#clip610)\" d=\"M839.829 210.985 L839.829 214.967 Q838.023 213.971 836.194 213.485 Q834.389 212.976 832.537 212.976 Q828.394 212.976 826.102 215.615 Q823.81 218.231 823.81 222.976 Q823.81 227.721 826.102 230.36 Q828.394 232.976 832.537 232.976 Q834.389 232.976 836.194 232.49 Q838.023 231.981 839.829 230.985 L839.829 234.92 Q838.046 235.754 836.125 236.17 Q834.227 236.587 832.074 236.587 Q826.218 236.587 822.769 232.906 Q819.32 229.226 819.32 222.976 Q819.32 216.633 822.792 212.999 Q826.287 209.365 832.352 209.365 Q834.319 209.365 836.194 209.782 Q838.069 210.175 839.829 210.985 Z\" fill=\"#000000\" fill-rule=\"evenodd\" fill-opacity=\"1\" /><path clip-path=\"url(#clip610)\" d=\"M857.282 212.976 Q853.856 212.976 851.866 215.661 Q849.875 218.323 849.875 222.976 Q849.875 227.629 851.843 230.314 Q853.833 232.976 857.282 232.976 Q860.685 232.976 862.676 230.291 Q864.667 227.606 864.667 222.976 Q864.667 218.37 862.676 215.684 Q860.685 212.976 857.282 212.976 M857.282 209.365 Q862.838 209.365 866.009 212.976 Q869.18 216.587 869.18 222.976 Q869.18 229.342 866.009 232.976 Q862.838 236.587 857.282 236.587 Q851.704 236.587 848.532 232.976 Q845.384 229.342 845.384 222.976 Q845.384 216.587 848.532 212.976 Q851.704 209.365 857.282 209.365 Z\" fill=\"#000000\" fill-rule=\"evenodd\" fill-opacity=\"1\" /><path clip-path=\"url(#clip610)\" d=\"M897.791 220.268 L897.791 235.916 L893.532 235.916 L893.532 220.407 Q893.532 216.726 892.097 214.897 Q890.662 213.069 887.791 213.069 Q884.342 213.069 882.352 215.268 Q880.361 217.467 880.361 221.263 L880.361 235.916 L876.078 235.916 L876.078 209.99 L880.361 209.99 L880.361 214.018 Q881.889 211.68 883.949 210.522 Q886.032 209.365 888.74 209.365 Q893.208 209.365 895.5 212.143 Q897.791 214.897 897.791 220.268 Z\" fill=\"#000000\" fill-rule=\"evenodd\" fill-opacity=\"1\" /><path clip-path=\"url(#clip610)\" d=\"M923.347 213.925 L923.347 199.897 L927.606 199.897 L927.606 235.916 L923.347 235.916 L923.347 232.027 Q922.004 234.342 919.944 235.476 Q917.907 236.587 915.037 236.587 Q910.338 236.587 907.375 232.837 Q904.435 229.087 904.435 222.976 Q904.435 216.865 907.375 213.115 Q910.338 209.365 915.037 209.365 Q917.907 209.365 919.944 210.499 Q922.004 211.61 923.347 213.925 M908.833 222.976 Q908.833 227.675 910.754 230.36 Q912.699 233.022 916.078 233.022 Q919.458 233.022 921.402 230.36 Q923.347 227.675 923.347 222.976 Q923.347 218.277 921.402 215.615 Q919.458 212.93 916.078 212.93 Q912.699 212.93 910.754 215.615 Q908.833 218.277 908.833 222.976 Z\" fill=\"#000000\" fill-rule=\"evenodd\" fill-opacity=\"1\" /><path clip-path=\"url(#clip610)\" d=\"M936.379 209.99 L940.638 209.99 L940.638 235.916 L936.379 235.916 L936.379 209.99 M936.379 199.897 L940.638 199.897 L940.638 205.291 L936.379 205.291 L936.379 199.897 Z\" fill=\"#000000\" fill-rule=\"evenodd\" fill-opacity=\"1\" /><path clip-path=\"url(#clip610)\" d=\"M953.763 202.629 L953.763 209.99 L962.536 209.99 L962.536 213.3 L953.763 213.3 L953.763 227.374 Q953.763 230.545 954.62 231.448 Q955.499 232.351 958.161 232.351 L962.536 232.351 L962.536 235.916 L958.161 235.916 Q953.231 235.916 951.356 234.087 Q949.481 232.235 949.481 227.374 L949.481 213.3 L946.356 213.3 L946.356 209.99 L949.481 209.99 L949.481 202.629 L953.763 202.629 Z\" fill=\"#000000\" fill-rule=\"evenodd\" fill-opacity=\"1\" /><path clip-path=\"url(#clip610)\" d=\"M968.138 209.99 L972.397 209.99 L972.397 235.916 L968.138 235.916 L968.138 209.99 M968.138 199.897 L972.397 199.897 L972.397 205.291 L968.138 205.291 L968.138 199.897 Z\" fill=\"#000000\" fill-rule=\"evenodd\" fill-opacity=\"1\" /><path clip-path=\"url(#clip610)\" d=\"M991.356 212.976 Q987.93 212.976 985.939 215.661 Q983.948 218.323 983.948 222.976 Q983.948 227.629 985.916 230.314 Q987.907 232.976 991.356 232.976 Q994.758 232.976 996.749 230.291 Q998.74 227.606 998.74 222.976 Q998.74 218.37 996.749 215.684 Q994.758 212.976 991.356 212.976 M991.356 209.365 Q996.911 209.365 1000.08 212.976 Q1003.25 216.587 1003.25 222.976 Q1003.25 229.342 1000.08 232.976 Q996.911 236.587 991.356 236.587 Q985.777 236.587 982.606 232.976 Q979.458 229.342 979.458 222.976 Q979.458 216.587 982.606 212.976 Q985.777 209.365 991.356 209.365 Z\" fill=\"#000000\" fill-rule=\"evenodd\" fill-opacity=\"1\" /><path clip-path=\"url(#clip610)\" d=\"M1031.86 220.268 L1031.86 235.916 L1027.61 235.916 L1027.61 220.407 Q1027.61 216.726 1026.17 214.897 Q1024.74 213.069 1021.86 213.069 Q1018.42 213.069 1016.42 215.268 Q1014.43 217.467 1014.43 221.263 L1014.43 235.916 L1010.15 235.916 L1010.15 209.99 L1014.43 209.99 L1014.43 214.018 Q1015.96 211.68 1018.02 210.522 Q1020.11 209.365 1022.81 209.365 Q1027.28 209.365 1029.57 212.143 Q1031.86 214.897 1031.86 220.268 Z\" fill=\"#000000\" fill-rule=\"evenodd\" fill-opacity=\"1\" /><path clip-path=\"url(#clip610)\" d=\"M1062.54 221.888 L1062.54 223.971 L1042.95 223.971 Q1043.23 228.369 1045.59 230.684 Q1047.98 232.976 1052.21 232.976 Q1054.67 232.976 1056.96 232.374 Q1059.27 231.772 1061.54 230.569 L1061.54 234.596 Q1059.25 235.568 1056.84 236.078 Q1054.43 236.587 1051.96 236.587 Q1045.75 236.587 1042.12 232.976 Q1038.51 229.365 1038.51 223.207 Q1038.51 216.842 1041.93 213.115 Q1045.38 209.365 1051.22 209.365 Q1056.45 209.365 1059.48 212.745 Q1062.54 216.101 1062.54 221.888 M1058.28 220.638 Q1058.23 217.143 1056.31 215.059 Q1054.41 212.976 1051.26 212.976 Q1047.7 212.976 1045.55 214.99 Q1043.42 217.004 1043.09 220.661 L1058.28 220.638 Z\" fill=\"#000000\" fill-rule=\"evenodd\" fill-opacity=\"1\" /><path clip-path=\"url(#clip610)\" d=\"M1086.59 213.925 L1086.59 199.897 L1090.85 199.897 L1090.85 235.916 L1086.59 235.916 L1086.59 232.027 Q1085.24 234.342 1083.18 235.476 Q1081.15 236.587 1078.28 236.587 Q1073.58 236.587 1070.61 232.837 Q1067.67 229.087 1067.67 222.976 Q1067.67 216.865 1070.61 213.115 Q1073.58 209.365 1078.28 209.365 Q1081.15 209.365 1083.18 210.499 Q1085.24 211.61 1086.59 213.925 M1072.07 222.976 Q1072.07 227.675 1073.99 230.36 Q1075.94 233.022 1079.32 233.022 Q1082.7 233.022 1084.64 230.36 Q1086.59 227.675 1086.59 222.976 Q1086.59 218.277 1084.64 215.615 Q1082.7 212.93 1079.32 212.93 Q1075.94 212.93 1073.99 215.615 Q1072.07 218.277 1072.07 222.976 Z\" fill=\"#000000\" fill-rule=\"evenodd\" fill-opacity=\"1\" /><circle clip-path=\"url(#clip610)\" cx=\"438.333\" cy=\"270.476\" r=\"23\" fill=\"#e26f46\" fill-rule=\"evenodd\" fill-opacity=\"1\" stroke=\"#000000\" stroke-opacity=\"1\" stroke-width=\"5.12\"/>\n",
       "<path clip-path=\"url(#clip610)\" d=\"M530.594 261.83 L534.853 261.83 L540.178 282.061 L545.478 261.83 L550.502 261.83 L555.826 282.061 L561.126 261.83 L565.386 261.83 L558.603 287.756 L553.58 287.756 L548.002 266.506 L542.4 287.756 L537.377 287.756 L530.594 261.83 Z\" fill=\"#000000\" fill-rule=\"evenodd\" fill-opacity=\"1\" /><path clip-path=\"url(#clip610)\" d=\"M571.844 261.83 L576.103 261.83 L576.103 287.756 L571.844 287.756 L571.844 261.83 M571.844 251.737 L576.103 251.737 L576.103 257.131 L571.844 257.131 L571.844 251.737 Z\" fill=\"#000000\" fill-rule=\"evenodd\" fill-opacity=\"1\" /><path clip-path=\"url(#clip610)\" d=\"M589.228 254.469 L589.228 261.83 L598.001 261.83 L598.001 265.14 L589.228 265.14 L589.228 279.214 Q589.228 282.385 590.085 283.288 Q590.964 284.191 593.626 284.191 L598.001 284.191 L598.001 287.756 L593.626 287.756 Q588.696 287.756 586.821 285.927 Q584.946 284.075 584.946 279.214 L584.946 265.14 L581.821 265.14 L581.821 261.83 L584.946 261.83 L584.946 254.469 L589.228 254.469 Z\" fill=\"#000000\" fill-rule=\"evenodd\" fill-opacity=\"1\" /><path clip-path=\"url(#clip610)\" d=\"M625.154 272.108 L625.154 287.756 L620.895 287.756 L620.895 272.247 Q620.895 268.566 619.459 266.737 Q618.024 264.909 615.154 264.909 Q611.705 264.909 609.714 267.108 Q607.723 269.307 607.723 273.103 L607.723 287.756 L603.441 287.756 L603.441 251.737 L607.723 251.737 L607.723 265.858 Q609.251 263.52 611.311 262.362 Q613.395 261.205 616.103 261.205 Q620.571 261.205 622.862 263.983 Q625.154 266.737 625.154 272.108 Z\" fill=\"#000000\" fill-rule=\"evenodd\" fill-opacity=\"1\" /><path clip-path=\"url(#clip610)\" d=\"M652.839 283.867 L652.839 297.617 L648.557 297.617 L648.557 261.83 L652.839 261.83 L652.839 265.765 Q654.182 263.45 656.219 262.339 Q658.279 261.205 661.126 261.205 Q665.848 261.205 668.788 264.955 Q671.751 268.705 671.751 274.816 Q671.751 280.927 668.788 284.677 Q665.848 288.427 661.126 288.427 Q658.279 288.427 656.219 287.316 Q654.182 286.182 652.839 283.867 M667.33 274.816 Q667.33 270.117 665.385 267.455 Q663.464 264.77 660.084 264.77 Q656.705 264.77 654.76 267.455 Q652.839 270.117 652.839 274.816 Q652.839 279.515 654.76 282.2 Q656.705 284.862 660.084 284.862 Q663.464 284.862 665.385 282.2 Q667.33 279.515 667.33 274.816 Z\" fill=\"#000000\" fill-rule=\"evenodd\" fill-opacity=\"1\" /><path clip-path=\"url(#clip610)\" d=\"M693.834 265.811 Q693.117 265.395 692.26 265.21 Q691.427 265.001 690.408 265.001 Q686.797 265.001 684.853 267.362 Q682.931 269.7 682.931 274.098 L682.931 287.756 L678.649 287.756 L678.649 261.83 L682.931 261.83 L682.931 265.858 Q684.274 263.497 686.427 262.362 Q688.579 261.205 691.658 261.205 Q692.098 261.205 692.63 261.274 Q693.163 261.321 693.811 261.436 L693.834 265.811 Z\" fill=\"#000000\" fill-rule=\"evenodd\" fill-opacity=\"1\" /><path clip-path=\"url(#clip610)\" d=\"M719.436 273.728 L719.436 275.811 L699.853 275.811 Q700.13 280.209 702.491 282.524 Q704.876 284.816 709.112 284.816 Q711.565 284.816 713.857 284.214 Q716.172 283.612 718.44 282.409 L718.44 286.436 Q716.149 287.408 713.741 287.918 Q711.334 288.427 708.857 288.427 Q702.653 288.427 699.019 284.816 Q695.408 281.205 695.408 275.047 Q695.408 268.682 698.834 264.955 Q702.283 261.205 708.116 261.205 Q713.348 261.205 716.38 264.585 Q719.436 267.941 719.436 273.728 M715.177 272.478 Q715.13 268.983 713.209 266.899 Q711.311 264.816 708.163 264.816 Q704.598 264.816 702.445 266.83 Q700.316 268.844 699.991 272.501 L715.177 272.478 Z\" fill=\"#000000\" fill-rule=\"evenodd\" fill-opacity=\"1\" /><path clip-path=\"url(#clip610)\" d=\"M724.274 272.872 L736.751 272.872 L736.751 276.668 L724.274 276.668 L724.274 272.872 Z\" fill=\"#000000\" fill-rule=\"evenodd\" fill-opacity=\"1\" /><path clip-path=\"url(#clip610)\" d=\"M762.19 262.825 L762.19 266.807 Q760.385 265.811 758.556 265.325 Q756.75 264.816 754.899 264.816 Q750.755 264.816 748.463 267.455 Q746.172 270.071 746.172 274.816 Q746.172 279.561 748.463 282.2 Q750.755 284.816 754.899 284.816 Q756.75 284.816 758.556 284.33 Q760.385 283.821 762.19 282.825 L762.19 286.76 Q760.408 287.594 758.487 288.01 Q756.588 288.427 754.436 288.427 Q748.579 288.427 745.13 284.746 Q741.681 281.066 741.681 274.816 Q741.681 268.473 745.153 264.839 Q748.649 261.205 754.713 261.205 Q756.681 261.205 758.556 261.622 Q760.431 262.015 762.19 262.825 Z\" fill=\"#000000\" fill-rule=\"evenodd\" fill-opacity=\"1\" /><path clip-path=\"url(#clip610)\" d=\"M779.644 264.816 Q776.218 264.816 774.227 267.501 Q772.236 270.163 772.236 274.816 Q772.236 279.469 774.204 282.154 Q776.195 284.816 779.644 284.816 Q783.047 284.816 785.037 282.131 Q787.028 279.446 787.028 274.816 Q787.028 270.21 785.037 267.524 Q783.047 264.816 779.644 264.816 M779.644 261.205 Q785.199 261.205 788.371 264.816 Q791.542 268.427 791.542 274.816 Q791.542 281.182 788.371 284.816 Q785.199 288.427 779.644 288.427 Q774.065 288.427 770.894 284.816 Q767.746 281.182 767.746 274.816 Q767.746 268.427 770.894 264.816 Q774.065 261.205 779.644 261.205 Z\" fill=\"#000000\" fill-rule=\"evenodd\" fill-opacity=\"1\" /><path clip-path=\"url(#clip610)\" d=\"M820.153 272.108 L820.153 287.756 L815.894 287.756 L815.894 272.247 Q815.894 268.566 814.458 266.737 Q813.023 264.909 810.153 264.909 Q806.704 264.909 804.713 267.108 Q802.722 269.307 802.722 273.103 L802.722 287.756 L798.44 287.756 L798.44 261.83 L802.722 261.83 L802.722 265.858 Q804.25 263.52 806.31 262.362 Q808.394 261.205 811.102 261.205 Q815.57 261.205 817.861 263.983 Q820.153 266.737 820.153 272.108 Z\" fill=\"#000000\" fill-rule=\"evenodd\" fill-opacity=\"1\" /><path clip-path=\"url(#clip610)\" d=\"M845.708 265.765 L845.708 251.737 L849.968 251.737 L849.968 287.756 L845.708 287.756 L845.708 283.867 Q844.366 286.182 842.306 287.316 Q840.268 288.427 837.398 288.427 Q832.699 288.427 829.736 284.677 Q826.796 280.927 826.796 274.816 Q826.796 268.705 829.736 264.955 Q832.699 261.205 837.398 261.205 Q840.268 261.205 842.306 262.339 Q844.366 263.45 845.708 265.765 M831.194 274.816 Q831.194 279.515 833.116 282.2 Q835.06 284.862 838.44 284.862 Q841.819 284.862 843.764 282.2 Q845.708 279.515 845.708 274.816 Q845.708 270.117 843.764 267.455 Q841.819 264.77 838.44 264.77 Q835.06 264.77 833.116 267.455 Q831.194 270.117 831.194 274.816 Z\" fill=\"#000000\" fill-rule=\"evenodd\" fill-opacity=\"1\" /><path clip-path=\"url(#clip610)\" d=\"M858.741 261.83 L863 261.83 L863 287.756 L858.741 287.756 L858.741 261.83 M858.741 251.737 L863 251.737 L863 257.131 L858.741 257.131 L858.741 251.737 Z\" fill=\"#000000\" fill-rule=\"evenodd\" fill-opacity=\"1\" /><path clip-path=\"url(#clip610)\" d=\"M876.125 254.469 L876.125 261.83 L884.898 261.83 L884.898 265.14 L876.125 265.14 L876.125 279.214 Q876.125 282.385 876.981 283.288 Q877.861 284.191 880.523 284.191 L884.898 284.191 L884.898 287.756 L880.523 287.756 Q875.592 287.756 873.717 285.927 Q871.842 284.075 871.842 279.214 L871.842 265.14 L868.717 265.14 L868.717 261.83 L871.842 261.83 L871.842 254.469 L876.125 254.469 Z\" fill=\"#000000\" fill-rule=\"evenodd\" fill-opacity=\"1\" /><path clip-path=\"url(#clip610)\" d=\"M890.5 261.83 L894.759 261.83 L894.759 287.756 L890.5 287.756 L890.5 261.83 M890.5 251.737 L894.759 251.737 L894.759 257.131 L890.5 257.131 L890.5 251.737 Z\" fill=\"#000000\" fill-rule=\"evenodd\" fill-opacity=\"1\" /><path clip-path=\"url(#clip610)\" d=\"M913.717 264.816 Q910.291 264.816 908.301 267.501 Q906.31 270.163 906.31 274.816 Q906.31 279.469 908.277 282.154 Q910.268 284.816 913.717 284.816 Q917.12 284.816 919.111 282.131 Q921.101 279.446 921.101 274.816 Q921.101 270.21 919.111 267.524 Q917.12 264.816 913.717 264.816 M913.717 261.205 Q919.273 261.205 922.444 264.816 Q925.615 268.427 925.615 274.816 Q925.615 281.182 922.444 284.816 Q919.273 288.427 913.717 288.427 Q908.138 288.427 904.967 284.816 Q901.819 281.182 901.819 274.816 Q901.819 268.427 904.967 264.816 Q908.138 261.205 913.717 261.205 Z\" fill=\"#000000\" fill-rule=\"evenodd\" fill-opacity=\"1\" /><path clip-path=\"url(#clip610)\" d=\"M954.226 272.108 L954.226 287.756 L949.967 287.756 L949.967 272.247 Q949.967 268.566 948.532 266.737 Q947.097 264.909 944.226 264.909 Q940.777 264.909 938.786 267.108 Q936.796 269.307 936.796 273.103 L936.796 287.756 L932.513 287.756 L932.513 261.83 L936.796 261.83 L936.796 265.858 Q938.324 263.52 940.384 262.362 Q942.467 261.205 945.175 261.205 Q949.643 261.205 951.935 263.983 Q954.226 266.737 954.226 272.108 Z\" fill=\"#000000\" fill-rule=\"evenodd\" fill-opacity=\"1\" /><path clip-path=\"url(#clip610)\" d=\"M984.897 273.728 L984.897 275.811 L965.314 275.811 Q965.592 280.209 967.953 282.524 Q970.337 284.816 974.573 284.816 Q977.027 284.816 979.319 284.214 Q981.633 283.612 983.902 282.409 L983.902 286.436 Q981.61 287.408 979.203 287.918 Q976.796 288.427 974.319 288.427 Q968.115 288.427 964.481 284.816 Q960.87 281.205 960.87 275.047 Q960.87 268.682 964.296 264.955 Q967.745 261.205 973.578 261.205 Q978.809 261.205 981.842 264.585 Q984.897 267.941 984.897 273.728 M980.638 272.478 Q980.592 268.983 978.671 266.899 Q976.772 264.816 973.624 264.816 Q970.059 264.816 967.907 266.83 Q965.777 268.844 965.453 272.501 L980.638 272.478 Z\" fill=\"#000000\" fill-rule=\"evenodd\" fill-opacity=\"1\" /><path clip-path=\"url(#clip610)\" d=\"M1008.95 265.765 L1008.95 251.737 L1013.21 251.737 L1013.21 287.756 L1008.95 287.756 L1008.95 283.867 Q1007.61 286.182 1005.55 287.316 Q1003.51 288.427 1000.64 288.427 Q995.939 288.427 992.976 284.677 Q990.036 280.927 990.036 274.816 Q990.036 268.705 992.976 264.955 Q995.939 261.205 1000.64 261.205 Q1003.51 261.205 1005.55 262.339 Q1007.61 263.45 1008.95 265.765 M994.434 274.816 Q994.434 279.515 996.356 282.2 Q998.3 284.862 1001.68 284.862 Q1005.06 284.862 1007 282.2 Q1008.95 279.515 1008.95 274.816 Q1008.95 270.117 1007 267.455 Q1005.06 264.77 1001.68 264.77 Q998.3 264.77 996.356 267.455 Q994.434 270.117 994.434 274.816 Z\" fill=\"#000000\" fill-rule=\"evenodd\" fill-opacity=\"1\" /></svg>\n"
      ]
     },
     "execution_count": 32,
     "metadata": {},
     "output_type": "execute_result"
    }
   ],
   "source": [
    "using IntervalMatrices\n",
    "function int_Gauss(A, b)\n",
    "    R = IntervalMatrix(map(Interval,inv(A)))\n",
    "    A = map(Interval,R*IntervalMatrix(map(interval, A)))\n",
    "    b = map(Interval,R*IntervalBox(map(Interval, b)))\n",
    "    return A\\b\n",
    "end\n",
    "\n",
    "i = 1;\n",
    "for n ∈ index\n",
    "    A = randn(n,n)\n",
    "    b = A*ones(n)\n",
    "\n",
    "    x = int_Gauss(A,b)\n",
    "    \n",
    "    max_rad[i] = maximum(radius,x);\n",
    "    global i += 1;\n",
    "end\n",
    "plot!(index, max_rad, yscale=:log10,\n",
    "    xlabel       =\"n\",                #X軸のラベル\n",
    "    ylabel       =\"maximum radius\",   #Y軸のラベル\n",
    "    xlims        =(0,31),             #X軸の範囲\n",
    "    title=\"Error bounds of IG\",       #タイトル\n",
    "    linewidth    =2,                  #線幅\n",
    "    seriestype = :scatter,            #点プロットに　\n",
    "    # size         =(400,300),          #プロットのサイズ\n",
    "    label = \"with pre-conditioned\",   #凡例のラベル\n",
    "    legend = :topleft,                #凡例\n",
    ")"
   ]
  },
  {
   "cell_type": "markdown",
   "id": "6c3553f6-110e-4808-a527-b95fc1863b1c",
   "metadata": {},
   "source": [
    "## 事後評価を用いる高速精度保証付き数値計算法\n",
    "\n",
    "区間行列積が高速にできるのであれば、区間ガウスの消去法とは違って、次数 $n$ が数千以上のような比較的大規模な行列 にも精度保証が高速で成功する。\n",
    "\n",
    "### ノルム評価\n",
    "\n",
    "次の定理を使用する。\n",
    "\n",
    "**定理 1**　行列 $A\\in\\mathbb{R}^{n\\times n}$, $b\\in\\mathbb{R}^{n}$ に対して、線型方程式 $Ax=b$ の近似解を $\\bar{x}$ とする。いま行列 $R\\in\\mathbb{R}^{n\\times n}\\approx A^{-1}$が、\n",
    "\n",
    "$$\n",
    "\\|I-RA\\|<1\n",
    "$$\n",
    "\n",
    "をみたすとき、\n",
    "\n",
    "$$\n",
    "\\left\\|A^{-1}b-\\bar{x}\\right\\|\\le\\frac{\\|R(b-A \\bar{x})\\|}{1-\\|I-R A\\|}\n",
    "$$\n",
    "\n",
    "が成り立つ。ただし、$I$ は $n$ 次単位行列とする。\n",
    "\n",
    "\n",
    "**証明**\n",
    "$$\n",
    "\\|A^{-1}b - \\bar{x}\\|=\\|(I-(I-RA))^{-1}R(b-A\\bar{x})\\|\\le \\frac{\\|R(b-A\\bar{x})\\|}{1-\\|I-RA\\|}.\n",
    "$$\n",
    "\n",
    "ここで、最後の不等式は $\\|T\\|<1$ となる行列 $T$ に対して、$\\|(I-T)^{-1}\\|\\le 1/(1-\\|T\\|)$ となる事実（ノイマン級数の上からの評価、$T:=I-RA$）を使っている。$\\Box$"
   ]
  },
  {
   "cell_type": "code",
   "execution_count": 33,
   "id": "7bd5c91a-295b-449f-8cb9-61d7bcfb0a81",
   "metadata": {},
   "outputs": [
    {
     "name": "stdout",
     "output_type": "stream",
     "text": [
      "  2.151976 seconds (4.15 M allocations: 472.769 MiB, 2.29% gc time, 62.74% compilation time)\n",
      "  0.843475 seconds (92 allocations: 252.361 MiB, 1.68% gc time)\n"
     ]
    },
    {
     "data": {
      "text/plain": [
       "6.987724843199317e-9"
      ]
     },
     "execution_count": 33,
     "metadata": {},
     "output_type": "execute_result"
    }
   ],
   "source": [
    "include(\"IntervalFunctions.jl\")\n",
    "n = 1000\n",
    "A = randn(n,n)\n",
    "b = A*ones(n)\n",
    "@time verifylss_naive(A,b)\n",
    "@time x = verifylss_naive(A,b)\n",
    "maximum(radius,x)"
   ]
  },
  {
   "cell_type": "markdown",
   "id": "e8db0117-f652-4c3b-a30d-6a20449cdeda",
   "metadata": {},
   "source": [
    "### 成分毎評価\n",
    "\n",
    "ノルム評価の実装は若干過大評価が入るので、成分毎評価を利用する。\n",
    "\n",
    "**定理 2（山本の定理）** $A$, $R\\in\\mathbb{R}^{n\\times n}$, $b$, $\\bar{x}\\in\\mathbb{R}^n$, $G:=I-RA$ とする。このとき、$\\|G\\|_{\\infty}<1$ ならば、行列 $A$ は正則であり、次の評価が成り立つ。\n",
    "\n",
    "$$\n",
    "|A^{-1}b-\\bar{x}|\\le |R(b-A\\bar{x})| + \\frac{\\|R(b-A\\bar{x})\\|_{\\infty}}{1-\\|G\\|_{\\infty}}|G|e_n,\n",
    "$$\n",
    "\n",
    "ここで、$e_n = (1,1,\\dots,1)\\in\\mathbb{R}^n$で、行列・ベクトルの絶対値は成分毎に絶対値を取るものとし、不等式は成分毎に不等式が成立しているものとする。\n",
    "\n",
    "**証明** $A^{-1}=(RA)^{-1}R$ ($R$ は正則行列)であり、$\\|G\\|_{\\infty}<1$ より、\n",
    "\n",
    "$$\n",
    "(RA)^{-1}=(I-G)^{-1} = I + G + G^2 + \\dots = I + G(I-G)^{-1}\n",
    "$$\n",
    "\n",
    "となる。任意の $v\\in\\mathbb{R}^n$ に対して、$|v|\\le\\|v\\|_{\\infty} e_n$ であることに注意すると、\n",
    "\n",
    "\\begin{align}\n",
    "|A^{-1}b-\\bar{x}| &= |(RA)^{-1}R(b-A\\bar{x})|\\\\\n",
    "&= |(I+G(I-G)^{-1})R(b-A\\bar{x})|\\\\\n",
    "&\\le |R(b-A\\bar{x})|+|G||(I-G)^{-1}R(b-A\\bar{x})|\\\\\n",
    "&\\le |R(b-A\\bar{x})|+\\|(I-G)^{-1}\\|_{\\infty}\\|R(b-A\\bar{x})\\|_{\\infty}|G|e_n\n",
    "\\end{align}\n",
    "\n",
    "となり、$\\|(I-G)^{-1}\\|_{\\infty}\\le 1/(1-\\|G\\|_{\\infty})$ を用いると上記の評価式を得る。$\\Box$"
   ]
  },
  {
   "cell_type": "code",
   "execution_count": 34,
   "id": "74d3896c-7ec6-46a6-8ac5-6030c7efd426",
   "metadata": {},
   "outputs": [
    {
     "name": "stdout",
     "output_type": "stream",
     "text": [
      "  1.386598 seconds (1.84 M allocations: 371.762 MiB, 9.49% gc time, 37.18% compilation time)\n",
      "  1.093210 seconds (105 allocations: 267.690 MiB, 15.27% gc time)\n"
     ]
    },
    {
     "data": {
      "text/plain": [
       "1.687962922103381e-9"
      ]
     },
     "execution_count": 34,
     "metadata": {},
     "output_type": "execute_result"
    }
   ],
   "source": [
    "# include(\"IntervalFunctions.jl\")\n",
    "@time verifylss(A,b)\n",
    "@time x = verifylss(A,b)\n",
    "mean(radius,x)"
   ]
  },
  {
   "cell_type": "code",
   "execution_count": 35,
   "id": "4c1c4ac2-6705-4f3a-bca6-b97cced75830",
   "metadata": {},
   "outputs": [
    {
     "name": "stdout",
     "output_type": "stream",
     "text": [
      "  0.571001 seconds (92 allocations: 252.361 MiB, 1.75% gc time)\n",
      "mean(radius, x₁) = 6.987724816776009e-9\n",
      "  0.708592 seconds (105 allocations: 267.690 MiB, 0.74% gc time)\n",
      "mean(radius, x₂) = 1.687962922103381e-9\n"
     ]
    }
   ],
   "source": [
    "@time x₁ = verifylss_naive(A,b);\n",
    "@show mean(radius,x₁);\n",
    "@time x₂ = verifylss(A,b);\n",
    "@show mean(radius,x₂);"
   ]
  },
  {
   "cell_type": "markdown",
   "id": "65e0a9d6-648f-4f48-b1a6-4cc32e8adf23",
   "metadata": {},
   "source": [
    "## IntervalLinerAlgebra.jl\n",
    "\n",
    "最近、[IntervalLinearAlgebra.jl](https://github.com/JuliaIntervals/IntervalLinearAlgebra.jl)というパッケージがあることを知った。これを使うと区間線形方程式を求解できる。中身は前処理付き区間ガウスの消去法。"
   ]
  },
  {
   "cell_type": "code",
   "execution_count": 36,
   "id": "84077b63-2c0a-4fe6-97e4-1bb5ba876ad6",
   "metadata": {},
   "outputs": [
    {
     "name": "stdout",
     "output_type": "stream",
     "text": [
      "  4.224162 seconds (2.77 M allocations: 185.068 MiB, 0.41% gc time, 16.09% compilation time)\n",
      "maximum(radius, x) = 4.658686769687392e-10\n",
      "  4.800298 seconds (3.81 M allocations: 221.607 MiB, 0.43% gc time, 25.90% compilation time)\n",
      "maximum(radius, x) = 4.65941840666062e-10\n"
     ]
    },
    {
     "data": {
      "text/plain": [
       "4.65941840666062e-10"
      ]
     },
     "execution_count": 36,
     "metadata": {},
     "output_type": "execute_result"
    }
   ],
   "source": [
    "using IntervalLinearAlgebra\n",
    "\n",
    "n = 500\n",
    "A = randn(n,n)\n",
    "b = A*ones(n)\n",
    "\n",
    "iA = map(interval, A)\n",
    "ib = map(interval, b)\n",
    "\n",
    "@time x = solve(iA, ib)\n",
    "@show maximum(radius,x)\n",
    "\n",
    "@time x = int_Gauss(A, b)\n",
    "@show maximum(radius,x)"
   ]
  },
  {
   "cell_type": "markdown",
   "id": "63292de5-94b0-46c4-8831-f4538095c290",
   "metadata": {},
   "source": [
    "上で紹介した事後評価を用いる精度保証方法は格段に速い（少しだけ過大評価がある）。"
   ]
  },
  {
   "cell_type": "code",
   "execution_count": 37,
   "id": "4e2e9c37-8b6f-4f37-8d89-d9b468910161",
   "metadata": {},
   "outputs": [
    {
     "name": "stdout",
     "output_type": "stream",
     "text": [
      "  0.232293 seconds (105 allocations: 67.090 MiB, 6.10% gc time)\n",
      "maximum(radius, x) = 9.823210023185425e-10\n"
     ]
    }
   ],
   "source": [
    "@time x = verifylss(A, b)\n",
    "@show maximum(radius,x);"
   ]
  },
  {
   "cell_type": "markdown",
   "id": "8743de8e-728e-4b73-af01-9224d04f3037",
   "metadata": {},
   "source": [
    "IntervalLinearAlgebra.jlには他の解法も実装されているらしい（未確認）、実行してみると。"
   ]
  },
  {
   "cell_type": "code",
   "execution_count": 38,
   "id": "40041715-c664-4aa5-8dea-8652b2b3b849",
   "metadata": {},
   "outputs": [
    {
     "name": "stdout",
     "output_type": "stream",
     "text": [
      "  2.273032 seconds (8.88 M allocations: 669.300 MiB, 3.66% gc time, 85.56% compilation time)\n",
      "maximum(radius, x) = 6.961496934465572e-10\n",
      "  1.068981 seconds (2.55 M allocations: 236.377 MiB, 1.85% gc time, 70.60% compilation time)\n",
      "maximum(radius, x) = 1.0000000007300376\n",
      "  0.462733 seconds (830.33 k allocations: 113.196 MiB, 4.43% gc time, 46.76% compilation time)\n",
      "maximum(radius, x) = 4.659322927480503e-10\n",
      "  0.412819 seconds (573.49 k allocations: 98.303 MiB, 1.55% gc time, 43.69% compilation time)\n",
      "maximum(radius, x) = 4.659322927480503e-10\n"
     ]
    }
   ],
   "source": [
    "@time x = solve(iA, ib, HansenBliekRohn())\n",
    "@show maximum(radius,x)\n",
    "@time x = solve(iA, ib, LinearKrawczyk())\n",
    "@show maximum(radius,x)\n",
    "@time x = solve(iA, ib, Jacobi())\n",
    "@show maximum(radius,x)\n",
    "@time x = solve(iA, ib, GaussSeidel())\n",
    "@show maximum(radius,x);"
   ]
  },
  {
   "cell_type": "markdown",
   "id": "fcc9f0f1-e86d-46a6-956b-f29416de06c6",
   "metadata": {},
   "source": [
    "---\n",
    "\n",
    "# まとめ\n",
    "\n",
    "- 計算機言語Juliaを用いた精度保証付き数値計算の実装例（区間演算、ドット積・行列ベクトル積・行列積）を紹介\n",
    "- オープンソースのコミュニティは皆が参画しやすく開発が早い。一方で、実装が正しいかどうかを自分で検証・判断する必要あり\n",
    "- 世界中の開発者が作ったパッケージを組み合わせて、多倍長浮動小数点数の区間演算などが割と手軽に何でもできるのは面白い\n",
    "- 個人的には、学生さんの数値計算環境におすすめ（正しさの検証は必須）\n",
    "\n",
    "## 現時点のベクトプラクティス\n",
    "\n",
    "- 内積・行列ベクトル積：IntervalArithmetic.jlの実装を使う\n",
    "- 区間行列積：IntervalMatrices.jlを使う\n",
    "- 線形方程式：事後評価の方法（`verifylss`）を使う"
   ]
  },
  {
   "cell_type": "markdown",
   "id": "145bc94e-e910-4954-8676-59ca76f32c7e",
   "metadata": {},
   "source": [
    "<center>\n",
    "\n",
    "### ご清聴ありがとうございました。\n",
    "\n",
    "</center>"
   ]
  }
 ],
 "metadata": {
  "kernelspec": {
   "display_name": "Julia 1.6.3",
   "language": "julia",
   "name": "julia-1.6"
  },
  "language_info": {
   "file_extension": ".jl",
   "mimetype": "application/julia",
   "name": "julia",
   "version": "1.6.3"
  }
 },
 "nbformat": 4,
 "nbformat_minor": 5
}
